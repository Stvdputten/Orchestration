{
 "cells": [
  {
   "cell_type": "code",
   "execution_count": 1,
   "id": "d6b43775-c7b8-4fee-9fe0-c43b958e629a",
   "metadata": {},
   "outputs": [
    {
     "name": "stdout",
     "output_type": "stream",
     "text": [
      "zsh:1: no matches found: df-*-checkpoint.csv\n"
     ]
    }
   ],
   "source": [
    "!rm df-*-checkpoint.csv"
   ]
  },
  {
   "cell_type": "code",
   "execution_count": 2,
   "id": "3a4fab71-c339-43a9-a58d-9b731121688a",
   "metadata": {},
   "outputs": [],
   "source": [
    "import os\n",
    "import glob"
   ]
  },
  {
   "cell_type": "code",
   "execution_count": 3,
   "id": "32348254-154d-44f7-b757-e7899604829c",
   "metadata": {},
   "outputs": [],
   "source": [
    "import pandas as pd\n",
    "import numpy as np\n",
    "import seaborn as sns\n",
    "import matplotlib.pyplot as plt"
   ]
  },
  {
   "cell_type": "markdown",
   "id": "15394db5-cf50-4a47-8a11-8a257848ac7b",
   "metadata": {},
   "source": [
    "# Load all datasets"
   ]
  },
  {
   "cell_type": "code",
   "execution_count": 4,
   "id": "b1d6df6a-146f-4d88-8a8a-f096d8f5304d",
   "metadata": {},
   "outputs": [
    {
     "name": "stdout",
     "output_type": "stream",
     "text": [
      "(555, 18)\n"
     ]
    }
   ],
   "source": [
    "all_files = glob.glob(\"*.csv\")\n",
    "df = pd.concat((pd.read_csv(f) for f in all_files))\n",
    "df = df.drop_duplicates()\n",
    "print(df.shape)"
   ]
  },
  {
   "cell_type": "code",
   "execution_count": 5,
   "id": "a46d278c-f61e-4512-9ada-07d07df3a77a",
   "metadata": {},
   "outputs": [],
   "source": [
    "df['Orchestrator'] = df['Orchestrator'].astype('category')\n",
    "df['Benchmark'] = df['Benchmark'].astype('category')\n",
    "df['Exp'] = df['Exp'].astype('category')\n",
    "# df['Latency'] = df['Latency']\n",
    "df['Requests'] = df['Requests'].astype(int)"
   ]
  },
  {
   "cell_type": "code",
   "execution_count": 6,
   "id": "d32bca9a-a8e6-414b-ab60-a32e7faef505",
   "metadata": {},
   "outputs": [],
   "source": [
    "df_0 = df.loc[df['Exp'] == 'exp0']\n",
    "df_1 = df.loc[df['Exp'] == 'exp1']\n",
    "df_2 = df.loc[df['Exp'] == 'exp2']\n",
    "df_3 = df.loc[df['Exp'] == 'exp3']\n",
    "df_4 = df.loc[df['Exp'] == 'exp4']\n",
    "df_5 = df.loc[df['Exp'] == 'exp5']\n",
    "df_6 = df.loc[df['Exp'] == 'exp6']\n",
    "df_7 = df.loc[df['Exp'] == 'exp7']\n",
    "df_8 = df.loc[df['Exp'] == 'exp8']\n",
    "df_9 = df.loc[df['Exp'] == 'exp9']\n",
    "df_10 = df.loc[df['Exp'] == 'exp10']\n",
    "df_11 = df.loc[df['Exp'] == 'exp11']"
   ]
  },
  {
   "cell_type": "code",
   "execution_count": 7,
   "id": "3d6a94cd-8c26-4855-aa23-7f79dc5f897d",
   "metadata": {},
   "outputs": [],
   "source": [
    "# Global settings\n",
    "fontsize = 20\n",
    "legend_location = \"lower right\""
   ]
  },
  {
   "cell_type": "markdown",
   "id": "337ba25b-55cd-4a97-b0bd-99185182229b",
   "metadata": {},
   "source": [
    "# Exp6"
   ]
  },
  {
   "cell_type": "code",
   "execution_count": 8,
   "id": "bbbf10bb-d8dc-483f-b425-e63e0bc7ce6e",
   "metadata": {},
   "outputs": [
    {
     "data": {
      "text/html": [
       "<div>\n",
       "<style scoped>\n",
       "    .dataframe tbody tr th:only-of-type {\n",
       "        vertical-align: middle;\n",
       "    }\n",
       "\n",
       "    .dataframe tbody tr th {\n",
       "        vertical-align: top;\n",
       "    }\n",
       "\n",
       "    .dataframe thead th {\n",
       "        text-align: right;\n",
       "    }\n",
       "</style>\n",
       "<table border=\"1\" class=\"dataframe\">\n",
       "  <thead>\n",
       "    <tr style=\"text-align: right;\">\n",
       "      <th></th>\n",
       "      <th>Latency</th>\n",
       "      <th>Requests</th>\n",
       "      <th>Throughput</th>\n",
       "      <th>Benchmark</th>\n",
       "      <th>Infinite</th>\n",
       "      <th>Vertical</th>\n",
       "      <th>Threads</th>\n",
       "      <th>Connections</th>\n",
       "      <th>ReqSec</th>\n",
       "    </tr>\n",
       "  </thead>\n",
       "  <tbody>\n",
       "    <tr>\n",
       "      <th>0</th>\n",
       "      <td>6.43</td>\n",
       "      <td>1500</td>\n",
       "      <td>43534.0</td>\n",
       "      <td>hr</td>\n",
       "      <td>1</td>\n",
       "      <td>1</td>\n",
       "      <td>16</td>\n",
       "      <td>1024</td>\n",
       "      <td>1450.22</td>\n",
       "    </tr>\n",
       "    <tr>\n",
       "      <th>1</th>\n",
       "      <td>6.73</td>\n",
       "      <td>1500</td>\n",
       "      <td>43591.0</td>\n",
       "      <td>sn</td>\n",
       "      <td>1</td>\n",
       "      <td>1</td>\n",
       "      <td>16</td>\n",
       "      <td>1024</td>\n",
       "      <td>1451.00</td>\n",
       "    </tr>\n",
       "    <tr>\n",
       "      <th>2</th>\n",
       "      <td>4.69</td>\n",
       "      <td>1500</td>\n",
       "      <td>43528.0</td>\n",
       "      <td>mm</td>\n",
       "      <td>1</td>\n",
       "      <td>1</td>\n",
       "      <td>16</td>\n",
       "      <td>1024</td>\n",
       "      <td>1450.00</td>\n",
       "    </tr>\n",
       "    <tr>\n",
       "      <th>3</th>\n",
       "      <td>4.47</td>\n",
       "      <td>1500</td>\n",
       "      <td>43457.0</td>\n",
       "      <td>mm</td>\n",
       "      <td>1</td>\n",
       "      <td>1</td>\n",
       "      <td>8</td>\n",
       "      <td>1024</td>\n",
       "      <td>1447.07</td>\n",
       "    </tr>\n",
       "    <tr>\n",
       "      <th>4</th>\n",
       "      <td>6.47</td>\n",
       "      <td>1500</td>\n",
       "      <td>44445.0</td>\n",
       "      <td>hr</td>\n",
       "      <td>1</td>\n",
       "      <td>1</td>\n",
       "      <td>8</td>\n",
       "      <td>512</td>\n",
       "      <td>1480.64</td>\n",
       "    </tr>\n",
       "  </tbody>\n",
       "</table>\n",
       "</div>"
      ],
      "text/plain": [
       "   Latency  Requests  Throughput Benchmark  Infinite  Vertical  Threads  \\\n",
       "0     6.43      1500     43534.0        hr         1         1       16   \n",
       "1     6.73      1500     43591.0        sn         1         1       16   \n",
       "2     4.69      1500     43528.0        mm         1         1       16   \n",
       "3     4.47      1500     43457.0        mm         1         1        8   \n",
       "4     6.47      1500     44445.0        hr         1         1        8   \n",
       "\n",
       "   Connections   ReqSec  \n",
       "0         1024  1450.22  \n",
       "1         1024  1451.00  \n",
       "2         1024  1450.00  \n",
       "3         1024  1447.07  \n",
       "4          512  1480.64  "
      ]
     },
     "execution_count": 8,
     "metadata": {},
     "output_type": "execute_result"
    }
   ],
   "source": [
    "df_6.iloc[:,[0,1,2,5,6,10,11,12,-1]].head()"
   ]
  },
  {
   "cell_type": "code",
   "execution_count": 9,
   "id": "2dfe3385-c07a-4480-84a4-49e1c7620bcd",
   "metadata": {},
   "outputs": [
    {
     "data": {
      "text/plain": [
       "(60, 18)"
      ]
     },
     "execution_count": 9,
     "metadata": {},
     "output_type": "execute_result"
    }
   ],
   "source": [
    "df_6.shape"
   ]
  },
  {
   "cell_type": "code",
   "execution_count": 10,
   "id": "99e6fa35-3d16-44cc-9021-fa7819387376",
   "metadata": {},
   "outputs": [],
   "source": [
    "labels = df_6['Benchmark'].unique()"
   ]
  },
  {
   "cell_type": "code",
   "execution_count": 11,
   "id": "b861d4db-10b5-4617-9562-bdea3d8fd154",
   "metadata": {},
   "outputs": [
    {
     "data": {
      "text/html": [
       "<div>\n",
       "<style scoped>\n",
       "    .dataframe tbody tr th:only-of-type {\n",
       "        vertical-align: middle;\n",
       "    }\n",
       "\n",
       "    .dataframe tbody tr th {\n",
       "        vertical-align: top;\n",
       "    }\n",
       "\n",
       "    .dataframe thead th {\n",
       "        text-align: right;\n",
       "    }\n",
       "</style>\n",
       "<table border=\"1\" class=\"dataframe\">\n",
       "  <thead>\n",
       "    <tr style=\"text-align: right;\">\n",
       "      <th></th>\n",
       "      <th>Latency</th>\n",
       "      <th>Requests</th>\n",
       "      <th>Throughput</th>\n",
       "      <th>Baseline</th>\n",
       "      <th>Orchestrator</th>\n",
       "      <th>Benchmark</th>\n",
       "      <th>Infinite</th>\n",
       "      <th>Exp</th>\n",
       "      <th>Availability</th>\n",
       "      <th>Horizontal</th>\n",
       "      <th>Vertical</th>\n",
       "      <th>Threads</th>\n",
       "      <th>Connections</th>\n",
       "      <th>Duration</th>\n",
       "      <th>Mean</th>\n",
       "      <th>Max</th>\n",
       "      <th>StdDev</th>\n",
       "      <th>ReqSec</th>\n",
       "    </tr>\n",
       "  </thead>\n",
       "  <tbody>\n",
       "    <tr>\n",
       "      <th>0</th>\n",
       "      <td>4.80</td>\n",
       "      <td>2500</td>\n",
       "      <td>74941.0</td>\n",
       "      <td>0</td>\n",
       "      <td>swarm</td>\n",
       "      <td>hr</td>\n",
       "      <td>1</td>\n",
       "      <td>exp5</td>\n",
       "      <td>0</td>\n",
       "      <td>1</td>\n",
       "      <td>1</td>\n",
       "      <td>4</td>\n",
       "      <td>512</td>\n",
       "      <td>30</td>\n",
       "      <td>1.789</td>\n",
       "      <td>9.440</td>\n",
       "      <td>0.961</td>\n",
       "      <td>2497.97</td>\n",
       "    </tr>\n",
       "    <tr>\n",
       "      <th>1</th>\n",
       "      <td>8790.00</td>\n",
       "      <td>2500</td>\n",
       "      <td>61911.0</td>\n",
       "      <td>0</td>\n",
       "      <td>swarm</td>\n",
       "      <td>sn</td>\n",
       "      <td>1</td>\n",
       "      <td>exp5</td>\n",
       "      <td>0</td>\n",
       "      <td>1</td>\n",
       "      <td>1</td>\n",
       "      <td>4</td>\n",
       "      <td>512</td>\n",
       "      <td>30</td>\n",
       "      <td>574.823</td>\n",
       "      <td>11591.680</td>\n",
       "      <td>1360.495</td>\n",
       "      <td>2063.58</td>\n",
       "    </tr>\n",
       "    <tr>\n",
       "      <th>2</th>\n",
       "      <td>23.02</td>\n",
       "      <td>2500</td>\n",
       "      <td>74935.0</td>\n",
       "      <td>0</td>\n",
       "      <td>swarm</td>\n",
       "      <td>mm</td>\n",
       "      <td>1</td>\n",
       "      <td>exp5</td>\n",
       "      <td>0</td>\n",
       "      <td>1</td>\n",
       "      <td>1</td>\n",
       "      <td>4</td>\n",
       "      <td>512</td>\n",
       "      <td>30</td>\n",
       "      <td>4.449</td>\n",
       "      <td>1464.320</td>\n",
       "      <td>22.945</td>\n",
       "      <td>2497.66</td>\n",
       "    </tr>\n",
       "    <tr>\n",
       "      <th>3</th>\n",
       "      <td>5.02</td>\n",
       "      <td>3000</td>\n",
       "      <td>88434.0</td>\n",
       "      <td>0</td>\n",
       "      <td>swarm</td>\n",
       "      <td>hr</td>\n",
       "      <td>1</td>\n",
       "      <td>exp5</td>\n",
       "      <td>0</td>\n",
       "      <td>1</td>\n",
       "      <td>1</td>\n",
       "      <td>4</td>\n",
       "      <td>512</td>\n",
       "      <td>30</td>\n",
       "      <td>1.842</td>\n",
       "      <td>9.368</td>\n",
       "      <td>1.005</td>\n",
       "      <td>2947.61</td>\n",
       "    </tr>\n",
       "    <tr>\n",
       "      <th>4</th>\n",
       "      <td>21350.00</td>\n",
       "      <td>3000</td>\n",
       "      <td>41558.0</td>\n",
       "      <td>0</td>\n",
       "      <td>swarm</td>\n",
       "      <td>sn</td>\n",
       "      <td>1</td>\n",
       "      <td>exp5</td>\n",
       "      <td>0</td>\n",
       "      <td>1</td>\n",
       "      <td>1</td>\n",
       "      <td>4</td>\n",
       "      <td>512</td>\n",
       "      <td>30</td>\n",
       "      <td>6283.150</td>\n",
       "      <td>24952.832</td>\n",
       "      <td>5660.206</td>\n",
       "      <td>1382.08</td>\n",
       "    </tr>\n",
       "    <tr>\n",
       "      <th>5</th>\n",
       "      <td>189.57</td>\n",
       "      <td>3000</td>\n",
       "      <td>89821.0</td>\n",
       "      <td>0</td>\n",
       "      <td>swarm</td>\n",
       "      <td>mm</td>\n",
       "      <td>1</td>\n",
       "      <td>exp5</td>\n",
       "      <td>0</td>\n",
       "      <td>1</td>\n",
       "      <td>1</td>\n",
       "      <td>4</td>\n",
       "      <td>512</td>\n",
       "      <td>30</td>\n",
       "      <td>9.120</td>\n",
       "      <td>392.448</td>\n",
       "      <td>29.216</td>\n",
       "      <td>2994.16</td>\n",
       "    </tr>\n",
       "    <tr>\n",
       "      <th>6</th>\n",
       "      <td>24940.00</td>\n",
       "      <td>3500</td>\n",
       "      <td>39197.0</td>\n",
       "      <td>0</td>\n",
       "      <td>swarm</td>\n",
       "      <td>sn</td>\n",
       "      <td>1</td>\n",
       "      <td>exp5</td>\n",
       "      <td>0</td>\n",
       "      <td>1</td>\n",
       "      <td>1</td>\n",
       "      <td>4</td>\n",
       "      <td>512</td>\n",
       "      <td>30</td>\n",
       "      <td>11347.149</td>\n",
       "      <td>27754.496</td>\n",
       "      <td>6407.690</td>\n",
       "      <td>1304.86</td>\n",
       "    </tr>\n",
       "    <tr>\n",
       "      <th>7</th>\n",
       "      <td>333.82</td>\n",
       "      <td>3500</td>\n",
       "      <td>104201.0</td>\n",
       "      <td>0</td>\n",
       "      <td>swarm</td>\n",
       "      <td>mm</td>\n",
       "      <td>1</td>\n",
       "      <td>exp5</td>\n",
       "      <td>0</td>\n",
       "      <td>1</td>\n",
       "      <td>1</td>\n",
       "      <td>4</td>\n",
       "      <td>512</td>\n",
       "      <td>30</td>\n",
       "      <td>14.358</td>\n",
       "      <td>610.816</td>\n",
       "      <td>51.898</td>\n",
       "      <td>3473.38</td>\n",
       "    </tr>\n",
       "    <tr>\n",
       "      <th>8</th>\n",
       "      <td>5.10</td>\n",
       "      <td>3500</td>\n",
       "      <td>104212.0</td>\n",
       "      <td>0</td>\n",
       "      <td>swarm</td>\n",
       "      <td>hr</td>\n",
       "      <td>1</td>\n",
       "      <td>exp5</td>\n",
       "      <td>0</td>\n",
       "      <td>1</td>\n",
       "      <td>1</td>\n",
       "      <td>4</td>\n",
       "      <td>512</td>\n",
       "      <td>30</td>\n",
       "      <td>1.881</td>\n",
       "      <td>9.648</td>\n",
       "      <td>1.028</td>\n",
       "      <td>3473.82</td>\n",
       "    </tr>\n",
       "    <tr>\n",
       "      <th>9</th>\n",
       "      <td>723.46</td>\n",
       "      <td>4000</td>\n",
       "      <td>118012.0</td>\n",
       "      <td>0</td>\n",
       "      <td>swarm</td>\n",
       "      <td>mm</td>\n",
       "      <td>1</td>\n",
       "      <td>exp5</td>\n",
       "      <td>0</td>\n",
       "      <td>1</td>\n",
       "      <td>1</td>\n",
       "      <td>4</td>\n",
       "      <td>512</td>\n",
       "      <td>30</td>\n",
       "      <td>52.730</td>\n",
       "      <td>1399.808</td>\n",
       "      <td>145.507</td>\n",
       "      <td>3933.98</td>\n",
       "    </tr>\n",
       "    <tr>\n",
       "      <th>10</th>\n",
       "      <td>5.24</td>\n",
       "      <td>4000</td>\n",
       "      <td>119883.0</td>\n",
       "      <td>0</td>\n",
       "      <td>swarm</td>\n",
       "      <td>hr</td>\n",
       "      <td>1</td>\n",
       "      <td>exp5</td>\n",
       "      <td>0</td>\n",
       "      <td>1</td>\n",
       "      <td>1</td>\n",
       "      <td>4</td>\n",
       "      <td>512</td>\n",
       "      <td>30</td>\n",
       "      <td>1.947</td>\n",
       "      <td>10.816</td>\n",
       "      <td>1.065</td>\n",
       "      <td>3996.07</td>\n",
       "    </tr>\n",
       "    <tr>\n",
       "      <th>11</th>\n",
       "      <td>22690.00</td>\n",
       "      <td>4000</td>\n",
       "      <td>37359.0</td>\n",
       "      <td>0</td>\n",
       "      <td>swarm</td>\n",
       "      <td>sn</td>\n",
       "      <td>1</td>\n",
       "      <td>exp5</td>\n",
       "      <td>0</td>\n",
       "      <td>1</td>\n",
       "      <td>1</td>\n",
       "      <td>4</td>\n",
       "      <td>512</td>\n",
       "      <td>30</td>\n",
       "      <td>11848.728</td>\n",
       "      <td>25575.424</td>\n",
       "      <td>6175.074</td>\n",
       "      <td>1244.35</td>\n",
       "    </tr>\n",
       "    <tr>\n",
       "      <th>12</th>\n",
       "      <td>24180.00</td>\n",
       "      <td>5000</td>\n",
       "      <td>36689.0</td>\n",
       "      <td>0</td>\n",
       "      <td>swarm</td>\n",
       "      <td>sn</td>\n",
       "      <td>1</td>\n",
       "      <td>exp5</td>\n",
       "      <td>0</td>\n",
       "      <td>1</td>\n",
       "      <td>1</td>\n",
       "      <td>4</td>\n",
       "      <td>512</td>\n",
       "      <td>30</td>\n",
       "      <td>13106.281</td>\n",
       "      <td>27770.880</td>\n",
       "      <td>5559.255</td>\n",
       "      <td>1221.31</td>\n",
       "    </tr>\n",
       "    <tr>\n",
       "      <th>13</th>\n",
       "      <td>4330.00</td>\n",
       "      <td>5000</td>\n",
       "      <td>136602.0</td>\n",
       "      <td>0</td>\n",
       "      <td>swarm</td>\n",
       "      <td>mm</td>\n",
       "      <td>1</td>\n",
       "      <td>exp5</td>\n",
       "      <td>0</td>\n",
       "      <td>1</td>\n",
       "      <td>1</td>\n",
       "      <td>4</td>\n",
       "      <td>512</td>\n",
       "      <td>30</td>\n",
       "      <td>1622.374</td>\n",
       "      <td>6225.920</td>\n",
       "      <td>957.324</td>\n",
       "      <td>4553.09</td>\n",
       "    </tr>\n",
       "    <tr>\n",
       "      <th>14</th>\n",
       "      <td>5.61</td>\n",
       "      <td>5000</td>\n",
       "      <td>148632.0</td>\n",
       "      <td>0</td>\n",
       "      <td>swarm</td>\n",
       "      <td>hr</td>\n",
       "      <td>1</td>\n",
       "      <td>exp5</td>\n",
       "      <td>0</td>\n",
       "      <td>1</td>\n",
       "      <td>1</td>\n",
       "      <td>4</td>\n",
       "      <td>512</td>\n",
       "      <td>30</td>\n",
       "      <td>2.085</td>\n",
       "      <td>10.856</td>\n",
       "      <td>1.139</td>\n",
       "      <td>4954.54</td>\n",
       "    </tr>\n",
       "    <tr>\n",
       "      <th>15</th>\n",
       "      <td>8670.00</td>\n",
       "      <td>6000</td>\n",
       "      <td>136048.0</td>\n",
       "      <td>0</td>\n",
       "      <td>swarm</td>\n",
       "      <td>mm</td>\n",
       "      <td>1</td>\n",
       "      <td>exp5</td>\n",
       "      <td>0</td>\n",
       "      <td>1</td>\n",
       "      <td>1</td>\n",
       "      <td>4</td>\n",
       "      <td>512</td>\n",
       "      <td>30</td>\n",
       "      <td>4840.401</td>\n",
       "      <td>10952.704</td>\n",
       "      <td>1644.772</td>\n",
       "      <td>4535.07</td>\n",
       "    </tr>\n",
       "    <tr>\n",
       "      <th>16</th>\n",
       "      <td>6.07</td>\n",
       "      <td>6000</td>\n",
       "      <td>178566.0</td>\n",
       "      <td>0</td>\n",
       "      <td>swarm</td>\n",
       "      <td>hr</td>\n",
       "      <td>1</td>\n",
       "      <td>exp5</td>\n",
       "      <td>0</td>\n",
       "      <td>1</td>\n",
       "      <td>1</td>\n",
       "      <td>4</td>\n",
       "      <td>512</td>\n",
       "      <td>30</td>\n",
       "      <td>2.249</td>\n",
       "      <td>12.344</td>\n",
       "      <td>1.244</td>\n",
       "      <td>5952.27</td>\n",
       "    </tr>\n",
       "    <tr>\n",
       "      <th>17</th>\n",
       "      <td>25070.00</td>\n",
       "      <td>6000</td>\n",
       "      <td>35948.0</td>\n",
       "      <td>0</td>\n",
       "      <td>swarm</td>\n",
       "      <td>sn</td>\n",
       "      <td>1</td>\n",
       "      <td>exp5</td>\n",
       "      <td>0</td>\n",
       "      <td>1</td>\n",
       "      <td>1</td>\n",
       "      <td>4</td>\n",
       "      <td>512</td>\n",
       "      <td>30</td>\n",
       "      <td>14823.555</td>\n",
       "      <td>26853.376</td>\n",
       "      <td>5662.672</td>\n",
       "      <td>1197.56</td>\n",
       "    </tr>\n",
       "  </tbody>\n",
       "</table>\n",
       "</div>"
      ],
      "text/plain": [
       "     Latency  Requests  Throughput  Baseline Orchestrator Benchmark  Infinite  \\\n",
       "0       4.80      2500     74941.0         0        swarm        hr         1   \n",
       "1    8790.00      2500     61911.0         0        swarm        sn         1   \n",
       "2      23.02      2500     74935.0         0        swarm        mm         1   \n",
       "3       5.02      3000     88434.0         0        swarm        hr         1   \n",
       "4   21350.00      3000     41558.0         0        swarm        sn         1   \n",
       "5     189.57      3000     89821.0         0        swarm        mm         1   \n",
       "6   24940.00      3500     39197.0         0        swarm        sn         1   \n",
       "7     333.82      3500    104201.0         0        swarm        mm         1   \n",
       "8       5.10      3500    104212.0         0        swarm        hr         1   \n",
       "9     723.46      4000    118012.0         0        swarm        mm         1   \n",
       "10      5.24      4000    119883.0         0        swarm        hr         1   \n",
       "11  22690.00      4000     37359.0         0        swarm        sn         1   \n",
       "12  24180.00      5000     36689.0         0        swarm        sn         1   \n",
       "13   4330.00      5000    136602.0         0        swarm        mm         1   \n",
       "14      5.61      5000    148632.0         0        swarm        hr         1   \n",
       "15   8670.00      6000    136048.0         0        swarm        mm         1   \n",
       "16      6.07      6000    178566.0         0        swarm        hr         1   \n",
       "17  25070.00      6000     35948.0         0        swarm        sn         1   \n",
       "\n",
       "     Exp  Availability  Horizontal  Vertical  Threads  Connections  Duration  \\\n",
       "0   exp5             0           1         1        4          512        30   \n",
       "1   exp5             0           1         1        4          512        30   \n",
       "2   exp5             0           1         1        4          512        30   \n",
       "3   exp5             0           1         1        4          512        30   \n",
       "4   exp5             0           1         1        4          512        30   \n",
       "5   exp5             0           1         1        4          512        30   \n",
       "6   exp5             0           1         1        4          512        30   \n",
       "7   exp5             0           1         1        4          512        30   \n",
       "8   exp5             0           1         1        4          512        30   \n",
       "9   exp5             0           1         1        4          512        30   \n",
       "10  exp5             0           1         1        4          512        30   \n",
       "11  exp5             0           1         1        4          512        30   \n",
       "12  exp5             0           1         1        4          512        30   \n",
       "13  exp5             0           1         1        4          512        30   \n",
       "14  exp5             0           1         1        4          512        30   \n",
       "15  exp5             0           1         1        4          512        30   \n",
       "16  exp5             0           1         1        4          512        30   \n",
       "17  exp5             0           1         1        4          512        30   \n",
       "\n",
       "         Mean        Max    StdDev   ReqSec  \n",
       "0       1.789      9.440     0.961  2497.97  \n",
       "1     574.823  11591.680  1360.495  2063.58  \n",
       "2       4.449   1464.320    22.945  2497.66  \n",
       "3       1.842      9.368     1.005  2947.61  \n",
       "4    6283.150  24952.832  5660.206  1382.08  \n",
       "5       9.120    392.448    29.216  2994.16  \n",
       "6   11347.149  27754.496  6407.690  1304.86  \n",
       "7      14.358    610.816    51.898  3473.38  \n",
       "8       1.881      9.648     1.028  3473.82  \n",
       "9      52.730   1399.808   145.507  3933.98  \n",
       "10      1.947     10.816     1.065  3996.07  \n",
       "11  11848.728  25575.424  6175.074  1244.35  \n",
       "12  13106.281  27770.880  5559.255  1221.31  \n",
       "13   1622.374   6225.920   957.324  4553.09  \n",
       "14      2.085     10.856     1.139  4954.54  \n",
       "15   4840.401  10952.704  1644.772  4535.07  \n",
       "16      2.249     12.344     1.244  5952.27  \n",
       "17  14823.555  26853.376  5662.672  1197.56  "
      ]
     },
     "execution_count": 11,
     "metadata": {},
     "output_type": "execute_result"
    }
   ],
   "source": [
    "df_5"
   ]
  },
  {
   "cell_type": "code",
   "execution_count": 55,
   "id": "95f71524-c6b6-40a9-835f-3175cc88a314",
   "metadata": {},
   "outputs": [
    {
     "data": {
      "text/plain": [
       "<AxesSubplot:xlabel='Requests', ylabel='Latency (milliseconds)'>"
      ]
     },
     "execution_count": 55,
     "metadata": {},
     "output_type": "execute_result"
    }
   ],
   "source": [
    "p.axes[0][0]"
   ]
  },
  {
   "cell_type": "code",
   "execution_count": 77,
   "id": "9245132b-a3f6-468c-a632-58917a147282",
   "metadata": {},
   "outputs": [
    {
     "data": {
      "image/png": "[encoded data removed]",
      "text/plain": [
       "<Figure size 421.25x360 with 1 Axes>"
      ]
     },
     "metadata": {
      "needs_background": "light"
     },
     "output_type": "display_data"
    }
   ],
   "source": [
    "# fig, ax = plt.subplots(figsize=(8,8))\n",
    "# plt.figure(1)\n",
    "labels = [\"sn\", \"mm\", \"hr\"]\n",
    "\n",
    "# p = sns.catplot(x=\"Requests\", y=\"Latency\", data=df_6, hue=\"Benchmark\")\n",
    "p = sns.catplot(x=\"Benchmark\", y=\"Latency\",data=df_6, order=[\"sn\",\"mm\",\"hr\"], hue=\"Requests\")\n",
    "\n",
    "# p.legend(loc=\"center\", fontsize=20)\n",
    "p.set_xlabels('Requests', fontsize=15)\n",
    "p.set_ylabels('Latency (milliseconds)', fontsize=fontsize)\n",
    "# p.axes.get_xticks()\n",
    "xticks = [int(tick) for tick in p.axes[0][0].get_xticks()]\n",
    "# plt.yticks(fontsize=15)\n",
    "# plt.xticks(xticks, fontsize=15)\n",
    "# plt.xlim(\n",
    "plt.savefig(\"Figures/exp6-all-t8-t16-c512-c1024.png\", bbox_inches='tight')"
   ]
  },
  {
   "cell_type": "code",
   "execution_count": 84,
   "id": "10855345-ca97-4849-a520-d0c6069da329",
   "metadata": {},
   "outputs": [
    {
     "data": {
      "text/plain": [
       "<matplotlib.legend.Legend at 0x28c3ae2e0>"
      ]
     },
     "execution_count": 84,
     "metadata": {},
     "output_type": "execute_result"
    }
   ],
   "source": [
    "p.axes[0][1].legend()\n"
   ]
  },
  {
   "cell_type": "code",
   "execution_count": 93,
   "id": "0f3f245c-d88e-4da6-a7e5-0e89de82f03e",
   "metadata": {},
   "outputs": [
    {
     "data": {
      "image/png": "[encoded data removed]",
      "text/plain": [
       "<Figure size 720x720 with 4 Axes>"
      ]
     },
     "metadata": {
      "needs_background": "light"
     },
     "output_type": "display_data"
    }
   ],
   "source": [
    "# fig, ax = plt.subplots(figsize=(8,8))\n",
    "# plt.figure(1)\n",
    "labels = [\"sn\", \"mm\", \"hr\"]\n",
    "\n",
    "# p = sns.catplot(x=\"Requests\", y=\"Latency\", data=df_6, hue=\"Benchmark\")\n",
    "p = sns.catplot(x=\"Benchmark\", y=\"Latency\", row=\"Threads\", col=\"Connections\",data=df_6, order=[\"sn\",\"mm\",\"hr\"], hue=\"Requests\", legend=\"\")\n",
    "\n",
    "# p.legend(loc=\"center\", fontsize=20)\n",
    "p.set_xlabels('Requests', fontsize=15)\n",
    "p.set_ylabels('Latency (milliseconds)', fontsize=fontsize)\n",
    "# p.axes.get_xticks()\n",
    "xticks = [int(tick) for tick in p.axes[0][0].get_xticks()]\n",
    "# yticks = [int(tick) for tick in p.axes[0][0].get_yticks()]\n",
    "\n",
    "p.set_yticklabels(, fontsize=15)\n",
    "p.set_xticklabels(xticks, fontsize=15)\n",
    "p.axes[0][1].legend(title=\"Requests\" ,fontsize=15)\n",
    "# plt.xticks(xticks, fontsize=15)\n",
    "# plt.remo\n",
    "# plt.xlim(\n",
    "plt.savefig(\"Figures/exp6-t8-t16-c512-c1024.png\", bbox_inches='tight')"
   ]
  },
  {
   "cell_type": "code",
   "execution_count": null,
   "id": "4a7244ca-0d9e-40d9-8275-ae80fcf7b57d",
   "metadata": {},
   "outputs": [],
   "source": [
    "# g = sns.FacetGrid(df_6, col=\"Threads\", hue=\"Benchmark\", height=6, aspect=.5)\n",
    "# g.map(sns.barplot(x=\"Requests\", y=\"Latency\", data=df_6, order=[\"sn\",\"mm\",\"hr\"], hue=\"Benchmark\"))\n"
   ]
  },
  {
   "cell_type": "code",
   "execution_count": 38,
   "id": "51a115a3-4aff-44a1-86d6-756226776cc2",
   "metadata": {},
   "outputs": [
    {
     "data": {
      "text/plain": [
       "<AxesSubplot:xlabel='Requests', ylabel='Latency'>"
      ]
     },
     "execution_count": 38,
     "metadata": {},
     "output_type": "execute_result"
    },
    {
     "data": {
      "image/png": "[encoded data removed]",
      "text/plain": [
       "<Figure size 432x288 with 1 Axes>"
      ]
     },
     "metadata": {
      "needs_background": "light"
     },
     "output_type": "display_data"
    }
   ],
   "source": [
    "\n",
    "# sns.barplot(x=\"Requests\", y=\"Latency\", data=df_6, hue=\"Benchmark\")\n"
   ]
  },
  {
   "cell_type": "markdown",
   "id": "6909dd1d-4259-4a06-ba8b-2d73ef213765",
   "metadata": {},
   "source": [
    "Best plot because hr and mm doesn't break between 3500 and 4000, which we also saw in exp5"
   ]
  },
  {
   "cell_type": "code",
   "execution_count": null,
   "id": "e07fe78f-b3e0-4e3e-ac13-f72432492a0b",
   "metadata": {},
   "outputs": [
    {
     "ename": "AttributeError",
     "evalue": "'FacetGrid' object has no attribute 'set_xlabel'",
     "output_type": "error",
     "traceback": [
      "\u001b[0;31m---------------------------------------------------------------------------\u001b[0m",
      "\u001b[0;31mAttributeError\u001b[0m                            Traceback (most recent call last)",
      "Input \u001b[0;32mIn [41]\u001b[0m, in \u001b[0;36m<module>\u001b[0;34m\u001b[0m\n\u001b[1;32m      1\u001b[0m p \u001b[38;5;241m=\u001b[39m sns\u001b[38;5;241m.\u001b[39mcatplot(x\u001b[38;5;241m=\u001b[39m\u001b[38;5;124m\"\u001b[39m\u001b[38;5;124mBenchmark\u001b[39m\u001b[38;5;124m\"\u001b[39m, y\u001b[38;5;241m=\u001b[39m\u001b[38;5;124m\"\u001b[39m\u001b[38;5;124mLatency\u001b[39m\u001b[38;5;124m\"\u001b[39m, data\u001b[38;5;241m=\u001b[39mdf_6, order\u001b[38;5;241m=\u001b[39m[\u001b[38;5;124m\"\u001b[39m\u001b[38;5;124msn\u001b[39m\u001b[38;5;124m\"\u001b[39m,\u001b[38;5;124m\"\u001b[39m\u001b[38;5;124mmm\u001b[39m\u001b[38;5;124m\"\u001b[39m,\u001b[38;5;124m\"\u001b[39m\u001b[38;5;124mhr\u001b[39m\u001b[38;5;124m\"\u001b[39m], hue\u001b[38;5;241m=\u001b[39m\u001b[38;5;124m\"\u001b[39m\u001b[38;5;124mRequests\u001b[39m\u001b[38;5;124m\"\u001b[39m)\n\u001b[1;32m      2\u001b[0m \u001b[38;5;66;03m# p.legend(loc=\"center\", fontsize=20)\u001b[39;00m\n\u001b[0;32m----> 3\u001b[0m \u001b[43mp\u001b[49m\u001b[38;5;241;43m.\u001b[39;49m\u001b[43mset_xlabel\u001b[49m(\u001b[38;5;124m'\u001b[39m\u001b[38;5;124mRequests\u001b[39m\u001b[38;5;124m'\u001b[39m, fontsize\u001b[38;5;241m=\u001b[39m\u001b[38;5;241m15\u001b[39m)\n\u001b[1;32m      4\u001b[0m p\u001b[38;5;241m.\u001b[39mset_ylabel(\u001b[38;5;124m'\u001b[39m\u001b[38;5;124mLatency (milliseconds)\u001b[39m\u001b[38;5;124m'\u001b[39m, fontsize\u001b[38;5;241m=\u001b[39mfontsize)\n",
      "\u001b[0;31mAttributeError\u001b[0m: 'FacetGrid' object has no attribute 'set_xlabel'"
     ]
    },
    {
     "data": {
      "image/png": "[encoded data removed]",
      "text/plain": [
       "<Figure size 421.25x360 with 1 Axes>"
      ]
     },
     "metadata": {
      "needs_background": "light"
     },
     "output_type": "display_data"
    }
   ],
   "source": [
    "p = sns.catplot(x=\"Benchmark\", y=\"Latency\", data=df_6, order=[\"sn\",\"mm\",\"hr\"], hue=\"Requests\")\n",
    "# p.legend(loc=\"center\", fontsize=20)\n",
    "p.set_xticklabels('Requests', fontsize=15)\n",
    "p.set_ylabels('Latency (milliseconds)', fontsize=fontsize)"
   ]
  },
  {
   "cell_type": "code",
   "execution_count": 26,
   "id": "6e89abd8-325a-4318-ad25-f6239b2b7b86",
   "metadata": {},
   "outputs": [
    {
     "data": {
      "image/png": "[encoded data removed]",
      "text/plain": [
       "<Figure size 432x288 with 1 Axes>"
      ]
     },
     "metadata": {
      "needs_background": "light"
     },
     "output_type": "display_data"
    }
   ],
   "source": [
    "ax = sns.barplot(x='Requests', y='Latency', data=df_6, hue=\"Benchmark\")"
   ]
  },
  {
   "cell_type": "code",
   "execution_count": 72,
   "id": "5f4f7744-bdf1-4681-9cd4-addb771977f9",
   "metadata": {},
   "outputs": [
    {
     "name": "stderr",
     "output_type": "stream",
     "text": [
      "/Users/stvdputten/Documents/Thesis/Results/Swarm/venv/lib/python3.9/site-packages/seaborn/axisgrid.py:670: UserWarning: Using the catplot function without specifying `order` is likely to produce an incorrect plot.\n",
      "  warnings.warn(warning)\n",
      "/Users/stvdputten/Documents/Thesis/Results/Swarm/venv/lib/python3.9/site-packages/seaborn/categorical.py:3775: UserWarning: catplot is a figure-level function and does not accept target axes. You may wish to try stripplot\n",
      "  warnings.warn(msg, UserWarning)\n"
     ]
    },
    {
     "ename": "ValueError",
     "evalue": "Could not interpret input 'Benchmark'",
     "output_type": "error",
     "traceback": [
      "\u001b[0;31m---------------------------------------------------------------------------\u001b[0m",
      "\u001b[0;31mValueError\u001b[0m                                Traceback (most recent call last)",
      "Input \u001b[0;32mIn [72]\u001b[0m, in \u001b[0;36m<module>\u001b[0;34m\u001b[0m\n\u001b[1;32m      4\u001b[0m fontsize \u001b[38;5;241m=\u001b[39m \u001b[38;5;241m15\u001b[39m\n\u001b[1;32m      5\u001b[0m g \u001b[38;5;241m=\u001b[39m sns\u001b[38;5;241m.\u001b[39mFacetGrid(df_6, col\u001b[38;5;241m=\u001b[39m\u001b[38;5;124m\"\u001b[39m\u001b[38;5;124mThreads\u001b[39m\u001b[38;5;124m\"\u001b[39m, height\u001b[38;5;241m=\u001b[39m\u001b[38;5;241m6\u001b[39m, aspect\u001b[38;5;241m=\u001b[39m\u001b[38;5;241m.5\u001b[39m)\n\u001b[0;32m----> 6\u001b[0m \u001b[43mg\u001b[49m\u001b[38;5;241;43m.\u001b[39;49m\u001b[43mmap\u001b[49m\u001b[43m(\u001b[49m\u001b[43msns\u001b[49m\u001b[38;5;241;43m.\u001b[39;49m\u001b[43mcatplot\u001b[49m\u001b[43m,\u001b[49m\u001b[43m \u001b[49m\u001b[43mx\u001b[49m\u001b[38;5;241;43m=\u001b[39;49m\u001b[38;5;124;43m\"\u001b[39;49m\u001b[38;5;124;43mBenchmark\u001b[39;49m\u001b[38;5;124;43m\"\u001b[39;49m\u001b[43m,\u001b[49m\u001b[43m \u001b[49m\u001b[43my\u001b[49m\u001b[38;5;241;43m=\u001b[39;49m\u001b[38;5;124;43m\"\u001b[39;49m\u001b[38;5;124;43mLatency\u001b[39;49m\u001b[38;5;124;43m\"\u001b[39;49m\u001b[43m)\u001b[49m\n",
      "File \u001b[0;32m~/Documents/Thesis/Results/Swarm/venv/lib/python3.9/site-packages/seaborn/axisgrid.py:710\u001b[0m, in \u001b[0;36mFacetGrid.map\u001b[0;34m(self, func, *args, **kwargs)\u001b[0m\n\u001b[1;32m    707\u001b[0m         plot_args \u001b[38;5;241m=\u001b[39m [v\u001b[38;5;241m.\u001b[39mvalues \u001b[38;5;28;01mfor\u001b[39;00m v \u001b[38;5;129;01min\u001b[39;00m plot_args]\n\u001b[1;32m    709\u001b[0m     \u001b[38;5;66;03m# Draw the plot\u001b[39;00m\n\u001b[0;32m--> 710\u001b[0m     \u001b[38;5;28;43mself\u001b[39;49m\u001b[38;5;241;43m.\u001b[39;49m\u001b[43m_facet_plot\u001b[49m\u001b[43m(\u001b[49m\u001b[43mfunc\u001b[49m\u001b[43m,\u001b[49m\u001b[43m \u001b[49m\u001b[43max\u001b[49m\u001b[43m,\u001b[49m\u001b[43m \u001b[49m\u001b[43mplot_args\u001b[49m\u001b[43m,\u001b[49m\u001b[43m \u001b[49m\u001b[43mkwargs\u001b[49m\u001b[43m)\u001b[49m\n\u001b[1;32m    712\u001b[0m \u001b[38;5;66;03m# Finalize the annotations and layout\u001b[39;00m\n\u001b[1;32m    713\u001b[0m \u001b[38;5;28mself\u001b[39m\u001b[38;5;241m.\u001b[39m_finalize_grid(args[:\u001b[38;5;241m2\u001b[39m])\n",
      "File \u001b[0;32m~/Documents/Thesis/Results/Swarm/venv/lib/python3.9/site-packages/seaborn/axisgrid.py:806\u001b[0m, in \u001b[0;36mFacetGrid._facet_plot\u001b[0;34m(self, func, ax, plot_args, plot_kwargs)\u001b[0m\n\u001b[1;32m    804\u001b[0m     plot_args \u001b[38;5;241m=\u001b[39m []\n\u001b[1;32m    805\u001b[0m     plot_kwargs[\u001b[38;5;124m\"\u001b[39m\u001b[38;5;124max\u001b[39m\u001b[38;5;124m\"\u001b[39m] \u001b[38;5;241m=\u001b[39m ax\n\u001b[0;32m--> 806\u001b[0m \u001b[43mfunc\u001b[49m\u001b[43m(\u001b[49m\u001b[38;5;241;43m*\u001b[39;49m\u001b[43mplot_args\u001b[49m\u001b[43m,\u001b[49m\u001b[43m \u001b[49m\u001b[38;5;241;43m*\u001b[39;49m\u001b[38;5;241;43m*\u001b[39;49m\u001b[43mplot_kwargs\u001b[49m\u001b[43m)\u001b[49m\n\u001b[1;32m    808\u001b[0m \u001b[38;5;66;03m# Sort out the supporting information\u001b[39;00m\n\u001b[1;32m    809\u001b[0m \u001b[38;5;28mself\u001b[39m\u001b[38;5;241m.\u001b[39m_update_legend_data(ax)\n",
      "File \u001b[0;32m~/Documents/Thesis/Results/Swarm/venv/lib/python3.9/site-packages/seaborn/_decorators.py:46\u001b[0m, in \u001b[0;36m_deprecate_positional_args.<locals>.inner_f\u001b[0;34m(*args, **kwargs)\u001b[0m\n\u001b[1;32m     36\u001b[0m     warnings\u001b[38;5;241m.\u001b[39mwarn(\n\u001b[1;32m     37\u001b[0m         \u001b[38;5;124m\"\u001b[39m\u001b[38;5;124mPass the following variable\u001b[39m\u001b[38;5;132;01m{}\u001b[39;00m\u001b[38;5;124m as \u001b[39m\u001b[38;5;132;01m{}\u001b[39;00m\u001b[38;5;124mkeyword arg\u001b[39m\u001b[38;5;132;01m{}\u001b[39;00m\u001b[38;5;124m: \u001b[39m\u001b[38;5;132;01m{}\u001b[39;00m\u001b[38;5;124m. \u001b[39m\u001b[38;5;124m\"\u001b[39m\n\u001b[1;32m     38\u001b[0m         \u001b[38;5;124m\"\u001b[39m\u001b[38;5;124mFrom version 0.12, the only valid positional argument \u001b[39m\u001b[38;5;124m\"\u001b[39m\n\u001b[0;32m   (...)\u001b[0m\n\u001b[1;32m     43\u001b[0m         \u001b[38;5;167;01mFutureWarning\u001b[39;00m\n\u001b[1;32m     44\u001b[0m     )\n\u001b[1;32m     45\u001b[0m kwargs\u001b[38;5;241m.\u001b[39mupdate({k: arg \u001b[38;5;28;01mfor\u001b[39;00m k, arg \u001b[38;5;129;01min\u001b[39;00m \u001b[38;5;28mzip\u001b[39m(sig\u001b[38;5;241m.\u001b[39mparameters, args)})\n\u001b[0;32m---> 46\u001b[0m \u001b[38;5;28;01mreturn\u001b[39;00m \u001b[43mf\u001b[49m\u001b[43m(\u001b[49m\u001b[38;5;241;43m*\u001b[39;49m\u001b[38;5;241;43m*\u001b[39;49m\u001b[43mkwargs\u001b[49m\u001b[43m)\u001b[49m\n",
      "File \u001b[0;32m~/Documents/Thesis/Results/Swarm/venv/lib/python3.9/site-packages/seaborn/categorical.py:3792\u001b[0m, in \u001b[0;36mcatplot\u001b[0;34m(x, y, hue, data, row, col, col_wrap, estimator, ci, n_boot, units, seed, order, hue_order, row_order, col_order, kind, height, aspect, orient, color, palette, legend, legend_out, sharex, sharey, margin_titles, facet_kws, **kwargs)\u001b[0m\n\u001b[1;32m   3790\u001b[0m p \u001b[38;5;241m=\u001b[39m _CategoricalPlotter()\n\u001b[1;32m   3791\u001b[0m p\u001b[38;5;241m.\u001b[39mrequire_numeric \u001b[38;5;241m=\u001b[39m plotter_class\u001b[38;5;241m.\u001b[39mrequire_numeric\n\u001b[0;32m-> 3792\u001b[0m \u001b[43mp\u001b[49m\u001b[38;5;241;43m.\u001b[39;49m\u001b[43mestablish_variables\u001b[49m\u001b[43m(\u001b[49m\u001b[43mx_\u001b[49m\u001b[43m,\u001b[49m\u001b[43m \u001b[49m\u001b[43my_\u001b[49m\u001b[43m,\u001b[49m\u001b[43m \u001b[49m\u001b[43mhue\u001b[49m\u001b[43m,\u001b[49m\u001b[43m \u001b[49m\u001b[43mdata\u001b[49m\u001b[43m,\u001b[49m\u001b[43m \u001b[49m\u001b[43morient\u001b[49m\u001b[43m,\u001b[49m\u001b[43m \u001b[49m\u001b[43morder\u001b[49m\u001b[43m,\u001b[49m\u001b[43m \u001b[49m\u001b[43mhue_order\u001b[49m\u001b[43m)\u001b[49m\n\u001b[1;32m   3793\u001b[0m \u001b[38;5;28;01mif\u001b[39;00m (\n\u001b[1;32m   3794\u001b[0m     order \u001b[38;5;129;01mis\u001b[39;00m \u001b[38;5;129;01mnot\u001b[39;00m \u001b[38;5;28;01mNone\u001b[39;00m\n\u001b[1;32m   3795\u001b[0m     \u001b[38;5;129;01mor\u001b[39;00m (sharex \u001b[38;5;129;01mand\u001b[39;00m p\u001b[38;5;241m.\u001b[39morient \u001b[38;5;241m==\u001b[39m \u001b[38;5;124m\"\u001b[39m\u001b[38;5;124mv\u001b[39m\u001b[38;5;124m\"\u001b[39m)\n\u001b[1;32m   3796\u001b[0m     \u001b[38;5;129;01mor\u001b[39;00m (sharey \u001b[38;5;129;01mand\u001b[39;00m p\u001b[38;5;241m.\u001b[39morient \u001b[38;5;241m==\u001b[39m \u001b[38;5;124m\"\u001b[39m\u001b[38;5;124mh\u001b[39m\u001b[38;5;124m\"\u001b[39m)\n\u001b[1;32m   3797\u001b[0m ):\n\u001b[1;32m   3798\u001b[0m     \u001b[38;5;66;03m# Sync categorical axis between facets to have the same categories\u001b[39;00m\n\u001b[1;32m   3799\u001b[0m     order \u001b[38;5;241m=\u001b[39m p\u001b[38;5;241m.\u001b[39mgroup_names\n",
      "File \u001b[0;32m~/Documents/Thesis/Results/Swarm/venv/lib/python3.9/site-packages/seaborn/categorical.py:153\u001b[0m, in \u001b[0;36m_CategoricalPlotter.establish_variables\u001b[0;34m(self, x, y, hue, data, orient, order, hue_order, units)\u001b[0m\n\u001b[1;32m    151\u001b[0m     \u001b[38;5;28;01mif\u001b[39;00m \u001b[38;5;28misinstance\u001b[39m(var, \u001b[38;5;28mstr\u001b[39m):\n\u001b[1;32m    152\u001b[0m         err \u001b[38;5;241m=\u001b[39m \u001b[38;5;124m\"\u001b[39m\u001b[38;5;124mCould not interpret input \u001b[39m\u001b[38;5;124m'\u001b[39m\u001b[38;5;132;01m{}\u001b[39;00m\u001b[38;5;124m'\u001b[39m\u001b[38;5;124m\"\u001b[39m\u001b[38;5;241m.\u001b[39mformat(var)\n\u001b[0;32m--> 153\u001b[0m         \u001b[38;5;28;01mraise\u001b[39;00m \u001b[38;5;167;01mValueError\u001b[39;00m(err)\n\u001b[1;32m    155\u001b[0m \u001b[38;5;66;03m# Figure out the plotting orientation\u001b[39;00m\n\u001b[1;32m    156\u001b[0m orient \u001b[38;5;241m=\u001b[39m infer_orient(\n\u001b[1;32m    157\u001b[0m     x, y, orient, require_numeric\u001b[38;5;241m=\u001b[39m\u001b[38;5;28mself\u001b[39m\u001b[38;5;241m.\u001b[39mrequire_numeric\n\u001b[1;32m    158\u001b[0m )\n",
      "\u001b[0;31mValueError\u001b[0m: Could not interpret input 'Benchmark'"
     ]
    },
    {
     "data": {
      "image/png": "[encoded data removed]",
      "text/plain": [
       "<Figure size 432x432 with 2 Axes>"
      ]
     },
     "metadata": {
      "needs_background": "light"
     },
     "output_type": "display_data"
    }
   ],
   "source": [
    "# sns.set(font_scale=1)\n",
    "# sns.set_style(\"white\")\n",
    "\n",
    "fontsize = 15\n",
    "g = sns.FacetGrid(df_6, col=\"Threads\", height=6, aspect=.5)\n",
    "g.map(sns.catplot, x=\"Benchmark\", y=\"Latency\")\n",
    "\n",
    "# x=\"Benchmark\", y=\"Latency\", data=df_6, order=[\"sn\",\"mm\",\"hr\"], hue=\"Requests\"\n",
    "# for axes in g.axes:\n",
    "#     for ax in axes:\n",
    "#         for i in ax.containers:\n",
    "#             ax.bar_label(i, label_type='edge', padding=18, fmt='%.2f',fontsize=fontsize)\n",
    "#             yticks = [int(tick) for tick in ax.get_yticks()]\n",
    "\n",
    "# g.set_ylabels(\"Latency (milliseconds)\",fontsize=15)\n",
    "# g.set_xlabels(fontsize=fontsize)\n",
    "\n",
    "# g.set_xticklabels(fontsize=fontsize)\n",
    "# g.set_yticklabels(yticks, fontsize=fontsize)\n",
    "# g.axes[0][0].legend(fontsize=15)\n",
    "\n",
    "# g.add_legend(fontsize=18, title=\"Benchmarks\")\n",
    "# g.savefig(\"Figures/exp2-connections.png\", bbox_inches='tight')"
   ]
  }
 ],
 "metadata": {
  "kernelspec": {
   "display_name": "Python 3 (ipykernel)",
   "language": "python",
   "name": "python3"
  },
  "language_info": {
   "codemirror_mode": {
    "name": "ipython",
    "version": 3
   },
   "file_extension": ".py",
   "mimetype": "text/x-python",
   "name": "python",
   "nbconvert_exporter": "python",
   "pygments_lexer": "ipython3",
   "version": "3.9.9"
  }
 },
 "nbformat": 4,
 "nbformat_minor": 5
}
