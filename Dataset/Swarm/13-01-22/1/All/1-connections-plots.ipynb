{
 "cells": [
  {
   "cell_type": "code",
   "execution_count": 2,
   "id": "c138d3bb-5c29-46dc-ba83-15577e4ea56e",
   "metadata": {},
   "outputs": [],
   "source": [
    "import pandas as pd\n",
    "import seaborn as sns\n",
    "import matplotlib.pyplot as plt\n",
    "import numpy as np"
   ]
  },
  {
   "cell_type": "code",
   "execution_count": 1,
   "id": "03eaf07c-0929-45ac-9696-0390bc111d2b",
   "metadata": {},
   "outputs": [],
   "source": [
    "!cp ../swarm-* .\n",
    "\n",
    "# !for file in swarm-*; do echo $file; done  "
   ]
  },
  {
   "cell_type": "code",
   "execution_count": 2,
   "id": "d4b421f8-4c30-4409-97f5-ff7a2fde042f",
   "metadata": {},
   "outputs": [],
   "source": [
    "!hdr-plot --save swarm-*"
   ]
  }
 ],
 "metadata": {
  "kernelspec": {
   "display_name": "Python 3 (ipykernel)",
   "language": "python",
   "name": "python3"
  },
  "language_info": {
   "codemirror_mode": {
    "name": "ipython",
    "version": 3
   },
   "file_extension": ".py",
   "mimetype": "text/x-python",
   "name": "python",
   "nbconvert_exporter": "python",
   "pygments_lexer": "ipython3",
   "version": "3.9.9"
  }
 },
 "nbformat": 4,
 "nbformat_minor": 5
}
