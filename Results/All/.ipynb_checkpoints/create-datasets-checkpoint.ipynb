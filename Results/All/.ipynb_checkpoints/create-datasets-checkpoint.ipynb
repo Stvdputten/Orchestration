{
 "cells": [
  {
   "cell_type": "code",
   "execution_count": 203,
   "id": "6c6d1090-9005-421a-8c18-9eedfdd6ee49",
   "metadata": {},
   "outputs": [],
   "source": [
    "!mkdir data"
   ]
  },
  {
   "cell_type": "code",
   "execution_count": 204,
   "id": "6e39d952-2b3f-4753-af46-7ef6ce30d1d2",
   "metadata": {},
   "outputs": [],
   "source": [
    "!cp ../Swarm/13-01-22/0/swarm-* data\n",
    "!cp ../Swarm/13-01-22/1/swarm-* data\n",
    "!cp ../Swarm/13-01-22/2/swarm-* data\n",
    "!cp ../Swarm/13-01-22/3/swarm-* data\n",
    "!cp ../Swarm/13-01-22/4/swarm-* data\n",
    "!cp ../Swarm/13-01-22/5/swarm-* data\n",
    "!cp ../Swarm/13-01-22/6/swarm-* data\n",
    "!cp ../Swarm/13-01-22/7/swarm-* data\n",
    "!cp ../Swarm/13-01-22/8/swarm-* data\n",
    "!cp ../Swarm/13-01-22/9/swarm-* data\n",
    "!cp ../Swarm/13-01-22/10/swarm-* data\n",
    "!cp ../Swarm/13-01-22/11/swarm-* data\n",
    "\n",
    "!cp ../Swarm/17-01-22/12/swarm-* \n",
    "!cp ../Swarm/17-01-22/13/swarm-* \n",
    "!cp ../Swarm/17-01-22/14/swarm-* \n",
    "!cp ../Swarm/17-01-22/15/swarm-* \n",
    "\n",
    "!cp ../Hashi/14-01-22/12/nomad-*\n",
    "!cp ../Hashi/14-01-22/13/nomad-*\n",
    "!cp ../Hashi/15-01-22/14/nomad-*\n",
    "!cp ../Hashi/15-01-22/15/nomad-*\n",
    "\n",
    "!cp ../Kubernetes/17-01-22/12/k8s-*\n",
    "!cp ../Kubernetes/17-01-22/13/k8s-*\n",
    "!cp ../Kubernetes/17-01-22/14/k8s-*\n",
    "!cp ../Kubernetes/17-01-22/15/k8s-*\n",
    "\n",
    "!hdr-plot --save data/*exp0*"
   ]
  },
  {
   "cell_type": "code",
   "execution_count": 201,
   "id": "5e07a64d-bb88-4b28-903c-a76a84ce0cbe",
   "metadata": {},
   "outputs": [
    {
     "name": "stdout",
     "output_type": "stream",
     "text": [
      "..//Swarm/venv/lib/python3.9/site-packages/numpy/random/tests/data/pcg64dxsm-testset-1.csv\n",
      "..//Swarm/venv/lib/python3.9/site-packages/numpy/random/tests/data/pcg64dxsm-testset-2.csv\n"
     ]
    }
   ],
   "source": []
  },
  {
   "cell_type": "code",
   "execution_count": 191,
   "id": "be44577b-37d5-4c79-a49a-efed8d8f40f2",
   "metadata": {},
   "outputs": [],
   "source": [
    "!find ../ -type f -regex '.*[Swarm].*df-exp.*' > /dev/null"
   ]
  },
  {
   "cell_type": "code",
   "execution_count": 192,
   "id": "cc4a2dd6-6690-4db4-a5eb-d91f3d8752bc",
   "metadata": {},
   "outputs": [],
   "source": [
    "!find ../ -type f -regex '.*[Swarm].*df-exp.*' -exec cp \"{}\" . \\; > /dev/null"
   ]
  },
  {
   "cell_type": "code",
   "execution_count": 193,
   "id": "ba26edf1-a1e1-4105-955f-21238294f01d",
   "metadata": {},
   "outputs": [],
   "source": [
    "!rm df-exp0-checkpoint.csv"
   ]
  },
  {
   "cell_type": "code",
   "execution_count": 87,
   "id": "3a4fab71-c339-43a9-a58d-9b731121688a",
   "metadata": {},
   "outputs": [],
   "source": [
    "import os\n",
    "import glob"
   ]
  },
  {
   "cell_type": "code",
   "execution_count": 1,
   "id": "32348254-154d-44f7-b757-e7899604829c",
   "metadata": {},
   "outputs": [],
   "source": [
    "import pandas as pd\n",
    "import numpy as np\n",
    "import seaborn as sns\n",
    "import matplotlib.pyplot as plt"
   ]
  },
  {
   "cell_type": "markdown",
   "id": "15394db5-cf50-4a47-8a11-8a257848ac7b",
   "metadata": {},
   "source": [
    "# Load all datasets"
   ]
  },
  {
   "cell_type": "code",
   "execution_count": 194,
   "id": "b1d6df6a-146f-4d88-8a8a-f096d8f5304d",
   "metadata": {},
   "outputs": [
    {
     "name": "stdout",
     "output_type": "stream",
     "text": [
      "(583, 18)\n"
     ]
    }
   ],
   "source": [
    "all_files = glob.glob(\"*.csv\")\n",
    "df = pd.concat((pd.read_csv(f) for f in all_files))\n",
    "print(df.shape)"
   ]
  },
  {
   "cell_type": "code",
   "execution_count": 195,
   "id": "a46d278c-f61e-4512-9ada-07d07df3a77a",
   "metadata": {},
   "outputs": [],
   "source": [
    "df['Orchestrator'] = df['Orchestrator'].astype('category')\n",
    "df['Benchmark'] = df['Benchmark'].astype('category')\n",
    "df['Exp'] = df['Exp'].astype('category')"
   ]
  },
  {
   "cell_type": "code",
   "execution_count": 196,
   "id": "f36c5532-eedc-41f0-8d2c-9d721b6815eb",
   "metadata": {},
   "outputs": [
    {
     "data": {
      "text/html": [
       "<div>\n",
       "<style scoped>\n",
       "    .dataframe tbody tr th:only-of-type {\n",
       "        vertical-align: middle;\n",
       "    }\n",
       "\n",
       "    .dataframe tbody tr th {\n",
       "        vertical-align: top;\n",
       "    }\n",
       "\n",
       "    .dataframe thead th {\n",
       "        text-align: right;\n",
       "    }\n",
       "</style>\n",
       "<table border=\"1\" class=\"dataframe\">\n",
       "  <thead>\n",
       "    <tr style=\"text-align: right;\">\n",
       "      <th></th>\n",
       "      <th>Latency</th>\n",
       "      <th>Requests</th>\n",
       "      <th>Throughput</th>\n",
       "      <th>Baseline</th>\n",
       "      <th>Orchestrator</th>\n",
       "      <th>Benchmark</th>\n",
       "      <th>Infinite</th>\n",
       "      <th>Exp</th>\n",
       "      <th>Availability</th>\n",
       "      <th>Horizontal</th>\n",
       "      <th>Vertical</th>\n",
       "      <th>Threads</th>\n",
       "      <th>Connections</th>\n",
       "      <th>Duration</th>\n",
       "      <th>Mean</th>\n",
       "      <th>Max</th>\n",
       "      <th>StdDev</th>\n",
       "      <th>ReqSec</th>\n",
       "    </tr>\n",
       "  </thead>\n",
       "  <tbody>\n",
       "    <tr>\n",
       "      <th>0</th>\n",
       "      <td>10.06</td>\n",
       "      <td>500.0</td>\n",
       "      <td>14814.0</td>\n",
       "      <td>1</td>\n",
       "      <td>k8s</td>\n",
       "      <td>sn</td>\n",
       "      <td>1</td>\n",
       "      <td>exp15</td>\n",
       "      <td>1</td>\n",
       "      <td>1</td>\n",
       "      <td>1</td>\n",
       "      <td>4</td>\n",
       "      <td>512</td>\n",
       "      <td>30</td>\n",
       "      <td>3.983</td>\n",
       "      <td>52.864</td>\n",
       "      <td>2.127</td>\n",
       "      <td>493.26</td>\n",
       "    </tr>\n",
       "    <tr>\n",
       "      <th>1</th>\n",
       "      <td>11.61</td>\n",
       "      <td>500.0</td>\n",
       "      <td>14706.0</td>\n",
       "      <td>1</td>\n",
       "      <td>k8s</td>\n",
       "      <td>hr</td>\n",
       "      <td>1</td>\n",
       "      <td>exp15</td>\n",
       "      <td>1</td>\n",
       "      <td>1</td>\n",
       "      <td>1</td>\n",
       "      <td>4</td>\n",
       "      <td>512</td>\n",
       "      <td>30</td>\n",
       "      <td>4.298</td>\n",
       "      <td>22.256</td>\n",
       "      <td>2.219</td>\n",
       "      <td>490.00</td>\n",
       "    </tr>\n",
       "    <tr>\n",
       "      <th>2</th>\n",
       "      <td>11.85</td>\n",
       "      <td>500.0</td>\n",
       "      <td>14813.0</td>\n",
       "      <td>1</td>\n",
       "      <td>k8s</td>\n",
       "      <td>mm</td>\n",
       "      <td>1</td>\n",
       "      <td>exp15</td>\n",
       "      <td>1</td>\n",
       "      <td>1</td>\n",
       "      <td>1</td>\n",
       "      <td>4</td>\n",
       "      <td>512</td>\n",
       "      <td>30</td>\n",
       "      <td>4.902</td>\n",
       "      <td>19.696</td>\n",
       "      <td>1.883</td>\n",
       "      <td>493.64</td>\n",
       "    </tr>\n",
       "    <tr>\n",
       "      <th>3</th>\n",
       "      <td>7.66</td>\n",
       "      <td>1000.0</td>\n",
       "      <td>29634.0</td>\n",
       "      <td>1</td>\n",
       "      <td>k8s</td>\n",
       "      <td>hr</td>\n",
       "      <td>1</td>\n",
       "      <td>exp15</td>\n",
       "      <td>1</td>\n",
       "      <td>1</td>\n",
       "      <td>1</td>\n",
       "      <td>4</td>\n",
       "      <td>512</td>\n",
       "      <td>30</td>\n",
       "      <td>3.181</td>\n",
       "      <td>11.592</td>\n",
       "      <td>1.410</td>\n",
       "      <td>987.61</td>\n",
       "    </tr>\n",
       "    <tr>\n",
       "      <th>4</th>\n",
       "      <td>19600.00</td>\n",
       "      <td>1000.0</td>\n",
       "      <td>12128.0</td>\n",
       "      <td>1</td>\n",
       "      <td>k8s</td>\n",
       "      <td>mm</td>\n",
       "      <td>1</td>\n",
       "      <td>exp15</td>\n",
       "      <td>1</td>\n",
       "      <td>1</td>\n",
       "      <td>1</td>\n",
       "      <td>4</td>\n",
       "      <td>512</td>\n",
       "      <td>30</td>\n",
       "      <td>11164.807</td>\n",
       "      <td>22691.840</td>\n",
       "      <td>3871.293</td>\n",
       "      <td>404.04</td>\n",
       "    </tr>\n",
       "  </tbody>\n",
       "</table>\n",
       "</div>"
      ],
      "text/plain": [
       "    Latency  Requests  Throughput  Baseline Orchestrator Benchmark  Infinite  \\\n",
       "0     10.06     500.0     14814.0         1          k8s        sn         1   \n",
       "1     11.61     500.0     14706.0         1          k8s        hr         1   \n",
       "2     11.85     500.0     14813.0         1          k8s        mm         1   \n",
       "3      7.66    1000.0     29634.0         1          k8s        hr         1   \n",
       "4  19600.00    1000.0     12128.0         1          k8s        mm         1   \n",
       "\n",
       "     Exp  Availability  Horizontal  Vertical  Threads  Connections  Duration  \\\n",
       "0  exp15             1           1         1        4          512        30   \n",
       "1  exp15             1           1         1        4          512        30   \n",
       "2  exp15             1           1         1        4          512        30   \n",
       "3  exp15             1           1         1        4          512        30   \n",
       "4  exp15             1           1         1        4          512        30   \n",
       "\n",
       "        Mean        Max    StdDev  ReqSec  \n",
       "0      3.983     52.864     2.127  493.26  \n",
       "1      4.298     22.256     2.219  490.00  \n",
       "2      4.902     19.696     1.883  493.64  \n",
       "3      3.181     11.592     1.410  987.61  \n",
       "4  11164.807  22691.840  3871.293  404.04  "
      ]
     },
     "execution_count": 196,
     "metadata": {},
     "output_type": "execute_result"
    }
   ],
   "source": [
    "df.head()"
   ]
  },
  {
   "cell_type": "code",
   "execution_count": 95,
   "id": "c4fc3f10-9af6-4499-981c-fbaf07ce6dd1",
   "metadata": {},
   "outputs": [
    {
     "data": {
      "text/plain": [
       "(586, 18)"
      ]
     },
     "execution_count": 95,
     "metadata": {},
     "output_type": "execute_result"
    }
   ],
   "source": [
    "df.shape"
   ]
  },
  {
   "cell_type": "code",
   "execution_count": 111,
   "id": "c41663e8-9e8f-43e7-8f56-1b453cdfd868",
   "metadata": {},
   "outputs": [
    {
     "data": {
      "text/plain": [
       "Index(['Latency', 'Requests', 'Throughput', 'Baseline', 'Orchestrator',\n",
       "       'Benchmark', 'Infinite', 'Exp', 'Availability', 'Horizontal',\n",
       "       'Vertical', 'Threads', 'Connections', 'Duration', 'Mean', 'Max',\n",
       "       'StdDev', 'ReqSec'],\n",
       "      dtype='object')"
      ]
     },
     "execution_count": 111,
     "metadata": {},
     "output_type": "execute_result"
    }
   ],
   "source": [
    "df.columns"
   ]
  },
  {
   "cell_type": "code",
   "execution_count": 145,
   "id": "d32bca9a-a8e6-414b-ab60-a32e7faef505",
   "metadata": {},
   "outputs": [],
   "source": [
    "df_1 = df.loc[df['Exp'] == 'exp1']\n",
    "df_2 = df.loc[df['Exp'] == 'exp2']\n",
    "df_3 = df.loc[df['Exp'] == 'exp3']\n",
    "df_4 = df.loc[df['Exp'] == 'exp4']\n",
    "df_5 = df.loc[df['Exp'] == 'exp5']\n",
    "df_6 = df.loc[df['Exp'] == 'exp6']\n",
    "df_7 = df.loc[df['Exp'] == 'exp7']\n",
    "df_8 = df.loc[df['Exp'] == 'exp8']\n",
    "df_9 = df.loc[df['Exp'] == 'exp9']\n",
    "df_10 = df.loc[df['Exp'] == 'exp10']\n",
    "df_11 = df.loc[df['Exp'] == 'exp11']"
   ]
  },
  {
   "cell_type": "code",
   "execution_count": 165,
   "id": "3d6a94cd-8c26-4855-aa23-7f79dc5f897d",
   "metadata": {},
   "outputs": [],
   "source": [
    "# Global settings\n",
    "fontsize = 20\n",
    "legend_location = \"lower right\""
   ]
  },
  {
   "cell_type": "code",
   "execution_count": 143,
   "id": "92f24ec9-b7ff-4b1a-99fa-523c1b6dc474",
   "metadata": {},
   "outputs": [],
   "source": [
    "def barplot(df, labels, fontsize=20):\n",
    "    fig, ax = plt.subplots(figsize=(16,8))\n",
    "\n",
    "    p1 = ax.bar(labels[0], df['Latency'][0], label=labels[0])\n",
    "    p2 = ax.bar(labels[1], df['Latency'][1], label=labels[1])\n",
    "    p3 = ax.bar(labels[2], df['Latency'][2], label=labels[2])\n",
    "    ax.legend()\n",
    "\n",
    "    # Label with label_type 'center' instead of the default 'edge'\n",
    "    ax.bar_label(p1, label_type='edge', fontsize=fontsize)\n",
    "    ax.bar_label(p2, label_type='edge', fontsize=fontsize)\n",
    "    ax.bar_label(p3, label_type='edge', fontsize=fontsize)\n",
    "\n",
    "\n",
    "    plt.ylim(0,15)\n",
    "    # ax.grid()\n",
    "    xticks = [int(tick) for tick in ax.get_xticks()]\n",
    "    ax.set_xlabel('Benchmarks', fontsize=fontsize)\n",
    "    ax.set_ylabel('Latency (milliseconds)', fontsize=fontsize+5)\n",
    "\n",
    "    plt.yticks(fontsize=fontsize)\n",
    "    plt.xticks(xticks, fontsize=fontsize)\n",
    "    plt.legend(loc=\"upper right\", fontsize=fontsize+5)\n",
    "\n",
    "    plt.tight_layout()\n",
    "    plt.savefig(\"Figures/exp0.png\", bbox_inches='tight')\n",
    "\n",
    "    plt.show()"
   ]
  },
  {
   "cell_type": "code",
   "execution_count": null,
   "id": "7ad32274-d2df-49d3-a9dc-fa3f0d92a8db",
   "metadata": {},
   "outputs": [],
   "source": []
  },
  {
   "cell_type": "code",
   "execution_count": 146,
   "id": "89ad72d4-d6db-49ca-a030-a6ac6ff0140c",
   "metadata": {},
   "outputs": [
    {
     "data": {
      "image/png": "[encoded data removed]",
      "text/plain": [
       "<Figure size 1152x576 with 1 Axes>"
      ]
     },
     "metadata": {
      "needs_background": "light"
     },
     "output_type": "display_data"
    }
   ],
   "source": [
    "labels = df['Benchmark'].unique()\n",
    "barplot(df_0, labels, fontsize)"
   ]
  },
  {
   "cell_type": "code",
   "execution_count": null,
   "id": "8306a265-efda-4e68-986d-90e1496889b8",
   "metadata": {},
   "outputs": [],
   "source": []
  },
  {
   "cell_type": "code",
   "execution_count": 110,
   "id": "b0097002-40ff-4d91-98a0-5948708179ef",
   "metadata": {},
   "outputs": [
    {
     "data": {
      "text/plain": [
       "(9, 18)"
      ]
     },
     "execution_count": 110,
     "metadata": {},
     "output_type": "execute_result"
    }
   ],
   "source": [
    "df_1 = df.loc[df['Exp'] == 'exp1']\n",
    "df_1.shape"
   ]
  },
  {
   "cell_type": "code",
   "execution_count": 112,
   "id": "63b12095-0671-41fa-bc30-ac25a2a9d95d",
   "metadata": {
    "jupyter": {
     "source_hidden": true
    },
    "tags": []
   },
   "outputs": [
    {
     "data": {
      "text/html": [
       "<div>\n",
       "<style scoped>\n",
       "    .dataframe tbody tr th:only-of-type {\n",
       "        vertical-align: middle;\n",
       "    }\n",
       "\n",
       "    .dataframe tbody tr th {\n",
       "        vertical-align: top;\n",
       "    }\n",
       "\n",
       "    .dataframe thead th {\n",
       "        text-align: right;\n",
       "    }\n",
       "</style>\n",
       "<table border=\"1\" class=\"dataframe\">\n",
       "  <thead>\n",
       "    <tr style=\"text-align: right;\">\n",
       "      <th></th>\n",
       "      <th>Latency</th>\n",
       "      <th>Benchmark</th>\n",
       "      <th>Throughput</th>\n",
       "      <th>Requests</th>\n",
       "      <th>Threads</th>\n",
       "      <th>Connections</th>\n",
       "    </tr>\n",
       "  </thead>\n",
       "  <tbody>\n",
       "    <tr>\n",
       "      <th>0</th>\n",
       "      <td>9.15</td>\n",
       "      <td>hr</td>\n",
       "      <td>5755.0</td>\n",
       "      <td>200.0</td>\n",
       "      <td>1</td>\n",
       "      <td>16</td>\n",
       "    </tr>\n",
       "    <tr>\n",
       "      <th>1</th>\n",
       "      <td>9.02</td>\n",
       "      <td>hr</td>\n",
       "      <td>5995.0</td>\n",
       "      <td>200.0</td>\n",
       "      <td>1</td>\n",
       "      <td>16</td>\n",
       "    </tr>\n",
       "    <tr>\n",
       "      <th>2</th>\n",
       "      <td>9.26</td>\n",
       "      <td>hr</td>\n",
       "      <td>5995.0</td>\n",
       "      <td>200.0</td>\n",
       "      <td>1</td>\n",
       "      <td>16</td>\n",
       "    </tr>\n",
       "    <tr>\n",
       "      <th>3</th>\n",
       "      <td>6.70</td>\n",
       "      <td>mm</td>\n",
       "      <td>5755.0</td>\n",
       "      <td>200.0</td>\n",
       "      <td>1</td>\n",
       "      <td>16</td>\n",
       "    </tr>\n",
       "    <tr>\n",
       "      <th>4</th>\n",
       "      <td>6.74</td>\n",
       "      <td>mm</td>\n",
       "      <td>5995.0</td>\n",
       "      <td>200.0</td>\n",
       "      <td>1</td>\n",
       "      <td>16</td>\n",
       "    </tr>\n",
       "    <tr>\n",
       "      <th>5</th>\n",
       "      <td>6.61</td>\n",
       "      <td>mm</td>\n",
       "      <td>5995.0</td>\n",
       "      <td>200.0</td>\n",
       "      <td>1</td>\n",
       "      <td>16</td>\n",
       "    </tr>\n",
       "    <tr>\n",
       "      <th>6</th>\n",
       "      <td>8.01</td>\n",
       "      <td>sn</td>\n",
       "      <td>5755.0</td>\n",
       "      <td>200.0</td>\n",
       "      <td>1</td>\n",
       "      <td>16</td>\n",
       "    </tr>\n",
       "    <tr>\n",
       "      <th>7</th>\n",
       "      <td>7.85</td>\n",
       "      <td>sn</td>\n",
       "      <td>5995.0</td>\n",
       "      <td>200.0</td>\n",
       "      <td>1</td>\n",
       "      <td>16</td>\n",
       "    </tr>\n",
       "    <tr>\n",
       "      <th>8</th>\n",
       "      <td>7.96</td>\n",
       "      <td>sn</td>\n",
       "      <td>5995.0</td>\n",
       "      <td>200.0</td>\n",
       "      <td>1</td>\n",
       "      <td>16</td>\n",
       "    </tr>\n",
       "  </tbody>\n",
       "</table>\n",
       "</div>"
      ],
      "text/plain": [
       "   Latency Benchmark  Throughput  Requests  Threads  Connections\n",
       "0     9.15        hr      5755.0     200.0        1           16\n",
       "1     9.02        hr      5995.0     200.0        1           16\n",
       "2     9.26        hr      5995.0     200.0        1           16\n",
       "3     6.70        mm      5755.0     200.0        1           16\n",
       "4     6.74        mm      5995.0     200.0        1           16\n",
       "5     6.61        mm      5995.0     200.0        1           16\n",
       "6     8.01        sn      5755.0     200.0        1           16\n",
       "7     7.85        sn      5995.0     200.0        1           16\n",
       "8     7.96        sn      5995.0     200.0        1           16"
      ]
     },
     "execution_count": 112,
     "metadata": {},
     "output_type": "execute_result"
    }
   ],
   "source": [
    "df_1.loc[:,['Latency','Benchmark','Throughput','Requests', 'Threads', 'Connections',']]"
   ]
  },
  {
   "cell_type": "code",
   "execution_count": 130,
   "id": "ffb9f9d1-e3ae-4ffa-b6c7-bd16866fefca",
   "metadata": {},
   "outputs": [],
   "source": [
    "def plot_thr_req(tail_data, labels, legend_location,legend_fontsize=fontsize):\n",
    "    # general setup\n",
    "    fig, ax = plt.subplots(figsize=(16,8))\n",
    "\n",
    "    # create new relevant labels\n",
    "    data = pd.concat(tail_data)\n",
    "    data['filename'] = labels\n",
    "    data = data.sort_values(by='Requests').reset_index(drop=True)\n",
    "\n",
    "    # labels = data['Orchestrator'].unique() \n",
    "    labels = [\"swarm\",\"k8s\", \"nomad\"]\n",
    "    lines = [\"-\",\"--\",\"-.\",\":\"]\n",
    "    markers = [\"o\",\"v\",\"^\",\"<\",\">\",\"8\",\"s\",\"p\",\"*\",\"h\",\"H\",\"D\",\"d\",\"P\",\"X\"]\n",
    "    orchestrator = data['Orchestrator'].unique()[0]\n",
    "    benchmark = data['Benchmark'].unique()[0]\n",
    "\n",
    "    for mark, orch in enumerate(labels):\n",
    "        plot_data = data.loc[data['Orchestrator'] == orch]\n",
    "        ax.plot(plot_data['Requests'], plot_data['Throughput'], label=f\"{benchmark}-{orch}-baseline\", linestyle=lines[mark % len(markers)])\n",
    "\n",
    "    # set axis and legend\n",
    "    ax.grid()\n",
    "    ax.set_xlim(left=0)\n",
    "    ax.set_xlabel('Requests', fontsize=fontsize)\n",
    "    ax.set_ylabel('Throughput', fontsize=fontsize)\n",
    "    ax.set_title('Throughput versus Requests', fontsize=fontsize)\n",
    "\n",
    "    xticks = [int(tick) for tick in ax.get_xticks()]\n",
    "    plt.yticks(fontsize=fontsize)\n",
    "    plt.xticks(xticks, fontsize=fontsize)\n",
    "    plt.legend(loc=legend_location, fontsize=legend_fontsize)\n",
    "\n",
    "    return fig, ax"
   ]
  },
  {
   "cell_type": "code",
   "execution_count": 137,
   "id": "c1b9afbf-be30-4356-8ada-e7c895718181",
   "metadata": {},
   "outputs": [],
   "source": [
    "def plot_lat_req_all(data, labels, legend_location,legend_fontsize=fontsize):\n",
    "    # general setup\n",
    "    fig, ax = plt.subplots(figsize=(16,8))\n",
    "\n",
    "    # labels\n",
    "    labels = [\"swarm\",\"k8s\", \"nomad\"]\n",
    "    lines = [\"-\",\"--\",\"-.\",\":\"]\n",
    "    markers = [\"o\",\"v\",\"^\",\"<\",\">\",\"8\",\"s\",\"p\",\"*\",\"h\",\"H\",\"D\",\"d\",\"P\",\"X\"]\n",
    "    benchmark = data['Benchmark'].unique()[0]\n",
    "\n",
    "    print(\"Multiple orchestrators one benchmark and one param\")\n",
    "    for mark, orch in enumerate(labels):\n",
    "        plot_data = data.loc[data['Orchestrator'] == orch]\n",
    "        vertical = plot_data['Vertical'].unique()[0]\n",
    "        horizontal = plot_data['Horizontal'].unique()[0]\n",
    "        availability = plot_data['Availability'].unique()[0]\n",
    "        baseline = plot_data['Baseline'].unique()[0]\n",
    "        if vertical == 0:\n",
    "            print(\"vertical\")\n",
    "            ax.plot(plot_data['Requests'], plot_data['Latency'], label=f\"{benchmark}-{orch}-vertical\", linestyle=lines[mark % len(markers)])\n",
    "        elif  horizontal == 0:\n",
    "            print(\"horizontal\")\n",
    "            ax.plot(plot_data['Requests'], plot_data['Latency'], label=f\"{benchmark}-{orch}-horizontal\", linestyle=lines[mark % len(markers)])\n",
    "        elif availability == 1 and baseline == 1:\n",
    "            print(\"availability\")\n",
    "            ax.plot(plot_data['Requests'], plot_data['Latency'], label=f\"{benchmark}-{orch}-availability\", linestyle=lines[mark % len(markers)])\n",
    "        else:\n",
    "            print(\"baseline\")\n",
    "            ax.plot(plot_data['Requests'], plot_data['Latency'], label=f\"{benchmark}-{orch}-baseline\", linestyle=lines[mark % len(markers)])\n",
    "\n",
    "    # set axis and legend\n",
    "    ax.grid()\n",
    "    ax.set_xlim(left=0)\n",
    "    ax.set_xlabel('Requests', fontsize=fontsize)\n",
    "    ax.set_ylabel('Latency (milliseconds)', fontsize=fontsize)\n",
    "    ax.set_title('Latency versus Requests', fontsize=fontsize)\n",
    "\n",
    "    xticks = [int(tick) for tick in ax.get_xticks()]\n",
    "    plt.yticks(fontsize=fontsize)\n",
    "    plt.xticks(xticks, fontsize=fontsize)\n",
    "    plt.legend(loc=legend_location, fontsize=legend_fontsize)\n",
    "\n",
    "    return fig, ax\n",
    "    \n",
    "\n",
    "def plot_lat_req(data, labels, legend_location,legend_fontsize=fontsize):\n",
    "    # general setup\n",
    "    fig, ax = plt.subplots(figsize=(16,8))\n",
    "\n",
    "\n",
    "    labels = data['Benchmark'].unique() \n",
    "    lines = [\"-\",\"--\",\"-.\",\":\"]\n",
    "    markers = [\"o\",\"v\",\"^\",\"<\",\">\",\"8\",\"s\",\"p\",\"*\",\"h\",\"H\",\"D\",\"d\",\"P\",\"X\"]\n",
    "    orchestrator = data['Orchestrator'].unique()[0]\n",
    "\n",
    "    # one benchmark but multiple params\n",
    "    if len(labels) == 1:\n",
    "        print(\"one benchmark but multiple params\")\n",
    "        for benchmark in labels:\n",
    "            for mark, param in enumerate(['Horizontal', 'Vertical', 'Availability','Baseline']):\n",
    "                plot_data = data.loc[data['Benchmark'] == benchmark]\n",
    "                if len(plot_data[param].unique()) == 0:\n",
    "                    continue\n",
    "\n",
    "                if param == 'Availability':\n",
    "                    plot_data = plot_data.loc[plot_data[param] == 1]\n",
    "                    if plot_data[param].unique() == 1:\n",
    "                        ax.plot(plot_data['Requests'], plot_data['Latency'], label=f\"{benchmark}-{orchestrator}-{param.lower}\", linestyle=lines[mark % len(markers)])\n",
    "                else:\n",
    "                    plot_data = plot_data.loc[plot_data[param] == 0]\n",
    "                    if plot_data[param].unique() == 0:\n",
    "                        ax.plot(plot_data['Requests'], plot_data['Latency'], label=f\"{benchmark}-{orchestrator}-{param}\", linestyle=lines[mark % len(markers)])\n",
    "    # multiple benchmarks but one params\n",
    "    else:\n",
    "        print(\"Multiple benchmarks but one param\")\n",
    "        for mark, benchmark in enumerate(labels):\n",
    "                plot_data = data.loc[data['Benchmark'] == benchmark]\n",
    "                ax.plot(plot_data['Requests'], plot_data['Latency'], label=f\"{benchmark}-{orchestrator}\", linestyle=lines[mark % len(markers)])\n",
    "    # ax.plot(data['Requests'], data['Latency'])\n",
    "\n",
    "    \n",
    "    # set axis and legend\n",
    "    ax.grid()\n",
    "    # sb.despine(ax=ax, offset=0)\n",
    "    ax.set_xlim(left=0)\n",
    "    ax.set_xlabel('Requests', fontsize=fontsize)\n",
    "    ax.set_ylabel('Latency (milliseconds)', fontsize=fontsize)\n",
    "    ax.set_title('Latency versus Requests', fontsize=fontsize)\n",
    "\n",
    "    xticks = [int(tick) for tick in ax.get_xticks()]\n",
    "    # print(xticks)\n",
    "    # yticks = [int(tick) for tick in ax.get_yticks()]\n",
    "    # print(xticks, yticks)\n",
    "    # plt.yticks(yticks, fontsize=fontsize)\n",
    "    plt.yticks(fontsize=fontsize)\n",
    "    # plt.xticks(xticks, fontsize=fontsize)\n",
    "    plt.xticks(xticks, fontsize=fontsize)\n",
    "    plt.legend(loc=legend_location, fontsize=legend_fontsize)\n",
    "\n",
    "    return fig, ax"
   ]
  },
  {
   "cell_type": "code",
   "execution_count": 126,
   "id": "4b6561bc-17fa-4bb2-beb3-2dcc37b47c27",
   "metadata": {},
   "outputs": [],
   "source": [
    "df_12_swarm = df.loc[(df['Exp'] == 'exp12') & (df['Orchestrator'] == 'swarm')]\n",
    "# df2=df.loc[(df['Discount'] >= 1000) & (df['Discount'] <= 2000)]\n"
   ]
  },
  {
   "cell_type": "code",
   "execution_count": 129,
   "id": "8b6bbd91-bca8-4d98-9c30-a98d0d516751",
   "metadata": {},
   "outputs": [
    {
     "name": "stdout",
     "output_type": "stream",
     "text": [
      "Multiple benchmarks but one param\n"
     ]
    },
    {
     "data": {
      "image/png": "[encoded data removed]",
      "text/plain": [
       "<Figure size 1152x576 with 1 Axes>"
      ]
     },
     "metadata": {
      "needs_background": "light"
     },
     "output_type": "display_data"
    }
   ],
   "source": [
    "fig, ax = plot_lat_req(df_12_swarm, labels, legend_location, fontsize)"
   ]
  },
  {
   "cell_type": "code",
   "execution_count": 140,
   "id": "77f3d0e3-267f-4761-99a3-6acca7d380a7",
   "metadata": {},
   "outputs": [
    {
     "name": "stdout",
     "output_type": "stream",
     "text": [
      "Multiple orchestrators one benchmark and one param\n",
      "baseline\n",
      "baseline\n",
      "baseline\n"
     ]
    },
    {
     "data": {
      "image/png": "[encoded data removed]",
      "text/plain": [
       "<Figure size 1152x576 with 1 Axes>"
      ]
     },
     "metadata": {
      "needs_background": "light"
     },
     "output_type": "display_data"
    }
   ],
   "source": [
    "legend_location = \"lower right\"\n",
    "fig, ax = plot_lat_req_all(df_12, labels, legend_location, fontsize)"
   ]
  },
  {
   "cell_type": "code",
   "execution_count": 158,
   "id": "fcc3789a-c463-49f1-b0d7-619888cf98ac",
   "metadata": {},
   "outputs": [
    {
     "data": {
      "text/plain": [
       "Index(['Latency', 'Requests', 'Throughput', 'Baseline', 'Orchestrator',\n",
       "       'Benchmark', 'Infinite', 'Exp', 'Availability', 'Horizontal',\n",
       "       'Vertical', 'Threads', 'Connections', 'Duration', 'Mean', 'Max',\n",
       "       'StdDev', 'ReqSec'],\n",
       "      dtype='object')"
      ]
     },
     "execution_count": 158,
     "metadata": {},
     "output_type": "execute_result"
    }
   ],
   "source": [
    "df.columns"
   ]
  },
  {
   "cell_type": "code",
   "execution_count": 169,
   "id": "bbbf10bb-d8dc-483f-b425-e63e0bc7ce6e",
   "metadata": {},
   "outputs": [
    {
     "data": {
      "text/html": [
       "<div>\n",
       "<style scoped>\n",
       "    .dataframe tbody tr th:only-of-type {\n",
       "        vertical-align: middle;\n",
       "    }\n",
       "\n",
       "    .dataframe tbody tr th {\n",
       "        vertical-align: top;\n",
       "    }\n",
       "\n",
       "    .dataframe thead th {\n",
       "        text-align: right;\n",
       "    }\n",
       "</style>\n",
       "<table border=\"1\" class=\"dataframe\">\n",
       "  <thead>\n",
       "    <tr style=\"text-align: right;\">\n",
       "      <th></th>\n",
       "      <th>Latency</th>\n",
       "      <th>Requests</th>\n",
       "      <th>Throughput</th>\n",
       "      <th>Benchmark</th>\n",
       "      <th>Infinite</th>\n",
       "      <th>Vertical</th>\n",
       "      <th>Threads</th>\n",
       "      <th>Connections</th>\n",
       "      <th>ReqSec</th>\n",
       "    </tr>\n",
       "  </thead>\n",
       "  <tbody>\n",
       "    <tr>\n",
       "      <th>0</th>\n",
       "      <td>9.57</td>\n",
       "      <td>200.0</td>\n",
       "      <td>5614.0</td>\n",
       "      <td>hr</td>\n",
       "      <td>1</td>\n",
       "      <td>1</td>\n",
       "      <td>1</td>\n",
       "      <td>1024</td>\n",
       "      <td>186.73</td>\n",
       "    </tr>\n",
       "    <tr>\n",
       "      <th>1</th>\n",
       "      <td>4.93</td>\n",
       "      <td>200.0</td>\n",
       "      <td>5728.0</td>\n",
       "      <td>mm</td>\n",
       "      <td>1</td>\n",
       "      <td>1</td>\n",
       "      <td>1</td>\n",
       "      <td>512</td>\n",
       "      <td>190.71</td>\n",
       "    </tr>\n",
       "    <tr>\n",
       "      <th>2</th>\n",
       "      <td>4.89</td>\n",
       "      <td>200.0</td>\n",
       "      <td>5853.0</td>\n",
       "      <td>mm</td>\n",
       "      <td>1</td>\n",
       "      <td>1</td>\n",
       "      <td>1</td>\n",
       "      <td>1024</td>\n",
       "      <td>194.65</td>\n",
       "    </tr>\n",
       "    <tr>\n",
       "      <th>3</th>\n",
       "      <td>7.61</td>\n",
       "      <td>200.0</td>\n",
       "      <td>5958.0</td>\n",
       "      <td>sn</td>\n",
       "      <td>1</td>\n",
       "      <td>1</td>\n",
       "      <td>1</td>\n",
       "      <td>512</td>\n",
       "      <td>198.22</td>\n",
       "    </tr>\n",
       "    <tr>\n",
       "      <th>4</th>\n",
       "      <td>4.74</td>\n",
       "      <td>200.0</td>\n",
       "      <td>5860.0</td>\n",
       "      <td>mm</td>\n",
       "      <td>1</td>\n",
       "      <td>1</td>\n",
       "      <td>1</td>\n",
       "      <td>512</td>\n",
       "      <td>195.14</td>\n",
       "    </tr>\n",
       "    <tr>\n",
       "      <th>...</th>\n",
       "      <td>...</td>\n",
       "      <td>...</td>\n",
       "      <td>...</td>\n",
       "      <td>...</td>\n",
       "      <td>...</td>\n",
       "      <td>...</td>\n",
       "      <td>...</td>\n",
       "      <td>...</td>\n",
       "      <td>...</td>\n",
       "    </tr>\n",
       "    <tr>\n",
       "      <th>49</th>\n",
       "      <td>3.61</td>\n",
       "      <td>500.0</td>\n",
       "      <td>14836.0</td>\n",
       "      <td>mm</td>\n",
       "      <td>1</td>\n",
       "      <td>1</td>\n",
       "      <td>1</td>\n",
       "      <td>512</td>\n",
       "      <td>493.98</td>\n",
       "    </tr>\n",
       "    <tr>\n",
       "      <th>50</th>\n",
       "      <td>8.14</td>\n",
       "      <td>500.0</td>\n",
       "      <td>14845.0</td>\n",
       "      <td>hr</td>\n",
       "      <td>1</td>\n",
       "      <td>1</td>\n",
       "      <td>1</td>\n",
       "      <td>128</td>\n",
       "      <td>494.52</td>\n",
       "    </tr>\n",
       "    <tr>\n",
       "      <th>51</th>\n",
       "      <td>3.77</td>\n",
       "      <td>500.0</td>\n",
       "      <td>14845.0</td>\n",
       "      <td>mm</td>\n",
       "      <td>1</td>\n",
       "      <td>1</td>\n",
       "      <td>1</td>\n",
       "      <td>128</td>\n",
       "      <td>494.67</td>\n",
       "    </tr>\n",
       "    <tr>\n",
       "      <th>52</th>\n",
       "      <td>6.85</td>\n",
       "      <td>500.0</td>\n",
       "      <td>14531.0</td>\n",
       "      <td>sn</td>\n",
       "      <td>1</td>\n",
       "      <td>1</td>\n",
       "      <td>1</td>\n",
       "      <td>1024</td>\n",
       "      <td>483.35</td>\n",
       "    </tr>\n",
       "    <tr>\n",
       "      <th>53</th>\n",
       "      <td>6.84</td>\n",
       "      <td>500.0</td>\n",
       "      <td>14770.0</td>\n",
       "      <td>sn</td>\n",
       "      <td>1</td>\n",
       "      <td>1</td>\n",
       "      <td>1</td>\n",
       "      <td>512</td>\n",
       "      <td>491.42</td>\n",
       "    </tr>\n",
       "  </tbody>\n",
       "</table>\n",
       "<p>108 rows × 9 columns</p>\n",
       "</div>"
      ],
      "text/plain": [
       "    Latency  Requests  Throughput Benchmark  Infinite  Vertical  Threads  \\\n",
       "0      9.57     200.0      5614.0        hr         1         1        1   \n",
       "1      4.93     200.0      5728.0        mm         1         1        1   \n",
       "2      4.89     200.0      5853.0        mm         1         1        1   \n",
       "3      7.61     200.0      5958.0        sn         1         1        1   \n",
       "4      4.74     200.0      5860.0        mm         1         1        1   \n",
       "..      ...       ...         ...       ...       ...       ...      ...   \n",
       "49     3.61     500.0     14836.0        mm         1         1        1   \n",
       "50     8.14     500.0     14845.0        hr         1         1        1   \n",
       "51     3.77     500.0     14845.0        mm         1         1        1   \n",
       "52     6.85     500.0     14531.0        sn         1         1        1   \n",
       "53     6.84     500.0     14770.0        sn         1         1        1   \n",
       "\n",
       "    Connections  ReqSec  \n",
       "0          1024  186.73  \n",
       "1           512  190.71  \n",
       "2          1024  194.65  \n",
       "3           512  198.22  \n",
       "4           512  195.14  \n",
       "..          ...     ...  \n",
       "49          512  493.98  \n",
       "50          128  494.52  \n",
       "51          128  494.67  \n",
       "52         1024  483.35  \n",
       "53          512  491.42  \n",
       "\n",
       "[108 rows x 9 columns]"
      ]
     },
     "execution_count": 169,
     "metadata": {},
     "output_type": "execute_result"
    }
   ],
   "source": [
    "df_2.iloc[:,[0,1,2,5,6,10,11,12,-1]]"
   ]
  },
  {
   "cell_type": "code",
   "execution_count": null,
   "id": "6ea30b7f-f2f2-42b2-a258-392cb2756e65",
   "metadata": {},
   "outputs": [],
   "source": []
  },
  {
   "cell_type": "code",
   "execution_count": 174,
   "id": "7a01f275-aa09-4678-bcbe-9971d4fe69b6",
   "metadata": {},
   "outputs": [],
   "source": [
    "df_2_req_200 = df_2.loc[df_2['Requests'] == 200]\n",
    "df_2_req_500 = df_2.loc[df_2['Requests'] == 500]\n",
    "\n",
    "fig, ax = plot_lat_req(df_2_req_200, labels, legend_location, fontsize)\n",
    "# fig, ax = plot_lat_req_all(df_2, labels, legend_location, fontsize)"
   ]
  },
  {
   "cell_type": "code",
   "execution_count": null,
   "id": "e6337a24-6db2-4a81-9498-ecb63153b55a",
   "metadata": {},
   "outputs": [],
   "source": [
    "df_2_req_200\n",
    "# df_2_req_500"
   ]
  },
  {
   "cell_type": "code",
   "execution_count": 182,
   "id": "d9c33ae6-60fd-47e1-a10f-c81ccbab01a2",
   "metadata": {},
   "outputs": [
    {
     "ename": "IndexError",
     "evalue": "index 0 is out of bounds for axis 0 with size 0",
     "output_type": "error",
     "traceback": [
      "\u001b[0;31m---------------------------------------------------------------------------\u001b[0m",
      "\u001b[0;31mIndexError\u001b[0m                                Traceback (most recent call last)",
      "Input \u001b[0;32mIn [182]\u001b[0m, in \u001b[0;36m<module>\u001b[0;34m\u001b[0m\n\u001b[0;32m----> 1\u001b[0m fig, ax \u001b[38;5;241m=\u001b[39m \u001b[43mplot_lat_req\u001b[49m\u001b[43m(\u001b[49m\u001b[43mdf_2\u001b[49m\u001b[38;5;241;43m.\u001b[39;49m\u001b[43mloc\u001b[49m\u001b[43m[\u001b[49m\u001b[43m(\u001b[49m\u001b[43mdf_2\u001b[49m\u001b[43m[\u001b[49m\u001b[38;5;124;43m'\u001b[39;49m\u001b[38;5;124;43mThreads\u001b[39;49m\u001b[38;5;124;43m'\u001b[39;49m\u001b[43m]\u001b[49m\u001b[43m \u001b[49m\u001b[38;5;241;43m==\u001b[39;49m\u001b[43m \u001b[49m\u001b[38;5;124;43m'\u001b[39;49m\u001b[38;5;124;43m4\u001b[39;49m\u001b[38;5;124;43m'\u001b[39;49m\u001b[43m)\u001b[49m\u001b[43m \u001b[49m\u001b[38;5;241;43m&\u001b[39;49m\u001b[43m \u001b[49m\u001b[43m(\u001b[49m\u001b[43mdf_2\u001b[49m\u001b[43m[\u001b[49m\u001b[38;5;124;43m'\u001b[39;49m\u001b[38;5;124;43mConnections\u001b[39;49m\u001b[38;5;124;43m'\u001b[39;49m\u001b[43m]\u001b[49m\u001b[43m \u001b[49m\u001b[38;5;241;43m==\u001b[39;49m\u001b[43m \u001b[49m\u001b[38;5;241;43m1024\u001b[39;49m\u001b[43m)\u001b[49m\u001b[43m]\u001b[49m\u001b[43m,\u001b[49m\u001b[43m \u001b[49m\u001b[43mlabels\u001b[49m\u001b[43m,\u001b[49m\u001b[43m \u001b[49m\u001b[43mlegend_location\u001b[49m\u001b[43m,\u001b[49m\u001b[43m \u001b[49m\u001b[43mfontsize\u001b[49m\u001b[43m)\u001b[49m\n",
      "Input \u001b[0;32mIn [137]\u001b[0m, in \u001b[0;36mplot_lat_req\u001b[0;34m(data, labels, legend_location, legend_fontsize)\u001b[0m\n\u001b[1;32m     52\u001b[0m lines \u001b[38;5;241m=\u001b[39m [\u001b[38;5;124m\"\u001b[39m\u001b[38;5;124m-\u001b[39m\u001b[38;5;124m\"\u001b[39m,\u001b[38;5;124m\"\u001b[39m\u001b[38;5;124m--\u001b[39m\u001b[38;5;124m\"\u001b[39m,\u001b[38;5;124m\"\u001b[39m\u001b[38;5;124m-.\u001b[39m\u001b[38;5;124m\"\u001b[39m,\u001b[38;5;124m\"\u001b[39m\u001b[38;5;124m:\u001b[39m\u001b[38;5;124m\"\u001b[39m]\n\u001b[1;32m     53\u001b[0m markers \u001b[38;5;241m=\u001b[39m [\u001b[38;5;124m\"\u001b[39m\u001b[38;5;124mo\u001b[39m\u001b[38;5;124m\"\u001b[39m,\u001b[38;5;124m\"\u001b[39m\u001b[38;5;124mv\u001b[39m\u001b[38;5;124m\"\u001b[39m,\u001b[38;5;124m\"\u001b[39m\u001b[38;5;124m^\u001b[39m\u001b[38;5;124m\"\u001b[39m,\u001b[38;5;124m\"\u001b[39m\u001b[38;5;124m<\u001b[39m\u001b[38;5;124m\"\u001b[39m,\u001b[38;5;124m\"\u001b[39m\u001b[38;5;124m>\u001b[39m\u001b[38;5;124m\"\u001b[39m,\u001b[38;5;124m\"\u001b[39m\u001b[38;5;124m8\u001b[39m\u001b[38;5;124m\"\u001b[39m,\u001b[38;5;124m\"\u001b[39m\u001b[38;5;124ms\u001b[39m\u001b[38;5;124m\"\u001b[39m,\u001b[38;5;124m\"\u001b[39m\u001b[38;5;124mp\u001b[39m\u001b[38;5;124m\"\u001b[39m,\u001b[38;5;124m\"\u001b[39m\u001b[38;5;124m*\u001b[39m\u001b[38;5;124m\"\u001b[39m,\u001b[38;5;124m\"\u001b[39m\u001b[38;5;124mh\u001b[39m\u001b[38;5;124m\"\u001b[39m,\u001b[38;5;124m\"\u001b[39m\u001b[38;5;124mH\u001b[39m\u001b[38;5;124m\"\u001b[39m,\u001b[38;5;124m\"\u001b[39m\u001b[38;5;124mD\u001b[39m\u001b[38;5;124m\"\u001b[39m,\u001b[38;5;124m\"\u001b[39m\u001b[38;5;124md\u001b[39m\u001b[38;5;124m\"\u001b[39m,\u001b[38;5;124m\"\u001b[39m\u001b[38;5;124mP\u001b[39m\u001b[38;5;124m\"\u001b[39m,\u001b[38;5;124m\"\u001b[39m\u001b[38;5;124mX\u001b[39m\u001b[38;5;124m\"\u001b[39m]\n\u001b[0;32m---> 54\u001b[0m orchestrator \u001b[38;5;241m=\u001b[39m \u001b[43mdata\u001b[49m\u001b[43m[\u001b[49m\u001b[38;5;124;43m'\u001b[39;49m\u001b[38;5;124;43mOrchestrator\u001b[39;49m\u001b[38;5;124;43m'\u001b[39;49m\u001b[43m]\u001b[49m\u001b[38;5;241;43m.\u001b[39;49m\u001b[43munique\u001b[49m\u001b[43m(\u001b[49m\u001b[43m)\u001b[49m\u001b[43m[\u001b[49m\u001b[38;5;241;43m0\u001b[39;49m\u001b[43m]\u001b[49m\n\u001b[1;32m     56\u001b[0m \u001b[38;5;66;03m# one benchmark but multiple params\u001b[39;00m\n\u001b[1;32m     57\u001b[0m \u001b[38;5;28;01mif\u001b[39;00m \u001b[38;5;28mlen\u001b[39m(labels) \u001b[38;5;241m==\u001b[39m \u001b[38;5;241m1\u001b[39m:\n",
      "File \u001b[0;32m~/Documents/Thesis/Results/Swarm/venv/lib/python3.9/site-packages/pandas/core/arrays/_mixins.py:272\u001b[0m, in \u001b[0;36mNDArrayBackedExtensionArray.__getitem__\u001b[0;34m(self, key)\u001b[0m\n\u001b[1;32m    266\u001b[0m \u001b[38;5;28;01mdef\u001b[39;00m \u001b[38;5;21m__getitem__\u001b[39m(\n\u001b[1;32m    267\u001b[0m     \u001b[38;5;28mself\u001b[39m: NDArrayBackedExtensionArrayT,\n\u001b[1;32m    268\u001b[0m     key: PositionalIndexer2D,\n\u001b[1;32m    269\u001b[0m ) \u001b[38;5;241m-\u001b[39m\u001b[38;5;241m>\u001b[39m NDArrayBackedExtensionArrayT \u001b[38;5;241m|\u001b[39m Any:\n\u001b[1;32m    270\u001b[0m     \u001b[38;5;28;01mif\u001b[39;00m lib\u001b[38;5;241m.\u001b[39mis_integer(key):\n\u001b[1;32m    271\u001b[0m         \u001b[38;5;66;03m# fast-path\u001b[39;00m\n\u001b[0;32m--> 272\u001b[0m         result \u001b[38;5;241m=\u001b[39m \u001b[38;5;28;43mself\u001b[39;49m\u001b[38;5;241;43m.\u001b[39;49m\u001b[43m_ndarray\u001b[49m\u001b[43m[\u001b[49m\u001b[43mkey\u001b[49m\u001b[43m]\u001b[49m\n\u001b[1;32m    273\u001b[0m         \u001b[38;5;28;01mif\u001b[39;00m \u001b[38;5;28mself\u001b[39m\u001b[38;5;241m.\u001b[39mndim \u001b[38;5;241m==\u001b[39m \u001b[38;5;241m1\u001b[39m:\n\u001b[1;32m    274\u001b[0m             \u001b[38;5;28;01mreturn\u001b[39;00m \u001b[38;5;28mself\u001b[39m\u001b[38;5;241m.\u001b[39m_box_func(result)\n",
      "\u001b[0;31mIndexError\u001b[0m: index 0 is out of bounds for axis 0 with size 0"
     ]
    },
    {
     "data": {
      "image/png": "[encoded data removed]",
      "text/plain": [
       "<Figure size 1152x576 with 1 Axes>"
      ]
     },
     "metadata": {
      "needs_background": "light"
     },
     "output_type": "display_data"
    }
   ],
   "source": [
    "fig, ax = plot_lat_req(df_2.loc[(df_2['Threads'] == '4') & (df_2['Connections'] == 1024)], labels, legend_location, fontsize)\n"
   ]
  }
 ],
 "metadata": {
  "kernelspec": {
   "display_name": "Python 3 (ipykernel)",
   "language": "python",
   "name": "python3"
  },
  "language_info": {
   "codemirror_mode": {
    "name": "ipython",
    "version": 3
   },
   "file_extension": ".py",
   "mimetype": "text/x-python",
   "name": "python",
   "nbconvert_exporter": "python",
   "pygments_lexer": "ipython3",
   "version": "3.9.9"
  }
 },
 "nbformat": 4,
 "nbformat_minor": 5
}
