{
 "cells": [
  {
   "cell_type": "code",
   "execution_count": 7,
   "id": "d6b43775-c7b8-4fee-9fe0-c43b958e629a",
   "metadata": {},
   "outputs": [
    {
     "name": "stdout",
     "output_type": "stream",
     "text": [
      "zsh:1: no matches found: df-*-checkpoint.csv\n"
     ]
    }
   ],
   "source": [
    "!rm df-*-checkpoint.csv"
   ]
  },
  {
   "cell_type": "code",
   "execution_count": 8,
   "id": "3a4fab71-c339-43a9-a58d-9b731121688a",
   "metadata": {},
   "outputs": [],
   "source": [
    "import os\n",
    "import glob"
   ]
  },
  {
   "cell_type": "code",
   "execution_count": 9,
   "id": "32348254-154d-44f7-b757-e7899604829c",
   "metadata": {},
   "outputs": [],
   "source": [
    "import pandas as pd\n",
    "import numpy as np\n",
    "import seaborn as sns\n",
    "import matplotlib.pyplot as plt"
   ]
  },
  {
   "cell_type": "markdown",
   "id": "15394db5-cf50-4a47-8a11-8a257848ac7b",
   "metadata": {},
   "source": [
    "# Load all datasets"
   ]
  },
  {
   "cell_type": "code",
   "execution_count": 10,
   "id": "b1d6df6a-146f-4d88-8a8a-f096d8f5304d",
   "metadata": {},
   "outputs": [
    {
     "name": "stdout",
     "output_type": "stream",
     "text": [
      "(555, 18)\n"
     ]
    }
   ],
   "source": [
    "all_files = glob.glob(\"*.csv\")\n",
    "df = pd.concat((pd.read_csv(f) for f in all_files))\n",
    "df = df.drop_duplicates()\n",
    "print(df.shape)"
   ]
  },
  {
   "cell_type": "code",
   "execution_count": 11,
   "id": "a46d278c-f61e-4512-9ada-07d07df3a77a",
   "metadata": {},
   "outputs": [],
   "source": [
    "df['Orchestrator'] = df['Orchestrator'].astype('category')\n",
    "df['Benchmark'] = df['Benchmark'].astype('category')\n",
    "df['Exp'] = df['Exp'].astype('category')\n",
    "# df['Latency'] = df['Latency']\n",
    "df['Requests'] = df['Requests'].astype(int)"
   ]
  },
  {
   "cell_type": "code",
   "execution_count": 12,
   "id": "d32bca9a-a8e6-414b-ab60-a32e7faef505",
   "metadata": {},
   "outputs": [],
   "source": [
    "df_0 = df.loc[df['Exp'] == 'exp0']\n",
    "df_1 = df.loc[df['Exp'] == 'exp1']\n",
    "df_2 = df.loc[df['Exp'] == 'exp2']\n",
    "df_3 = df.loc[df['Exp'] == 'exp3']\n",
    "df_4 = df.loc[df['Exp'] == 'exp4']\n",
    "df_5 = df.loc[df['Exp'] == 'exp5']\n",
    "df_6 = df.loc[df['Exp'] == 'exp6']\n",
    "df_7 = df.loc[df['Exp'] == 'exp7']\n",
    "df_8 = df.loc[df['Exp'] == 'exp8']\n",
    "df_9 = df.loc[df['Exp'] == 'exp9']\n",
    "df_10 = df.loc[df['Exp'] == 'exp10']\n",
    "df_11 = df.loc[df['Exp'] == 'exp11']"
   ]
  },
  {
   "cell_type": "code",
   "execution_count": 13,
   "id": "3d6a94cd-8c26-4855-aa23-7f79dc5f897d",
   "metadata": {},
   "outputs": [],
   "source": [
    "# Global settings\n",
    "fontsize = 20\n",
    "legend_location = \"lower right\""
   ]
  },
  {
   "cell_type": "markdown",
   "id": "337ba25b-55cd-4a97-b0bd-99185182229b",
   "metadata": {},
   "source": [
    "# Exp10 Redeployment"
   ]
  },
  {
   "cell_type": "code",
   "execution_count": 14,
   "id": "bbbf10bb-d8dc-483f-b425-e63e0bc7ce6e",
   "metadata": {},
   "outputs": [
    {
     "data": {
      "text/html": [
       "<div>\n",
       "<style scoped>\n",
       "    .dataframe tbody tr th:only-of-type {\n",
       "        vertical-align: middle;\n",
       "    }\n",
       "\n",
       "    .dataframe tbody tr th {\n",
       "        vertical-align: top;\n",
       "    }\n",
       "\n",
       "    .dataframe thead th {\n",
       "        text-align: right;\n",
       "    }\n",
       "</style>\n",
       "<table border=\"1\" class=\"dataframe\">\n",
       "  <thead>\n",
       "    <tr style=\"text-align: right;\">\n",
       "      <th></th>\n",
       "      <th>Latency</th>\n",
       "      <th>Requests</th>\n",
       "      <th>Throughput</th>\n",
       "      <th>Benchmark</th>\n",
       "      <th>Infinite</th>\n",
       "      <th>Vertical</th>\n",
       "      <th>Threads</th>\n",
       "      <th>Connections</th>\n",
       "      <th>ReqSec</th>\n",
       "    </tr>\n",
       "  </thead>\n",
       "  <tbody>\n",
       "    <tr>\n",
       "      <th>64</th>\n",
       "      <td>42470.00</td>\n",
       "      <td>2000</td>\n",
       "      <td>241875.0</td>\n",
       "      <td>sn</td>\n",
       "      <td>1</td>\n",
       "      <td>1</td>\n",
       "      <td>4</td>\n",
       "      <td>512</td>\n",
       "      <td>1612.49</td>\n",
       "    </tr>\n",
       "    <tr>\n",
       "      <th>94</th>\n",
       "      <td>1870.00</td>\n",
       "      <td>3000</td>\n",
       "      <td>177887.0</td>\n",
       "      <td>sn</td>\n",
       "      <td>1</td>\n",
       "      <td>1</td>\n",
       "      <td>4</td>\n",
       "      <td>512</td>\n",
       "      <td>1185.39</td>\n",
       "    </tr>\n",
       "    <tr>\n",
       "      <th>115</th>\n",
       "      <td>467.45</td>\n",
       "      <td>5000</td>\n",
       "      <td>749008.0</td>\n",
       "      <td>mm</td>\n",
       "      <td>1</td>\n",
       "      <td>1</td>\n",
       "      <td>4</td>\n",
       "      <td>512</td>\n",
       "      <td>4993.43</td>\n",
       "    </tr>\n",
       "    <tr>\n",
       "      <th>128</th>\n",
       "      <td>1000.00</td>\n",
       "      <td>6000</td>\n",
       "      <td>548433.0</td>\n",
       "      <td>mm</td>\n",
       "      <td>1</td>\n",
       "      <td>1</td>\n",
       "      <td>4</td>\n",
       "      <td>512</td>\n",
       "      <td>3652.96</td>\n",
       "    </tr>\n",
       "    <tr>\n",
       "      <th>136</th>\n",
       "      <td>263.68</td>\n",
       "      <td>14000</td>\n",
       "      <td>2095945.0</td>\n",
       "      <td>hr</td>\n",
       "      <td>1</td>\n",
       "      <td>1</td>\n",
       "      <td>4</td>\n",
       "      <td>512</td>\n",
       "      <td>13972.72</td>\n",
       "    </tr>\n",
       "  </tbody>\n",
       "</table>\n",
       "</div>"
      ],
      "text/plain": [
       "      Latency  Requests  Throughput Benchmark  Infinite  Vertical  Threads  \\\n",
       "64   42470.00      2000    241875.0        sn         1         1        4   \n",
       "94    1870.00      3000    177887.0        sn         1         1        4   \n",
       "115    467.45      5000    749008.0        mm         1         1        4   \n",
       "128   1000.00      6000    548433.0        mm         1         1        4   \n",
       "136    263.68     14000   2095945.0        hr         1         1        4   \n",
       "\n",
       "     Connections    ReqSec  \n",
       "64           512   1612.49  \n",
       "94           512   1185.39  \n",
       "115          512   4993.43  \n",
       "128          512   3652.96  \n",
       "136          512  13972.72  "
      ]
     },
     "execution_count": 14,
     "metadata": {},
     "output_type": "execute_result"
    }
   ],
   "source": [
    "df_10.iloc[:,[0,1,2,5,6,10,11,12,-1]].head()"
   ]
  },
  {
   "cell_type": "code",
   "execution_count": 15,
   "id": "2dfe3385-c07a-4480-84a4-49e1c7620bcd",
   "metadata": {},
   "outputs": [
    {
     "data": {
      "text/plain": [
       "(6, 18)"
      ]
     },
     "execution_count": 15,
     "metadata": {},
     "output_type": "execute_result"
    }
   ],
   "source": [
    "df_10.shape"
   ]
  },
  {
   "cell_type": "code",
   "execution_count": 17,
   "id": "99e6fa35-3d16-44cc-9021-fa7819387376",
   "metadata": {},
   "outputs": [],
   "source": [
    "labels = df_10['Benchmark'].unique()"
   ]
  },
  {
   "cell_type": "code",
   "execution_count": 39,
   "id": "b861d4db-10b5-4617-9562-bdea3d8fd154",
   "metadata": {},
   "outputs": [
    {
     "data": {
      "text/html": [
       "<div>\n",
       "<style scoped>\n",
       "    .dataframe tbody tr th:only-of-type {\n",
       "        vertical-align: middle;\n",
       "    }\n",
       "\n",
       "    .dataframe tbody tr th {\n",
       "        vertical-align: top;\n",
       "    }\n",
       "\n",
       "    .dataframe thead th {\n",
       "        text-align: right;\n",
       "    }\n",
       "</style>\n",
       "<table border=\"1\" class=\"dataframe\">\n",
       "  <thead>\n",
       "    <tr style=\"text-align: right;\">\n",
       "      <th></th>\n",
       "      <th>Latency</th>\n",
       "      <th>Requests</th>\n",
       "      <th>Throughput</th>\n",
       "      <th>Baseline</th>\n",
       "      <th>Orchestrator</th>\n",
       "      <th>Benchmark</th>\n",
       "      <th>Infinite</th>\n",
       "      <th>Exp</th>\n",
       "      <th>Availability</th>\n",
       "      <th>Horizontal</th>\n",
       "      <th>Vertical</th>\n",
       "      <th>Threads</th>\n",
       "      <th>Connections</th>\n",
       "      <th>Duration</th>\n",
       "      <th>Mean</th>\n",
       "      <th>Max</th>\n",
       "      <th>StdDev</th>\n",
       "      <th>ReqSec</th>\n",
       "    </tr>\n",
       "  </thead>\n",
       "  <tbody>\n",
       "    <tr>\n",
       "      <th>64</th>\n",
       "      <td>42470.00</td>\n",
       "      <td>2000</td>\n",
       "      <td>241875.0</td>\n",
       "      <td>0</td>\n",
       "      <td>swarm</td>\n",
       "      <td>sn</td>\n",
       "      <td>1</td>\n",
       "      <td>exp10</td>\n",
       "      <td>0</td>\n",
       "      <td>1</td>\n",
       "      <td>1</td>\n",
       "      <td>4</td>\n",
       "      <td>512</td>\n",
       "      <td>150</td>\n",
       "      <td>5387.112</td>\n",
       "      <td>71303.168</td>\n",
       "      <td>10166.195</td>\n",
       "      <td>1612.49</td>\n",
       "    </tr>\n",
       "    <tr>\n",
       "      <th>94</th>\n",
       "      <td>1870.00</td>\n",
       "      <td>3000</td>\n",
       "      <td>177887.0</td>\n",
       "      <td>0</td>\n",
       "      <td>swarm</td>\n",
       "      <td>sn</td>\n",
       "      <td>1</td>\n",
       "      <td>exp10</td>\n",
       "      <td>0</td>\n",
       "      <td>1</td>\n",
       "      <td>1</td>\n",
       "      <td>4</td>\n",
       "      <td>512</td>\n",
       "      <td>150</td>\n",
       "      <td>42121.699</td>\n",
       "      <td>132710.400</td>\n",
       "      <td>31905.317</td>\n",
       "      <td>1185.39</td>\n",
       "    </tr>\n",
       "    <tr>\n",
       "      <th>115</th>\n",
       "      <td>467.45</td>\n",
       "      <td>5000</td>\n",
       "      <td>749008.0</td>\n",
       "      <td>0</td>\n",
       "      <td>swarm</td>\n",
       "      <td>mm</td>\n",
       "      <td>1</td>\n",
       "      <td>exp10</td>\n",
       "      <td>0</td>\n",
       "      <td>1</td>\n",
       "      <td>1</td>\n",
       "      <td>4</td>\n",
       "      <td>512</td>\n",
       "      <td>150</td>\n",
       "      <td>23.132</td>\n",
       "      <td>1481.728</td>\n",
       "      <td>80.096</td>\n",
       "      <td>4993.43</td>\n",
       "    </tr>\n",
       "    <tr>\n",
       "      <th>128</th>\n",
       "      <td>1000.00</td>\n",
       "      <td>6000</td>\n",
       "      <td>548433.0</td>\n",
       "      <td>0</td>\n",
       "      <td>swarm</td>\n",
       "      <td>mm</td>\n",
       "      <td>1</td>\n",
       "      <td>exp10</td>\n",
       "      <td>0</td>\n",
       "      <td>1</td>\n",
       "      <td>1</td>\n",
       "      <td>4</td>\n",
       "      <td>512</td>\n",
       "      <td>150</td>\n",
       "      <td>25602.778</td>\n",
       "      <td>66486.272</td>\n",
       "      <td>23291.654</td>\n",
       "      <td>3652.96</td>\n",
       "    </tr>\n",
       "    <tr>\n",
       "      <th>136</th>\n",
       "      <td>263.68</td>\n",
       "      <td>14000</td>\n",
       "      <td>2095945.0</td>\n",
       "      <td>0</td>\n",
       "      <td>swarm</td>\n",
       "      <td>hr</td>\n",
       "      <td>1</td>\n",
       "      <td>exp10</td>\n",
       "      <td>0</td>\n",
       "      <td>1</td>\n",
       "      <td>1</td>\n",
       "      <td>4</td>\n",
       "      <td>512</td>\n",
       "      <td>150</td>\n",
       "      <td>48.412</td>\n",
       "      <td>876.032</td>\n",
       "      <td>52.356</td>\n",
       "      <td>13972.72</td>\n",
       "    </tr>\n",
       "    <tr>\n",
       "      <th>141</th>\n",
       "      <td>3240.00</td>\n",
       "      <td>16000</td>\n",
       "      <td>2399158.0</td>\n",
       "      <td>0</td>\n",
       "      <td>swarm</td>\n",
       "      <td>hr</td>\n",
       "      <td>1</td>\n",
       "      <td>exp10</td>\n",
       "      <td>0</td>\n",
       "      <td>1</td>\n",
       "      <td>1</td>\n",
       "      <td>4</td>\n",
       "      <td>512</td>\n",
       "      <td>150</td>\n",
       "      <td>638.511</td>\n",
       "      <td>5853.184</td>\n",
       "      <td>777.912</td>\n",
       "      <td>15994.31</td>\n",
       "    </tr>\n",
       "  </tbody>\n",
       "</table>\n",
       "</div>"
      ],
      "text/plain": [
       "      Latency  Requests  Throughput  Baseline Orchestrator Benchmark  \\\n",
       "64   42470.00      2000    241875.0         0        swarm        sn   \n",
       "94    1870.00      3000    177887.0         0        swarm        sn   \n",
       "115    467.45      5000    749008.0         0        swarm        mm   \n",
       "128   1000.00      6000    548433.0         0        swarm        mm   \n",
       "136    263.68     14000   2095945.0         0        swarm        hr   \n",
       "141   3240.00     16000   2399158.0         0        swarm        hr   \n",
       "\n",
       "     Infinite    Exp  Availability  Horizontal  Vertical  Threads  \\\n",
       "64          1  exp10             0           1         1        4   \n",
       "94          1  exp10             0           1         1        4   \n",
       "115         1  exp10             0           1         1        4   \n",
       "128         1  exp10             0           1         1        4   \n",
       "136         1  exp10             0           1         1        4   \n",
       "141         1  exp10             0           1         1        4   \n",
       "\n",
       "     Connections  Duration       Mean         Max     StdDev    ReqSec  \n",
       "64           512       150   5387.112   71303.168  10166.195   1612.49  \n",
       "94           512       150  42121.699  132710.400  31905.317   1185.39  \n",
       "115          512       150     23.132    1481.728     80.096   4993.43  \n",
       "128          512       150  25602.778   66486.272  23291.654   3652.96  \n",
       "136          512       150     48.412     876.032     52.356  13972.72  \n",
       "141          512       150    638.511    5853.184    777.912  15994.31  "
      ]
     },
     "execution_count": 39,
     "metadata": {},
     "output_type": "execute_result"
    }
   ],
   "source": [
    "df_10"
   ]
  },
  {
   "cell_type": "code",
   "execution_count": 46,
   "id": "0849954b-102e-4d8e-becd-6354bd488520",
   "metadata": {},
   "outputs": [
    {
     "name": "stdout",
     "output_type": "stream",
     "text": [
      "\\begin{tabular}{rrrrllrlrrrrrrrrrr}\n",
      "\\toprule\n",
      " Latency &  Requests &  Throughput &  Baseline & Orchestrator & Benchmark &  Infinite &   Exp &  Availability &  Horizontal &  Vertical &  Threads &  Connections &  Duration &      Mean &        Max &    StdDev &   ReqSec \\\\\n",
      "\\midrule\n",
      "42470.00 &      2000 &    241875.0 &         0 &        swarm &        sn &         1 & exp10 &             0 &           1 &         1 &        4 &          512 &       150 &  5387.112 &  71303.168 & 10166.195 &  1612.49 \\\\\n",
      " 1870.00 &      3000 &    177887.0 &         0 &        swarm &        sn &         1 & exp10 &             0 &           1 &         1 &        4 &          512 &       150 & 42121.699 & 132710.400 & 31905.317 &  1185.39 \\\\\n",
      "  467.45 &      5000 &    749008.0 &         0 &        swarm &        mm &         1 & exp10 &             0 &           1 &         1 &        4 &          512 &       150 &    23.132 &   1481.728 &    80.096 &  4993.43 \\\\\n",
      " 1000.00 &      6000 &    548433.0 &         0 &        swarm &        mm &         1 & exp10 &             0 &           1 &         1 &        4 &          512 &       150 & 25602.778 &  66486.272 & 23291.654 &  3652.96 \\\\\n",
      "  263.68 &     14000 &   2095945.0 &         0 &        swarm &        hr &         1 & exp10 &             0 &           1 &         1 &        4 &          512 &       150 &    48.412 &    876.032 &    52.356 & 13972.72 \\\\\n",
      " 3240.00 &     16000 &   2399158.0 &         0 &        swarm &        hr &         1 & exp10 &             0 &           1 &         1 &        4 &          512 &       150 &   638.511 &   5853.184 &   777.912 & 15994.31 \\\\\n",
      "\\bottomrule\n",
      "\\end{tabular}\n",
      "\n"
     ]
    },
    {
     "name": "stderr",
     "output_type": "stream",
     "text": [
      "/var/folders/nv/p_yx9k0j763cnbwqk5j012t80000gn/T/ipykernel_15739/760853311.py:1: FutureWarning: In future versions `DataFrame.to_latex` is expected to utilise the base implementation of `Styler.to_latex` for formatting and rendering. The arguments signature may therefore change. It is recommended instead to use `DataFrame.style.to_latex` which also contains additional functionality.\n",
      "  print(df_10.to_latex(index=False))\n"
     ]
    }
   ],
   "source": [
    "print(df_10.to_latex(index=False))"
   ]
  },
  {
   "cell_type": "markdown",
   "id": "9d3e98e6-d528-4f19-a46b-97d95e34204b",
   "metadata": {},
   "source": [
    "Take a closer look at throughput, Requests, and Reqsec actually. "
   ]
  },
  {
   "cell_type": "code",
   "execution_count": 40,
   "id": "ea6e764a-07ef-4c7d-9cad-417837c021c2",
   "metadata": {},
   "outputs": [
    {
     "data": {
      "image/png": "[encoded data removed]",
      "text/plain": [
       "<Figure size 576x576 with 1 Axes>"
      ]
     },
     "metadata": {
      "needs_background": "light"
     },
     "output_type": "display_data"
    }
   ],
   "source": [
    "fig, ax = plt.subplots(figsize=(8,8))\n",
    "labels = [\"sn\", \"mm\", \"hr\"]\n",
    "p = sns.barplot(x=\"Requests\", y=\"Latency\", data=df_10, hue=\"Benchmark\")\n",
    "p.axes.legend(loc=\"upper right\", fontsize=15)\n",
    "plt.ylabel('Latency (milliseconds)', fontsize=15)\n",
    "# p.axes.xaxis.set_visible(False)\n",
    "plt.xlabel('Requests', fontsize=15)\n",
    "plt.savefig(\"Figures/exp10-broken-duration150.png\", bbox_inches='tight')"
   ]
  },
  {
   "cell_type": "code",
   "execution_count": 21,
   "id": "93792aea-d164-487e-ae29-066b8c91a7d0",
   "metadata": {},
   "outputs": [
    {
     "data": {
      "image/png": "[encoded data removed]",
      "text/plain": [
       "<Figure size 1152x576 with 3 Axes>"
      ]
     },
     "metadata": {
      "needs_background": "light"
     },
     "output_type": "display_data"
    }
   ],
   "source": [
    "# Exp5\n",
    "fig, ax = plt.subplots(3, 1, figsize=(16,8))\n",
    "xticks = df_7['Requests'].unique()\n",
    "\n",
    "plt.subplot(311)\n",
    "p = sns.lineplot(x=\"Requests\", y=\"Latency\", data=df_7, hue=\"Benchmark\", style='Benchmark', linewidth=3, legend=\"\")\n",
    "p.axes.xaxis.set_visible(False)\n",
    "# p.axes.yaxis.set_visible(False)\n",
    "plt.ylabel(\"\")\n",
    "p.set_xticks(xticks)\n",
    "\n",
    "# plt.ylabel('Latency (milliseconds)', fontsize=12)\n",
    "\n",
    "\n",
    "# Exp7\n",
    "plt.subplot(312)\n",
    "p = sns.lineplot(x=\"Requests\", y=\"Latency\", data=df_8, hue=\"Benchmark\", style='Benchmark', linewidth=3, legend=\"\")\n",
    "plt.ylabel('Latency (milliseconds)', fontsize=20)\n",
    "p.axes.xaxis.set_visible(False)\n",
    "\n",
    "\n",
    "# Exp8\n",
    "plt.subplot(313)\n",
    "p = sns.lineplot(x=\"Requests\", y=\"Latency\", data=df_9, hue=\"Benchmark\", style='Benchmark', linewidth=3, legend=\"\")\n",
    "p.set_xticks(xticks)\n",
    "# plt.ylabel('Latency (milliseconds)', fontsize=12)\n",
    "plt.ylabel(\"\")\n",
    "\n",
    "plt.xticks(rotation = 45, fontsize=12)\n",
    "plt.xlabel('Requests', fontsize=20)\n",
    "\n",
    "# plt.ylabel()\n",
    "\n",
    "plt.legend(labels, fontsize=15)\n",
    "plt.savefig(\"Figures/exp9-exp8-exp7.png\", bbox_inches='tight')"
   ]
  }
 ],
 "metadata": {
  "kernelspec": {
   "display_name": "Python 3 (ipykernel)",
   "language": "python",
   "name": "python3"
  },
  "language_info": {
   "codemirror_mode": {
    "name": "ipython",
    "version": 3
   },
   "file_extension": ".py",
   "mimetype": "text/x-python",
   "name": "python",
   "nbconvert_exporter": "python",
   "pygments_lexer": "ipython3",
   "version": "3.9.9"
  }
 },
 "nbformat": 4,
 "nbformat_minor": 5
}
