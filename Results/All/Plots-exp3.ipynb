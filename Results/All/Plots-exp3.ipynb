{
 "cells": [
  {
   "cell_type": "code",
   "execution_count": 2,
   "id": "d6b43775-c7b8-4fee-9fe0-c43b958e629a",
   "metadata": {},
   "outputs": [
    {
     "name": "stdout",
     "output_type": "stream",
     "text": [
      "zsh:1: no matches found: df-*-checkpoint.csv\n"
     ]
    }
   ],
   "source": [
    "!rm df-*-checkpoint.csv"
   ]
  },
  {
   "cell_type": "code",
   "execution_count": 3,
   "id": "3a4fab71-c339-43a9-a58d-9b731121688a",
   "metadata": {},
   "outputs": [],
   "source": [
    "import os\n",
    "import glob"
   ]
  },
  {
   "cell_type": "code",
   "execution_count": 4,
   "id": "32348254-154d-44f7-b757-e7899604829c",
   "metadata": {},
   "outputs": [],
   "source": [
    "import pandas as pd\n",
    "import numpy as np\n",
    "import seaborn as sns\n",
    "import matplotlib.pyplot as plt"
   ]
  },
  {
   "cell_type": "markdown",
   "id": "15394db5-cf50-4a47-8a11-8a257848ac7b",
   "metadata": {},
   "source": [
    "# Load all datasets"
   ]
  },
  {
   "cell_type": "code",
   "execution_count": 5,
   "id": "b1d6df6a-146f-4d88-8a8a-f096d8f5304d",
   "metadata": {},
   "outputs": [
    {
     "name": "stdout",
     "output_type": "stream",
     "text": [
      "(555, 18)\n"
     ]
    }
   ],
   "source": [
    "all_files = glob.glob(\"*.csv\")\n",
    "df = pd.concat((pd.read_csv(f) for f in all_files))\n",
    "df = df.drop_duplicates()\n",
    "print(df.shape)"
   ]
  },
  {
   "cell_type": "code",
   "execution_count": 97,
   "id": "a46d278c-f61e-4512-9ada-07d07df3a77a",
   "metadata": {},
   "outputs": [],
   "source": [
    "df['Orchestrator'] = df['Orchestrator'].astype('category')\n",
    "df['Benchmark'] = df['Benchmark'].astype('category')\n",
    "df['Exp'] = df['Exp'].astype('category')\n",
    "# df['Latency'] = df['Latency'].round(2)\n",
    "df['Requests'] = df['Requests'].astype(int)"
   ]
  },
  {
   "cell_type": "code",
   "execution_count": 96,
   "id": "d32bca9a-a8e6-414b-ab60-a32e7faef505",
   "metadata": {},
   "outputs": [],
   "source": [
    "df_0 = df.loc[df['Exp'] == 'exp0']\n",
    "df_1 = df.loc[df['Exp'] == 'exp1']\n",
    "df_2 = df.loc[df['Exp'] == 'exp2']\n",
    "df_3 = df.loc[df['Exp'] == 'exp3']\n",
    "df_4 = df.loc[df['Exp'] == 'exp4']\n",
    "df_5 = df.loc[df['Exp'] == 'exp5']\n",
    "df_6 = df.loc[df['Exp'] == 'exp6']\n",
    "df_7 = df.loc[df['Exp'] == 'exp7']\n",
    "df_8 = df.loc[df['Exp'] == 'exp8']\n",
    "df_9 = df.loc[df['Exp'] == 'exp9']\n",
    "df_10 = df.loc[df['Exp'] == 'exp10']\n",
    "df_11 = df.loc[df['Exp'] == 'exp11']"
   ]
  },
  {
   "cell_type": "code",
   "execution_count": 8,
   "id": "3d6a94cd-8c26-4855-aa23-7f79dc5f897d",
   "metadata": {},
   "outputs": [],
   "source": [
    "# Global settings\n",
    "fontsize = 20\n",
    "legend_location = \"lower right\""
   ]
  },
  {
   "cell_type": "markdown",
   "id": "337ba25b-55cd-4a97-b0bd-99185182229b",
   "metadata": {},
   "source": [
    "# Exp3 multiclients"
   ]
  },
  {
   "cell_type": "code",
   "execution_count": 9,
   "id": "bbbf10bb-d8dc-483f-b425-e63e0bc7ce6e",
   "metadata": {},
   "outputs": [
    {
     "data": {
      "text/html": [
       "<div>\n",
       "<style scoped>\n",
       "    .dataframe tbody tr th:only-of-type {\n",
       "        vertical-align: middle;\n",
       "    }\n",
       "\n",
       "    .dataframe tbody tr th {\n",
       "        vertical-align: top;\n",
       "    }\n",
       "\n",
       "    .dataframe thead th {\n",
       "        text-align: right;\n",
       "    }\n",
       "</style>\n",
       "<table border=\"1\" class=\"dataframe\">\n",
       "  <thead>\n",
       "    <tr style=\"text-align: right;\">\n",
       "      <th></th>\n",
       "      <th>Latency</th>\n",
       "      <th>Requests</th>\n",
       "      <th>Throughput</th>\n",
       "      <th>Benchmark</th>\n",
       "      <th>Infinite</th>\n",
       "      <th>Vertical</th>\n",
       "      <th>Threads</th>\n",
       "      <th>Connections</th>\n",
       "      <th>ReqSec</th>\n",
       "    </tr>\n",
       "  </thead>\n",
       "  <tbody>\n",
       "    <tr>\n",
       "      <th>0</th>\n",
       "      <td>10.59</td>\n",
       "      <td>200.0</td>\n",
       "      <td>5931.0</td>\n",
       "      <td>hr</td>\n",
       "      <td>0</td>\n",
       "      <td>1</td>\n",
       "      <td>8</td>\n",
       "      <td>512</td>\n",
       "      <td>197.26</td>\n",
       "    </tr>\n",
       "    <tr>\n",
       "      <th>1</th>\n",
       "      <td>10.79</td>\n",
       "      <td>200.0</td>\n",
       "      <td>5891.0</td>\n",
       "      <td>hr</td>\n",
       "      <td>0</td>\n",
       "      <td>1</td>\n",
       "      <td>8</td>\n",
       "      <td>512</td>\n",
       "      <td>195.93</td>\n",
       "    </tr>\n",
       "    <tr>\n",
       "      <th>2</th>\n",
       "      <td>10.45</td>\n",
       "      <td>200.0</td>\n",
       "      <td>5960.0</td>\n",
       "      <td>hr</td>\n",
       "      <td>0</td>\n",
       "      <td>1</td>\n",
       "      <td>8</td>\n",
       "      <td>512</td>\n",
       "      <td>198.32</td>\n",
       "    </tr>\n",
       "    <tr>\n",
       "      <th>3</th>\n",
       "      <td>5.76</td>\n",
       "      <td>200.0</td>\n",
       "      <td>5957.0</td>\n",
       "      <td>mm</td>\n",
       "      <td>0</td>\n",
       "      <td>1</td>\n",
       "      <td>8</td>\n",
       "      <td>512</td>\n",
       "      <td>198.16</td>\n",
       "    </tr>\n",
       "    <tr>\n",
       "      <th>4</th>\n",
       "      <td>5.69</td>\n",
       "      <td>200.0</td>\n",
       "      <td>5933.0</td>\n",
       "      <td>mm</td>\n",
       "      <td>0</td>\n",
       "      <td>1</td>\n",
       "      <td>8</td>\n",
       "      <td>512</td>\n",
       "      <td>197.36</td>\n",
       "    </tr>\n",
       "  </tbody>\n",
       "</table>\n",
       "</div>"
      ],
      "text/plain": [
       "   Latency  Requests  Throughput Benchmark  Infinite  Vertical  Threads  \\\n",
       "0    10.59     200.0      5931.0        hr         0         1        8   \n",
       "1    10.79     200.0      5891.0        hr         0         1        8   \n",
       "2    10.45     200.0      5960.0        hr         0         1        8   \n",
       "3     5.76     200.0      5957.0        mm         0         1        8   \n",
       "4     5.69     200.0      5933.0        mm         0         1        8   \n",
       "\n",
       "   Connections  ReqSec  \n",
       "0          512  197.26  \n",
       "1          512  195.93  \n",
       "2          512  198.32  \n",
       "3          512  198.16  \n",
       "4          512  197.36  "
      ]
     },
     "execution_count": 9,
     "metadata": {},
     "output_type": "execute_result"
    }
   ],
   "source": [
    "df_3.iloc[:,[0,1,2,5,6,10,11,12,-1]].head()"
   ]
  },
  {
   "cell_type": "code",
   "execution_count": 10,
   "id": "2dfe3385-c07a-4480-84a4-49e1c7620bcd",
   "metadata": {},
   "outputs": [
    {
     "data": {
      "text/plain": [
       "(9, 18)"
      ]
     },
     "execution_count": 10,
     "metadata": {},
     "output_type": "execute_result"
    }
   ],
   "source": [
    "df_3.shape"
   ]
  },
  {
   "cell_type": "code",
   "execution_count": 13,
   "id": "b259242f-a4e4-4feb-a469-264ffef20abc",
   "metadata": {},
   "outputs": [],
   "source": [
    "def barplot(df, labels, output=\"exp-barplot\", fontsize=20):\n",
    "    fig, ax = plt.subplots(figsize=(16,8))\n",
    "\n",
    "    p1 = ax.bar(labels[0], df['Latency'][0], label=labels[0])\n",
    "    p2 = ax.bar(labels[1], df['Latency'][1], label=labels[1])\n",
    "    p3 = ax.bar(labels[2], df['Latency'][2], label=labels[2])\n",
    "    ax.legend()\n",
    "\n",
    "    # Label with label_type 'center' instead of the default 'edge'\n",
    "    ax.bar_label(p1, label_type='edge', fontsize=fontsize)\n",
    "    ax.bar_label(p2, label_type='edge', fontsize=fontsize)\n",
    "    ax.bar_label(p3, label_type='edge', fontsize=fontsize)\n",
    "\n",
    "\n",
    "    plt.ylim(0,15)\n",
    "    # ax.grid()\n",
    "    xticks = [int(tick) for tick in ax.get_xticks()]\n",
    "    ax.set_xlabel('Benchmarks', fontsize=fontsize)\n",
    "    ax.set_ylabel('Latency (milliseconds)', fontsize=fontsize+5)\n",
    "\n",
    "    plt.yticks(fontsize=fontsize)\n",
    "    plt.xticks(xticks, fontsize=fontsize)\n",
    "    plt.legend(loc=\"upper right\", fontsize=fontsize+5)\n",
    "\n",
    "    plt.tight_layout()\n",
    "    plt.savefig(f\"Figures/{output}.png\", bbox_inches='tight')\n",
    "\n",
    "    plt.show()"
   ]
  },
  {
   "cell_type": "code",
   "execution_count": 17,
   "id": "99e6fa35-3d16-44cc-9021-fa7819387376",
   "metadata": {},
   "outputs": [],
   "source": [
    "labels = df_3['Benchmark'].unique()"
   ]
  },
  {
   "cell_type": "code",
   "execution_count": null,
   "id": "b861d4db-10b5-4617-9562-bdea3d8fd154",
   "metadata": {},
   "outputs": [
    {
     "data": {
      "text/html": [
       "<div>\n",
       "<style scoped>\n",
       "    .dataframe tbody tr th:only-of-type {\n",
       "        vertical-align: middle;\n",
       "    }\n",
       "\n",
       "    .dataframe tbody tr th {\n",
       "        vertical-align: top;\n",
       "    }\n",
       "\n",
       "    .dataframe thead th {\n",
       "        text-align: right;\n",
       "    }\n",
       "</style>\n",
       "<table border=\"1\" class=\"dataframe\">\n",
       "  <thead>\n",
       "    <tr style=\"text-align: right;\">\n",
       "      <th></th>\n",
       "      <th>Latency</th>\n",
       "      <th>Requests</th>\n",
       "      <th>Throughput</th>\n",
       "      <th>Baseline</th>\n",
       "      <th>Orchestrator</th>\n",
       "      <th>Benchmark</th>\n",
       "      <th>Infinite</th>\n",
       "      <th>Exp</th>\n",
       "      <th>Availability</th>\n",
       "      <th>Horizontal</th>\n",
       "      <th>Vertical</th>\n",
       "      <th>Threads</th>\n",
       "      <th>Connections</th>\n",
       "      <th>Duration</th>\n",
       "      <th>Mean</th>\n",
       "      <th>Max</th>\n",
       "      <th>StdDev</th>\n",
       "      <th>ReqSec</th>\n",
       "    </tr>\n",
       "  </thead>\n",
       "  <tbody>\n",
       "    <tr>\n",
       "      <th>0</th>\n",
       "      <td>10.59</td>\n",
       "      <td>200.0</td>\n",
       "      <td>5931.0</td>\n",
       "      <td>0</td>\n",
       "      <td>swarm</td>\n",
       "      <td>hr</td>\n",
       "      <td>0</td>\n",
       "      <td>exp3</td>\n",
       "      <td>0</td>\n",
       "      <td>1</td>\n",
       "      <td>1</td>\n",
       "      <td>8</td>\n",
       "      <td>512</td>\n",
       "      <td>30</td>\n",
       "      <td>3.383</td>\n",
       "      <td>12.400</td>\n",
       "      <td>2.240</td>\n",
       "      <td>197.26</td>\n",
       "    </tr>\n",
       "    <tr>\n",
       "      <th>1</th>\n",
       "      <td>10.79</td>\n",
       "      <td>200.0</td>\n",
       "      <td>5891.0</td>\n",
       "      <td>0</td>\n",
       "      <td>swarm</td>\n",
       "      <td>hr</td>\n",
       "      <td>0</td>\n",
       "      <td>exp3</td>\n",
       "      <td>0</td>\n",
       "      <td>1</td>\n",
       "      <td>1</td>\n",
       "      <td>8</td>\n",
       "      <td>512</td>\n",
       "      <td>30</td>\n",
       "      <td>3.380</td>\n",
       "      <td>14.200</td>\n",
       "      <td>2.286</td>\n",
       "      <td>195.93</td>\n",
       "    </tr>\n",
       "    <tr>\n",
       "      <th>2</th>\n",
       "      <td>10.45</td>\n",
       "      <td>200.0</td>\n",
       "      <td>5960.0</td>\n",
       "      <td>0</td>\n",
       "      <td>swarm</td>\n",
       "      <td>hr</td>\n",
       "      <td>0</td>\n",
       "      <td>exp3</td>\n",
       "      <td>0</td>\n",
       "      <td>1</td>\n",
       "      <td>1</td>\n",
       "      <td>8</td>\n",
       "      <td>512</td>\n",
       "      <td>30</td>\n",
       "      <td>3.347</td>\n",
       "      <td>13.144</td>\n",
       "      <td>2.236</td>\n",
       "      <td>198.32</td>\n",
       "    </tr>\n",
       "    <tr>\n",
       "      <th>3</th>\n",
       "      <td>5.76</td>\n",
       "      <td>200.0</td>\n",
       "      <td>5957.0</td>\n",
       "      <td>0</td>\n",
       "      <td>swarm</td>\n",
       "      <td>mm</td>\n",
       "      <td>0</td>\n",
       "      <td>exp3</td>\n",
       "      <td>0</td>\n",
       "      <td>1</td>\n",
       "      <td>1</td>\n",
       "      <td>8</td>\n",
       "      <td>512</td>\n",
       "      <td>30</td>\n",
       "      <td>4.328</td>\n",
       "      <td>14.504</td>\n",
       "      <td>0.667</td>\n",
       "      <td>198.16</td>\n",
       "    </tr>\n",
       "    <tr>\n",
       "      <th>4</th>\n",
       "      <td>5.69</td>\n",
       "      <td>200.0</td>\n",
       "      <td>5933.0</td>\n",
       "      <td>0</td>\n",
       "      <td>swarm</td>\n",
       "      <td>mm</td>\n",
       "      <td>0</td>\n",
       "      <td>exp3</td>\n",
       "      <td>0</td>\n",
       "      <td>1</td>\n",
       "      <td>1</td>\n",
       "      <td>8</td>\n",
       "      <td>512</td>\n",
       "      <td>30</td>\n",
       "      <td>4.353</td>\n",
       "      <td>48.704</td>\n",
       "      <td>1.179</td>\n",
       "      <td>197.36</td>\n",
       "    </tr>\n",
       "    <tr>\n",
       "      <th>5</th>\n",
       "      <td>5.71</td>\n",
       "      <td>200.0</td>\n",
       "      <td>5957.0</td>\n",
       "      <td>0</td>\n",
       "      <td>swarm</td>\n",
       "      <td>mm</td>\n",
       "      <td>0</td>\n",
       "      <td>exp3</td>\n",
       "      <td>0</td>\n",
       "      <td>1</td>\n",
       "      <td>1</td>\n",
       "      <td>8</td>\n",
       "      <td>512</td>\n",
       "      <td>30</td>\n",
       "      <td>4.331</td>\n",
       "      <td>24.624</td>\n",
       "      <td>0.814</td>\n",
       "      <td>198.13</td>\n",
       "    </tr>\n",
       "    <tr>\n",
       "      <th>6</th>\n",
       "      <td>8.17</td>\n",
       "      <td>200.0</td>\n",
       "      <td>5931.0</td>\n",
       "      <td>0</td>\n",
       "      <td>swarm</td>\n",
       "      <td>sn</td>\n",
       "      <td>0</td>\n",
       "      <td>exp3</td>\n",
       "      <td>0</td>\n",
       "      <td>1</td>\n",
       "      <td>1</td>\n",
       "      <td>8</td>\n",
       "      <td>512</td>\n",
       "      <td>30</td>\n",
       "      <td>2.471</td>\n",
       "      <td>10.136</td>\n",
       "      <td>1.622</td>\n",
       "      <td>197.26</td>\n",
       "    </tr>\n",
       "    <tr>\n",
       "      <th>7</th>\n",
       "      <td>7.52</td>\n",
       "      <td>200.0</td>\n",
       "      <td>5912.0</td>\n",
       "      <td>0</td>\n",
       "      <td>swarm</td>\n",
       "      <td>sn</td>\n",
       "      <td>0</td>\n",
       "      <td>exp3</td>\n",
       "      <td>0</td>\n",
       "      <td>1</td>\n",
       "      <td>1</td>\n",
       "      <td>8</td>\n",
       "      <td>512</td>\n",
       "      <td>30</td>\n",
       "      <td>2.965</td>\n",
       "      <td>10.296</td>\n",
       "      <td>1.821</td>\n",
       "      <td>196.63</td>\n",
       "    </tr>\n",
       "    <tr>\n",
       "      <th>8</th>\n",
       "      <td>7.54</td>\n",
       "      <td>200.0</td>\n",
       "      <td>5934.0</td>\n",
       "      <td>0</td>\n",
       "      <td>swarm</td>\n",
       "      <td>sn</td>\n",
       "      <td>0</td>\n",
       "      <td>exp3</td>\n",
       "      <td>0</td>\n",
       "      <td>1</td>\n",
       "      <td>1</td>\n",
       "      <td>8</td>\n",
       "      <td>512</td>\n",
       "      <td>30</td>\n",
       "      <td>3.297</td>\n",
       "      <td>27.840</td>\n",
       "      <td>1.911</td>\n",
       "      <td>197.50</td>\n",
       "    </tr>\n",
       "  </tbody>\n",
       "</table>\n",
       "</div>"
      ],
      "text/plain": [
       "   Latency  Requests  Throughput  Baseline Orchestrator Benchmark  Infinite  \\\n",
       "0    10.59     200.0      5931.0         0        swarm        hr         0   \n",
       "1    10.79     200.0      5891.0         0        swarm        hr         0   \n",
       "2    10.45     200.0      5960.0         0        swarm        hr         0   \n",
       "3     5.76     200.0      5957.0         0        swarm        mm         0   \n",
       "4     5.69     200.0      5933.0         0        swarm        mm         0   \n",
       "5     5.71     200.0      5957.0         0        swarm        mm         0   \n",
       "6     8.17     200.0      5931.0         0        swarm        sn         0   \n",
       "7     7.52     200.0      5912.0         0        swarm        sn         0   \n",
       "8     7.54     200.0      5934.0         0        swarm        sn         0   \n",
       "\n",
       "    Exp  Availability  Horizontal  Vertical  Threads  Connections  Duration  \\\n",
       "0  exp3             0           1         1        8          512        30   \n",
       "1  exp3             0           1         1        8          512        30   \n",
       "2  exp3             0           1         1        8          512        30   \n",
       "3  exp3             0           1         1        8          512        30   \n",
       "4  exp3             0           1         1        8          512        30   \n",
       "5  exp3             0           1         1        8          512        30   \n",
       "6  exp3             0           1         1        8          512        30   \n",
       "7  exp3             0           1         1        8          512        30   \n",
       "8  exp3             0           1         1        8          512        30   \n",
       "\n",
       "    Mean     Max  StdDev  ReqSec  \n",
       "0  3.383  12.400   2.240  197.26  \n",
       "1  3.380  14.200   2.286  195.93  \n",
       "2  3.347  13.144   2.236  198.32  \n",
       "3  4.328  14.504   0.667  198.16  \n",
       "4  4.353  48.704   1.179  197.36  \n",
       "5  4.331  24.624   0.814  198.13  \n",
       "6  2.471  10.136   1.622  197.26  \n",
       "7  2.965  10.296   1.821  196.63  \n",
       "8  3.297  27.840   1.911  197.50  "
      ]
     },
     "execution_count": 20,
     "metadata": {},
     "output_type": "execute_result"
    }
   ],
   "source": [
    "df_3"
   ]
  },
  {
   "cell_type": "code",
   "execution_count": 53,
   "id": "f1f25f14-9e0d-40d9-b77d-831af845d8a4",
   "metadata": {},
   "outputs": [
    {
     "data": {
      "text/plain": [
       "<matplotlib.legend.Legend at 0x287e9fbe0>"
      ]
     },
     "execution_count": 53,
     "metadata": {},
     "output_type": "execute_result"
    },
    {
     "data": {
      "image/png": "[encoded data removed]",
      "text/plain": [
       "<Figure size 360x360 with 1 Axes>"
      ]
     },
     "metadata": {
      "needs_background": "light"
     },
     "output_type": "display_data"
    }
   ],
   "source": [
    "# fig, ax = plt.subplots(figsize=(16,8))\n",
    "ax = sns.catplot(x=\"Benchmark\", y=\"Latency\", data=df_3, order=[\"sn\",\"mm\",\"hr\"], hue=\"Benchmark\")\n",
    "ax.set_ylabels(\"Latency (milliseconds)\",fontsize=15)\n",
    "ax.set_xlabels(fontsize=15)\n",
    "# yticks = [int(tick) for tick in ax.get_yticks()]\n",
    "\n",
    "ax.set_xticklabels(fontsize=15)\n",
    "# ax.set_yticklabels(yticks, fontsize=fontsize)\n",
    "# ax.set_ylim(left=0)\n",
    "plt.ylim(0)\n",
    "# ax.axes[0][0].legend(fontsize=15)\n",
    "plt.legend()"
   ]
  },
  {
   "cell_type": "code",
   "execution_count": 94,
   "id": "8eeac55d-5134-4dc2-8e84-7724c264a939",
   "metadata": {},
   "outputs": [
    {
     "data": {
      "image/png": "[encoded data removed]",
      "text/plain": [
       "<Figure size 576x576 with 1 Axes>"
      ]
     },
     "metadata": {
      "needs_background": "light"
     },
     "output_type": "display_data"
    }
   ],
   "source": [
    "fig, ax = plt.subplots(figsize=(8,8))\n",
    "labels = [\"sn\", \"mm\", \"hr\"]\n",
    "\n",
    "ax = sns.barplot(x='Benchmark', y='Latency', data=df_3, order=[\"sn\", \"mm\", \"hr\"])\n",
    "ax.bar_label(ax.containers[0], label_type='edge', padding=18, fmt='%.2f',fontsize=15)\n",
    "\n",
    "\n",
    "\n",
    "# set axis and legend\n",
    "ax.set_xlabel('Benchmarks', fontsize=fontsize)\n",
    "ax.set_ylabel('Latency (milliseconds)', fontsize=fontsize)\n",
    "# ax.set_title('Throughput versus Requests', fontsize=fontsize)\n",
    "\n",
    "xticks = [int(tick) for tick in ax.get_xticks()]\n",
    "plt.yticks(fontsize=15)\n",
    "plt.xticks(xticks, fontsize=15)\n",
    "\n",
    "plt.ylim(0,13)\n",
    "plt.savefig(\"Figures/exp3-multiclients.png\", bbox_inches='tight')"
   ]
  }
 ],
 "metadata": {
  "kernelspec": {
   "display_name": "Python 3 (ipykernel)",
   "language": "python",
   "name": "python3"
  },
  "language_info": {
   "codemirror_mode": {
    "name": "ipython",
    "version": 3
   },
   "file_extension": ".py",
   "mimetype": "text/x-python",
   "name": "python",
   "nbconvert_exporter": "python",
   "pygments_lexer": "ipython3",
   "version": "3.9.9"
  }
 },
 "nbformat": 4,
 "nbformat_minor": 5
}
