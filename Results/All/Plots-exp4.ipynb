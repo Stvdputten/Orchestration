{
 "cells": [
  {
   "cell_type": "code",
   "execution_count": 10,
   "id": "d6b43775-c7b8-4fee-9fe0-c43b958e629a",
   "metadata": {},
   "outputs": [
    {
     "name": "stdout",
     "output_type": "stream",
     "text": [
      "zsh:1: no matches found: df-*-checkpoint.csv\n"
     ]
    }
   ],
   "source": [
    "!rm df-*-checkpoint.csv"
   ]
  },
  {
   "cell_type": "code",
   "execution_count": 11,
   "id": "3a4fab71-c339-43a9-a58d-9b731121688a",
   "metadata": {},
   "outputs": [],
   "source": [
    "import os\n",
    "import glob"
   ]
  },
  {
   "cell_type": "code",
   "execution_count": 12,
   "id": "32348254-154d-44f7-b757-e7899604829c",
   "metadata": {},
   "outputs": [],
   "source": [
    "import pandas as pd\n",
    "import numpy as np\n",
    "import seaborn as sns\n",
    "import matplotlib.pyplot as plt"
   ]
  },
  {
   "cell_type": "markdown",
   "id": "15394db5-cf50-4a47-8a11-8a257848ac7b",
   "metadata": {},
   "source": [
    "# Load all datasets"
   ]
  },
  {
   "cell_type": "code",
   "execution_count": 13,
   "id": "b1d6df6a-146f-4d88-8a8a-f096d8f5304d",
   "metadata": {},
   "outputs": [
    {
     "name": "stdout",
     "output_type": "stream",
     "text": [
      "(555, 18)\n"
     ]
    }
   ],
   "source": [
    "all_files = glob.glob(\"*.csv\")\n",
    "df = pd.concat((pd.read_csv(f) for f in all_files))\n",
    "df = df.drop_duplicates()\n",
    "print(df.shape)"
   ]
  },
  {
   "cell_type": "code",
   "execution_count": 14,
   "id": "a46d278c-f61e-4512-9ada-07d07df3a77a",
   "metadata": {},
   "outputs": [],
   "source": [
    "df['Orchestrator'] = df['Orchestrator'].astype('category')\n",
    "df['Benchmark'] = df['Benchmark'].astype('category')\n",
    "df['Exp'] = df['Exp'].astype('category')\n",
    "# df['Latency'] = df['Latency']\n",
    "df['Requests'] = df['Requests'].astype(int)"
   ]
  },
  {
   "cell_type": "code",
   "execution_count": 15,
   "id": "d32bca9a-a8e6-414b-ab60-a32e7faef505",
   "metadata": {},
   "outputs": [],
   "source": [
    "df_0 = df.loc[df['Exp'] == 'exp0']\n",
    "df_1 = df.loc[df['Exp'] == 'exp1']\n",
    "df_2 = df.loc[df['Exp'] == 'exp2']\n",
    "df_3 = df.loc[df['Exp'] == 'exp3']\n",
    "df_4 = df.loc[df['Exp'] == 'exp4']\n",
    "df_5 = df.loc[df['Exp'] == 'exp5']\n",
    "df_6 = df.loc[df['Exp'] == 'exp6']\n",
    "df_7 = df.loc[df['Exp'] == 'exp7']\n",
    "df_8 = df.loc[df['Exp'] == 'exp8']\n",
    "df_9 = df.loc[df['Exp'] == 'exp9']\n",
    "df_10 = df.loc[df['Exp'] == 'exp10']\n",
    "df_11 = df.loc[df['Exp'] == 'exp11']"
   ]
  },
  {
   "cell_type": "code",
   "execution_count": 16,
   "id": "3d6a94cd-8c26-4855-aa23-7f79dc5f897d",
   "metadata": {},
   "outputs": [],
   "source": [
    "# Global settings\n",
    "fontsize = 20\n",
    "legend_location = \"lower right\""
   ]
  },
  {
   "cell_type": "markdown",
   "id": "337ba25b-55cd-4a97-b0bd-99185182229b",
   "metadata": {},
   "source": [
    "# Exp4"
   ]
  },
  {
   "cell_type": "code",
   "execution_count": 17,
   "id": "bbbf10bb-d8dc-483f-b425-e63e0bc7ce6e",
   "metadata": {},
   "outputs": [
    {
     "data": {
      "text/html": [
       "<div>\n",
       "<style scoped>\n",
       "    .dataframe tbody tr th:only-of-type {\n",
       "        vertical-align: middle;\n",
       "    }\n",
       "\n",
       "    .dataframe tbody tr th {\n",
       "        vertical-align: top;\n",
       "    }\n",
       "\n",
       "    .dataframe thead th {\n",
       "        text-align: right;\n",
       "    }\n",
       "</style>\n",
       "<table border=\"1\" class=\"dataframe\">\n",
       "  <thead>\n",
       "    <tr style=\"text-align: right;\">\n",
       "      <th></th>\n",
       "      <th>Latency</th>\n",
       "      <th>Requests</th>\n",
       "      <th>Throughput</th>\n",
       "      <th>Benchmark</th>\n",
       "      <th>Infinite</th>\n",
       "      <th>Vertical</th>\n",
       "      <th>Threads</th>\n",
       "      <th>Connections</th>\n",
       "      <th>ReqSec</th>\n",
       "    </tr>\n",
       "  </thead>\n",
       "  <tbody>\n",
       "    <tr>\n",
       "      <th>0</th>\n",
       "      <td>7.46</td>\n",
       "      <td>500</td>\n",
       "      <td>75085.0</td>\n",
       "      <td>hr</td>\n",
       "      <td>1</td>\n",
       "      <td>1</td>\n",
       "      <td>4</td>\n",
       "      <td>512</td>\n",
       "      <td>500.42</td>\n",
       "    </tr>\n",
       "    <tr>\n",
       "      <th>1</th>\n",
       "      <td>7.37</td>\n",
       "      <td>500</td>\n",
       "      <td>14708.0</td>\n",
       "      <td>hr</td>\n",
       "      <td>1</td>\n",
       "      <td>1</td>\n",
       "      <td>4</td>\n",
       "      <td>512</td>\n",
       "      <td>490.00</td>\n",
       "    </tr>\n",
       "    <tr>\n",
       "      <th>2</th>\n",
       "      <td>7.34</td>\n",
       "      <td>500</td>\n",
       "      <td>29940.0</td>\n",
       "      <td>hr</td>\n",
       "      <td>1</td>\n",
       "      <td>1</td>\n",
       "      <td>4</td>\n",
       "      <td>512</td>\n",
       "      <td>498.97</td>\n",
       "    </tr>\n",
       "    <tr>\n",
       "      <th>3</th>\n",
       "      <td>3.67</td>\n",
       "      <td>500</td>\n",
       "      <td>74959.0</td>\n",
       "      <td>mm</td>\n",
       "      <td>1</td>\n",
       "      <td>1</td>\n",
       "      <td>4</td>\n",
       "      <td>512</td>\n",
       "      <td>499.69</td>\n",
       "    </tr>\n",
       "    <tr>\n",
       "      <th>4</th>\n",
       "      <td>3.74</td>\n",
       "      <td>500</td>\n",
       "      <td>14922.0</td>\n",
       "      <td>mm</td>\n",
       "      <td>1</td>\n",
       "      <td>1</td>\n",
       "      <td>4</td>\n",
       "      <td>512</td>\n",
       "      <td>497.42</td>\n",
       "    </tr>\n",
       "  </tbody>\n",
       "</table>\n",
       "</div>"
      ],
      "text/plain": [
       "   Latency  Requests  Throughput Benchmark  Infinite  Vertical  Threads  \\\n",
       "0     7.46       500     75085.0        hr         1         1        4   \n",
       "1     7.37       500     14708.0        hr         1         1        4   \n",
       "2     7.34       500     29940.0        hr         1         1        4   \n",
       "3     3.67       500     74959.0        mm         1         1        4   \n",
       "4     3.74       500     14922.0        mm         1         1        4   \n",
       "\n",
       "   Connections  ReqSec  \n",
       "0          512  500.42  \n",
       "1          512  490.00  \n",
       "2          512  498.97  \n",
       "3          512  499.69  \n",
       "4          512  497.42  "
      ]
     },
     "execution_count": 17,
     "metadata": {},
     "output_type": "execute_result"
    }
   ],
   "source": [
    "df_4.iloc[:,[0,1,2,5,6,10,11,12,-1]].head()"
   ]
  },
  {
   "cell_type": "code",
   "execution_count": 18,
   "id": "2dfe3385-c07a-4480-84a4-49e1c7620bcd",
   "metadata": {},
   "outputs": [
    {
     "data": {
      "text/plain": [
       "(9, 18)"
      ]
     },
     "execution_count": 18,
     "metadata": {},
     "output_type": "execute_result"
    }
   ],
   "source": [
    "df_3.shape"
   ]
  },
  {
   "cell_type": "code",
   "execution_count": 19,
   "id": "b259242f-a4e4-4feb-a469-264ffef20abc",
   "metadata": {},
   "outputs": [],
   "source": [
    "def barplot(df, labels, output=\"exp-barplot\", fontsize=20):\n",
    "    fig, ax = plt.subplots(figsize=(16,8))\n",
    "\n",
    "    p1 = ax.bar(labels[0], df['Latency'][0], label=labels[0])\n",
    "    p2 = ax.bar(labels[1], df['Latency'][1], label=labels[1])\n",
    "    p3 = ax.bar(labels[2], df['Latency'][2], label=labels[2])\n",
    "    ax.legend()\n",
    "\n",
    "    # Label with label_type 'center' instead of the default 'edge'\n",
    "    ax.bar_label(p1, label_type='edge', fontsize=fontsize)\n",
    "    ax.bar_label(p2, label_type='edge', fontsize=fontsize)\n",
    "    ax.bar_label(p3, label_type='edge', fontsize=fontsize)\n",
    "\n",
    "\n",
    "    plt.ylim(0,15)\n",
    "    # ax.grid()\n",
    "    xticks = [int(tick) for tick in ax.get_xticks()]\n",
    "    ax.set_xlabel('Benchmarks', fontsize=fontsize)\n",
    "    ax.set_ylabel('Latency (milliseconds)', fontsize=fontsize+5)\n",
    "\n",
    "    plt.yticks(fontsize=fontsize)\n",
    "    plt.xticks(xticks, fontsize=fontsize)\n",
    "    plt.legend(loc=\"upper right\", fontsize=fontsize+5)\n",
    "\n",
    "    plt.tight_layout()\n",
    "    plt.savefig(f\"Figures/{output}.png\", bbox_inches='tight')\n",
    "\n",
    "    plt.show()"
   ]
  },
  {
   "cell_type": "code",
   "execution_count": 58,
   "id": "99e6fa35-3d16-44cc-9021-fa7819387376",
   "metadata": {},
   "outputs": [],
   "source": [
    "labels = df_4['Benchmark'].unique()"
   ]
  },
  {
   "cell_type": "code",
   "execution_count": 59,
   "id": "b861d4db-10b5-4617-9562-bdea3d8fd154",
   "metadata": {},
   "outputs": [
    {
     "data": {
      "text/html": [
       "<div>\n",
       "<style scoped>\n",
       "    .dataframe tbody tr th:only-of-type {\n",
       "        vertical-align: middle;\n",
       "    }\n",
       "\n",
       "    .dataframe tbody tr th {\n",
       "        vertical-align: top;\n",
       "    }\n",
       "\n",
       "    .dataframe thead th {\n",
       "        text-align: right;\n",
       "    }\n",
       "</style>\n",
       "<table border=\"1\" class=\"dataframe\">\n",
       "  <thead>\n",
       "    <tr style=\"text-align: right;\">\n",
       "      <th></th>\n",
       "      <th>Latency</th>\n",
       "      <th>Requests</th>\n",
       "      <th>Throughput</th>\n",
       "      <th>Baseline</th>\n",
       "      <th>Orchestrator</th>\n",
       "      <th>Benchmark</th>\n",
       "      <th>Infinite</th>\n",
       "      <th>Exp</th>\n",
       "      <th>Availability</th>\n",
       "      <th>Horizontal</th>\n",
       "      <th>Vertical</th>\n",
       "      <th>Threads</th>\n",
       "      <th>Connections</th>\n",
       "      <th>Duration</th>\n",
       "      <th>Mean</th>\n",
       "      <th>Max</th>\n",
       "      <th>StdDev</th>\n",
       "      <th>ReqSec</th>\n",
       "    </tr>\n",
       "  </thead>\n",
       "  <tbody>\n",
       "    <tr>\n",
       "      <th>0</th>\n",
       "      <td>7.46</td>\n",
       "      <td>500</td>\n",
       "      <td>75085.0</td>\n",
       "      <td>0</td>\n",
       "      <td>swarm</td>\n",
       "      <td>hr</td>\n",
       "      <td>1</td>\n",
       "      <td>exp4</td>\n",
       "      <td>0</td>\n",
       "      <td>1</td>\n",
       "      <td>1</td>\n",
       "      <td>4</td>\n",
       "      <td>512</td>\n",
       "      <td>150</td>\n",
       "      <td>2.502</td>\n",
       "      <td>17.312</td>\n",
       "      <td>1.598</td>\n",
       "      <td>500.42</td>\n",
       "    </tr>\n",
       "    <tr>\n",
       "      <th>1</th>\n",
       "      <td>7.37</td>\n",
       "      <td>500</td>\n",
       "      <td>14708.0</td>\n",
       "      <td>0</td>\n",
       "      <td>swarm</td>\n",
       "      <td>hr</td>\n",
       "      <td>1</td>\n",
       "      <td>exp4</td>\n",
       "      <td>0</td>\n",
       "      <td>1</td>\n",
       "      <td>1</td>\n",
       "      <td>4</td>\n",
       "      <td>512</td>\n",
       "      <td>30</td>\n",
       "      <td>2.510</td>\n",
       "      <td>10.872</td>\n",
       "      <td>1.596</td>\n",
       "      <td>490.00</td>\n",
       "    </tr>\n",
       "    <tr>\n",
       "      <th>2</th>\n",
       "      <td>7.34</td>\n",
       "      <td>500</td>\n",
       "      <td>29940.0</td>\n",
       "      <td>0</td>\n",
       "      <td>swarm</td>\n",
       "      <td>hr</td>\n",
       "      <td>1</td>\n",
       "      <td>exp4</td>\n",
       "      <td>0</td>\n",
       "      <td>1</td>\n",
       "      <td>1</td>\n",
       "      <td>4</td>\n",
       "      <td>512</td>\n",
       "      <td>60</td>\n",
       "      <td>2.480</td>\n",
       "      <td>12.464</td>\n",
       "      <td>1.565</td>\n",
       "      <td>498.97</td>\n",
       "    </tr>\n",
       "    <tr>\n",
       "      <th>3</th>\n",
       "      <td>3.67</td>\n",
       "      <td>500</td>\n",
       "      <td>74959.0</td>\n",
       "      <td>0</td>\n",
       "      <td>swarm</td>\n",
       "      <td>mm</td>\n",
       "      <td>1</td>\n",
       "      <td>exp4</td>\n",
       "      <td>0</td>\n",
       "      <td>1</td>\n",
       "      <td>1</td>\n",
       "      <td>4</td>\n",
       "      <td>512</td>\n",
       "      <td>150</td>\n",
       "      <td>2.889</td>\n",
       "      <td>69.952</td>\n",
       "      <td>1.258</td>\n",
       "      <td>499.69</td>\n",
       "    </tr>\n",
       "    <tr>\n",
       "      <th>4</th>\n",
       "      <td>3.74</td>\n",
       "      <td>500</td>\n",
       "      <td>14922.0</td>\n",
       "      <td>0</td>\n",
       "      <td>swarm</td>\n",
       "      <td>mm</td>\n",
       "      <td>1</td>\n",
       "      <td>exp4</td>\n",
       "      <td>0</td>\n",
       "      <td>1</td>\n",
       "      <td>1</td>\n",
       "      <td>4</td>\n",
       "      <td>512</td>\n",
       "      <td>30</td>\n",
       "      <td>2.830</td>\n",
       "      <td>21.776</td>\n",
       "      <td>0.607</td>\n",
       "      <td>497.42</td>\n",
       "    </tr>\n",
       "    <tr>\n",
       "      <th>5</th>\n",
       "      <td>3.70</td>\n",
       "      <td>500</td>\n",
       "      <td>29666.0</td>\n",
       "      <td>0</td>\n",
       "      <td>swarm</td>\n",
       "      <td>mm</td>\n",
       "      <td>1</td>\n",
       "      <td>exp4</td>\n",
       "      <td>0</td>\n",
       "      <td>1</td>\n",
       "      <td>1</td>\n",
       "      <td>4</td>\n",
       "      <td>512</td>\n",
       "      <td>60</td>\n",
       "      <td>2.842</td>\n",
       "      <td>23.184</td>\n",
       "      <td>0.689</td>\n",
       "      <td>494.42</td>\n",
       "    </tr>\n",
       "    <tr>\n",
       "      <th>6</th>\n",
       "      <td>5.97</td>\n",
       "      <td>500</td>\n",
       "      <td>74959.0</td>\n",
       "      <td>0</td>\n",
       "      <td>swarm</td>\n",
       "      <td>sn</td>\n",
       "      <td>1</td>\n",
       "      <td>exp4</td>\n",
       "      <td>0</td>\n",
       "      <td>1</td>\n",
       "      <td>1</td>\n",
       "      <td>4</td>\n",
       "      <td>512</td>\n",
       "      <td>150</td>\n",
       "      <td>3.517</td>\n",
       "      <td>10.064</td>\n",
       "      <td>1.329</td>\n",
       "      <td>499.68</td>\n",
       "    </tr>\n",
       "    <tr>\n",
       "      <th>7</th>\n",
       "      <td>6.14</td>\n",
       "      <td>500</td>\n",
       "      <td>14925.0</td>\n",
       "      <td>0</td>\n",
       "      <td>swarm</td>\n",
       "      <td>sn</td>\n",
       "      <td>1</td>\n",
       "      <td>exp4</td>\n",
       "      <td>0</td>\n",
       "      <td>1</td>\n",
       "      <td>1</td>\n",
       "      <td>4</td>\n",
       "      <td>512</td>\n",
       "      <td>30</td>\n",
       "      <td>2.523</td>\n",
       "      <td>28.672</td>\n",
       "      <td>1.569</td>\n",
       "      <td>497.23</td>\n",
       "    </tr>\n",
       "    <tr>\n",
       "      <th>8</th>\n",
       "      <td>6.00</td>\n",
       "      <td>500</td>\n",
       "      <td>29800.0</td>\n",
       "      <td>0</td>\n",
       "      <td>swarm</td>\n",
       "      <td>sn</td>\n",
       "      <td>1</td>\n",
       "      <td>exp4</td>\n",
       "      <td>0</td>\n",
       "      <td>1</td>\n",
       "      <td>1</td>\n",
       "      <td>4</td>\n",
       "      <td>512</td>\n",
       "      <td>60</td>\n",
       "      <td>3.164</td>\n",
       "      <td>12.520</td>\n",
       "      <td>1.514</td>\n",
       "      <td>496.56</td>\n",
       "    </tr>\n",
       "  </tbody>\n",
       "</table>\n",
       "</div>"
      ],
      "text/plain": [
       "   Latency  Requests  Throughput  Baseline Orchestrator Benchmark  Infinite  \\\n",
       "0     7.46       500     75085.0         0        swarm        hr         1   \n",
       "1     7.37       500     14708.0         0        swarm        hr         1   \n",
       "2     7.34       500     29940.0         0        swarm        hr         1   \n",
       "3     3.67       500     74959.0         0        swarm        mm         1   \n",
       "4     3.74       500     14922.0         0        swarm        mm         1   \n",
       "5     3.70       500     29666.0         0        swarm        mm         1   \n",
       "6     5.97       500     74959.0         0        swarm        sn         1   \n",
       "7     6.14       500     14925.0         0        swarm        sn         1   \n",
       "8     6.00       500     29800.0         0        swarm        sn         1   \n",
       "\n",
       "    Exp  Availability  Horizontal  Vertical  Threads  Connections  Duration  \\\n",
       "0  exp4             0           1         1        4          512       150   \n",
       "1  exp4             0           1         1        4          512        30   \n",
       "2  exp4             0           1         1        4          512        60   \n",
       "3  exp4             0           1         1        4          512       150   \n",
       "4  exp4             0           1         1        4          512        30   \n",
       "5  exp4             0           1         1        4          512        60   \n",
       "6  exp4             0           1         1        4          512       150   \n",
       "7  exp4             0           1         1        4          512        30   \n",
       "8  exp4             0           1         1        4          512        60   \n",
       "\n",
       "    Mean     Max  StdDev  ReqSec  \n",
       "0  2.502  17.312   1.598  500.42  \n",
       "1  2.510  10.872   1.596  490.00  \n",
       "2  2.480  12.464   1.565  498.97  \n",
       "3  2.889  69.952   1.258  499.69  \n",
       "4  2.830  21.776   0.607  497.42  \n",
       "5  2.842  23.184   0.689  494.42  \n",
       "6  3.517  10.064   1.329  499.68  \n",
       "7  2.523  28.672   1.569  497.23  \n",
       "8  3.164  12.520   1.514  496.56  "
      ]
     },
     "execution_count": 59,
     "metadata": {},
     "output_type": "execute_result"
    }
   ],
   "source": [
    "df_4"
   ]
  },
  {
   "cell_type": "code",
   "execution_count": 47,
   "id": "f1f25f14-9e0d-40d9-b77d-831af845d8a4",
   "metadata": {},
   "outputs": [
    {
     "data": {
      "text/plain": [
       "(0.0, 7.6495)"
      ]
     },
     "execution_count": 47,
     "metadata": {},
     "output_type": "execute_result"
    },
    {
     "data": {
      "image/png": "[encoded data removed]",
      "text/plain": [
       "<Figure size 415x360 with 1 Axes>"
      ]
     },
     "metadata": {
      "needs_background": "light"
     },
     "output_type": "display_data"
    }
   ],
   "source": [
    "# fig, ax = plt.subplots(figsize=(16,8))\n",
    "ax = sns.catplot(x=\"Benchmark\", y=\"Latency\", data=df_4, order=[\"sn\",\"mm\",\"hr\"], hue=\"Duration\", s=10)\n",
    "ax.set_ylabels(\"Latency (milliseconds)\",fontsize=15)\n",
    "ax.set_xlabels(fontsize=15)\n",
    "# yticks = [int(tick) for tick in ax.get_yticks()]\n",
    "\n",
    "ax.set_xticklabels(fontsize=15)\n",
    "# ax.set_yticklabels(yticks, fontsize=fontsize)\n",
    "# ax.set_ylim(left=0)\n",
    "plt.ylim(0)\n",
    "# ax.axes[0][0].legend(fontsize=15)\n",
    "# plt.legend()"
   ]
  },
  {
   "cell_type": "code",
   "execution_count": 57,
   "id": "8eeac55d-5134-4dc2-8e84-7724c264a939",
   "metadata": {},
   "outputs": [
    {
     "data": {
      "image/png": "[encoded data removed]",
      "text/plain": [
       "<Figure size 576x576 with 1 Axes>"
      ]
     },
     "metadata": {
      "needs_background": "light"
     },
     "output_type": "display_data"
    }
   ],
   "source": [
    "fig, ax = plt.subplots(figsize=(8,8))\n",
    "labels = [\"sn\", \"mm\", \"hr\"]\n",
    "\n",
    "# ax = sns.barplot(x='Duration', y='Latency', data=df_4, order=[\"sn\", \"mm\", \"hr\"])\n",
    "ax = sns.barplot(x='Duration', y='Latency', data=df_4, hue=\"Benchmark\")\n",
    "ax.bar_label(ax.containers[0], label_type='edge', padding=18, fmt='%.2f',fontsize=15)\n",
    "ax.bar_label(ax.containers[1], label_type='edge', padding=18, fmt='%.2f',fontsize=15)\n",
    "ax.bar_label(ax.containers[2], label_type='edge', padding=18, fmt='%.2f',fontsize=15)\n",
    "\n",
    "\n",
    "# set axis and legend\n",
    "ax.set_xlabel('Duration (seconds)', fontsize=fontsize)\n",
    "ax.set_ylabel('Latency (milliseconds)', fontsize=fontsize)\n",
    "ax.legend(fontsize=15)\n",
    "# ax.set_title('Throughput versus Requests', fontsize=fontsize)\n",
    "\n",
    "xticks = [int(tick) for tick in ax.get_xticks()]\n",
    "plt.yticks(fontsize=15)\n",
    "plt.xticks(xticks, fontsize=15)\n",
    "plt.ylim(0,10)\n",
    "plt.savefig(\"Figures/exp4-duration.png\", bbox_inches='tight')"
   ]
  }
 ],
 "metadata": {
  "kernelspec": {
   "display_name": "Python 3 (ipykernel)",
   "language": "python",
   "name": "python3"
  },
  "language_info": {
   "codemirror_mode": {
    "name": "ipython",
    "version": 3
   },
   "file_extension": ".py",
   "mimetype": "text/x-python",
   "name": "python",
   "nbconvert_exporter": "python",
   "pygments_lexer": "ipython3",
   "version": "3.9.9"
  }
 },
 "nbformat": 4,
 "nbformat_minor": 5
}
