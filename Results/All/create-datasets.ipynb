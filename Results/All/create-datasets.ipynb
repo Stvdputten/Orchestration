{
 "cells": [
  {
   "cell_type": "code",
   "execution_count": 203,
   "id": "6c6d1090-9005-421a-8c18-9eedfdd6ee49",
   "metadata": {},
   "outputs": [],
   "source": [
    "!mkdir data"
   ]
  },
  {
   "cell_type": "code",
   "execution_count": null,
   "id": "6a3af6a5-0811-437a-b449-f1cb9c9eba97",
   "metadata": {},
   "outputs": [],
   "source": [
    "# remove all data"
   ]
  },
  {
   "cell_type": "code",
   "execution_count": 12,
   "id": "a43db053-3c77-414b-bbef-c0e7fda4d4ae",
   "metadata": {},
   "outputs": [],
   "source": [
    "%history -g -f Plots*"
   ]
  },
  {
   "cell_type": "code",
   "execution_count": 5,
   "id": "6e39d952-2b3f-4753-af46-7ef6ce30d1d2",
   "metadata": {},
   "outputs": [],
   "source": [
    "!cp ../Swarm/13-01-22/0/swarm-* data\n",
    "!cp ../Swarm/13-01-22/1/swarm-* data\n",
    "!cp ../Swarm/13-01-22/2/swarm-* data\n",
    "!cp ../Swarm/13-01-22/3/swarm-* data\n",
    "!cp ../Swarm/13-01-22/4/swarm-* data\n",
    "!cp ../Swarm/13-01-22/5/swarm-* data\n",
    "!cp ../Swarm/13-01-22/6/swarm-* data\n",
    "!cp ../Swarm/13-01-22/7/swarm-* data\n",
    "!cp ../Swarm/13-01-22/8/swarm-* data\n",
    "!cp ../Swarm/13-01-22/9/swarm-* data\n",
    "!cp ../Swarm/13-01-22/10/swarm-* data\n",
    "!cp ../Swarm/13-01-22/11/swarm-* data\n",
    "\n",
    "!cp ../Swarm/17-01-22/12/swarm-* data\n",
    "!cp ../Swarm/17-01-22/13/swarm-* data\n",
    "!cp ../Swarm/17-01-22/14/swarm-* data\n",
    "!cp ../Swarm/17-01-22/15/swarm-* data\n",
    "\n",
    "!cp ../Hashi/14-01-22/12/nomad-* data\n",
    "!cp ../Hashi/14-01-22/13/nomad-* data\n",
    "!cp ../Hashi/15-01-22/14/nomad-* data\n",
    "!cp ../Hashi/15-01-22/15/nomad-* data \n",
    "\n",
    "!cp ../Kubernetes/17-01-22/12/k8s-* data\n",
    "!cp ../Kubernetes/17-01-22/13/k8s-* data\n",
    "!cp ../Kubernetes/17-01-22/14/k8s-* data \n",
    "!cp ../Kubernetes/17-01-22/15/k8s-* data"
   ]
  },
  {
   "cell_type": "code",
   "execution_count": 2,
   "id": "5e07a64d-bb88-4b28-903c-a76a84ce0cbe",
   "metadata": {},
   "outputs": [],
   "source": [
    "!hdr-plot --save data/swarm*exp0*\n",
    "!hdr-plot --save data/swarm*exp1*\n",
    "!hdr-plot --save data/swarm*exp1*\n",
    "!hdr-plot --save data/swarm*exp2*\n",
    "!hdr-plot --save data/swarm*exp3*\n",
    "!hdr-plot --save data/swarm*exp4*\n",
    "!hdr-plot --save data/swarm*exp5*\n",
    "!hdr-plot --save data/swarm*exp6*\n",
    "!hdr-plot --save data/swarm*exp7*\n",
    "!hdr-plot --save data/swarm*exp8*\n",
    "!hdr-plot --save data/swarm*exp9*\n",
    "!hdr-plot --save data/swarm*exp10*\n",
    "!hdr-plot --save data/swarm*exp11*\n",
    "!hdr-plot --save data/swarm*exp12*\n",
    "!hdr-plot --save data/swarm*exp13*\n",
    "!hdr-plot --save data/swarm*exp14*\n",
    "!hdr-plot --save data/swarm*exp15*\n",
    "!hdr-plot --save data/nomad*exp12*\n",
    "!hdr-plot --save data/nomad*exp13*\n",
    "!hdr-plot --save data/nomad*exp14*\n",
    "!hdr-plot --save data/nomad*exp15*\n",
    "!hdr-plot --save data/k8s*exp12*\n",
    "!hdr-plot --save data/k8s*exp13*\n",
    "!hdr-plot --save data/k8s*exp14*\n",
    "!hdr-plot --save data/k8s*exp15*"
   ]
  },
  {
   "cell_type": "code",
   "execution_count": 191,
   "id": "be44577b-37d5-4c79-a49a-efed8d8f40f2",
   "metadata": {},
   "outputs": [],
   "source": [
    "!find ../ -type f -regex '.*[Swarm].*df-exp.*' > /dev/null"
   ]
  },
  {
   "cell_type": "code",
   "execution_count": 192,
   "id": "cc4a2dd6-6690-4db4-a5eb-d91f3d8752bc",
   "metadata": {},
   "outputs": [],
   "source": [
    "!find ../ -type f -regex '.*[Swarm].*df-exp.*' -exec cp \"{}\" . \\; > /dev/null"
   ]
  },
  {
   "cell_type": "code",
   "execution_count": 193,
   "id": "ba26edf1-a1e1-4105-955f-21238294f01d",
   "metadata": {},
   "outputs": [],
   "source": [
    "!rm df-*-checkpoint.csv"
   ]
  }
 ],
 "metadata": {
  "kernelspec": {
   "display_name": "Python 3 (ipykernel)",
   "language": "python",
   "name": "python3"
  },
  "language_info": {
   "codemirror_mode": {
    "name": "ipython",
    "version": 3
   },
   "file_extension": ".py",
   "mimetype": "text/x-python",
   "name": "python",
   "nbconvert_exporter": "python",
   "pygments_lexer": "ipython3",
   "version": "3.9.9"
  }
 },
 "nbformat": 4,
 "nbformat_minor": 5
}
