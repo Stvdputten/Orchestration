{
 "cells": [
  {
   "cell_type": "code",
   "execution_count": 13,
   "id": "2ee85b46-bb95-4795-a60c-fc61eeecf76f",
   "metadata": {},
   "outputs": [],
   "source": [
    "import argparse\n",
    "import re\n",
    "import sys\n",
    "import pandas as pd\n",
    "import matplotlib.pyplot as plt\n",
    "import matplotlib.ticker as ticker\n",
    "import seaborn as sns\n",
    "import numpy as np\n",
    "\n",
    "# global settings\n",
    "fontsize=20"
   ]
  },
  {
   "cell_type": "code",
   "execution_count": 22,
   "id": "122fe609-7a39-42e8-9879-d4c34e9368d4",
   "metadata": {},
   "outputs": [],
   "source": [
    "!cp ../swarm-* ."
   ]
  },
  {
   "cell_type": "code",
   "execution_count": 27,
   "id": "c2e97d05-18f0-473f-90a3-ebb349f5d8c8",
   "metadata": {},
   "outputs": [],
   "source": [
    "!hdr-plot --save swarm-*"
   ]
  },
  {
   "cell_type": "code",
   "execution_count": 28,
   "id": "e4289bcf-87d2-4acd-b31e-2351c3fb41aa",
   "metadata": {},
   "outputs": [],
   "source": [
    "df = pd.read_csv('df-exp0.csv')\n",
    "df.head()\n",
    "df['Orchestrator'] = df['Orchestrator'].astype('category')\n",
    "df['Benchmark'] = df['Benchmark'].astype('category')\n",
    "df['Exp'] = df['Exp'].astype('category')"
   ]
  },
  {
   "cell_type": "code",
   "execution_count": 31,
   "id": "ce17386c-c295-4ff9-b76b-5d41efe2e774",
   "metadata": {},
   "outputs": [
    {
     "data": {
      "text/plain": [
       "(3, 18)"
      ]
     },
     "execution_count": 31,
     "metadata": {},
     "output_type": "execute_result"
    }
   ],
   "source": [
    "df.shape"
   ]
  },
  {
   "cell_type": "code",
   "execution_count": 16,
   "id": "768a5a78-2aa2-4e0b-9ab8-02f6bfbe2183",
   "metadata": {},
   "outputs": [
    {
     "data": {
      "text/html": [
       "<div>\n",
       "<style scoped>\n",
       "    .dataframe tbody tr th:only-of-type {\n",
       "        vertical-align: middle;\n",
       "    }\n",
       "\n",
       "    .dataframe tbody tr th {\n",
       "        vertical-align: top;\n",
       "    }\n",
       "\n",
       "    .dataframe thead th {\n",
       "        text-align: right;\n",
       "    }\n",
       "</style>\n",
       "<table border=\"1\" class=\"dataframe\">\n",
       "  <thead>\n",
       "    <tr style=\"text-align: right;\">\n",
       "      <th></th>\n",
       "      <th>Latency</th>\n",
       "      <th>Requests</th>\n",
       "      <th>Throughput</th>\n",
       "      <th>Baseline</th>\n",
       "      <th>Infinite</th>\n",
       "      <th>Availability</th>\n",
       "      <th>Horizontal</th>\n",
       "      <th>Vertical</th>\n",
       "      <th>Threads</th>\n",
       "      <th>Connections</th>\n",
       "      <th>Duration</th>\n",
       "      <th>Mean</th>\n",
       "      <th>Max</th>\n",
       "      <th>StdDev</th>\n",
       "      <th>ReqSec</th>\n",
       "    </tr>\n",
       "  </thead>\n",
       "  <tbody>\n",
       "    <tr>\n",
       "      <th>count</th>\n",
       "      <td>3.000000</td>\n",
       "      <td>3.0</td>\n",
       "      <td>3.0</td>\n",
       "      <td>3.0</td>\n",
       "      <td>3.0</td>\n",
       "      <td>3.0</td>\n",
       "      <td>3.0</td>\n",
       "      <td>3.0</td>\n",
       "      <td>3.0</td>\n",
       "      <td>3.0</td>\n",
       "      <td>3.0</td>\n",
       "      <td>3.000000</td>\n",
       "      <td>3.000000</td>\n",
       "      <td>3.000000</td>\n",
       "      <td>3.000000</td>\n",
       "    </tr>\n",
       "    <tr>\n",
       "      <th>mean</th>\n",
       "      <td>9.986667</td>\n",
       "      <td>200.0</td>\n",
       "      <td>5993.0</td>\n",
       "      <td>0.0</td>\n",
       "      <td>0.0</td>\n",
       "      <td>0.0</td>\n",
       "      <td>1.0</td>\n",
       "      <td>1.0</td>\n",
       "      <td>4.0</td>\n",
       "      <td>8.0</td>\n",
       "      <td>30.0</td>\n",
       "      <td>3.591333</td>\n",
       "      <td>22.178667</td>\n",
       "      <td>1.962667</td>\n",
       "      <td>199.733333</td>\n",
       "    </tr>\n",
       "    <tr>\n",
       "      <th>std</th>\n",
       "      <td>2.440744</td>\n",
       "      <td>0.0</td>\n",
       "      <td>0.0</td>\n",
       "      <td>0.0</td>\n",
       "      <td>0.0</td>\n",
       "      <td>0.0</td>\n",
       "      <td>0.0</td>\n",
       "      <td>0.0</td>\n",
       "      <td>0.0</td>\n",
       "      <td>0.0</td>\n",
       "      <td>0.0</td>\n",
       "      <td>0.902621</td>\n",
       "      <td>10.251932</td>\n",
       "      <td>0.807447</td>\n",
       "      <td>0.015275</td>\n",
       "    </tr>\n",
       "    <tr>\n",
       "      <th>min</th>\n",
       "      <td>7.970000</td>\n",
       "      <td>200.0</td>\n",
       "      <td>5993.0</td>\n",
       "      <td>0.0</td>\n",
       "      <td>0.0</td>\n",
       "      <td>0.0</td>\n",
       "      <td>1.0</td>\n",
       "      <td>1.0</td>\n",
       "      <td>4.0</td>\n",
       "      <td>8.0</td>\n",
       "      <td>30.0</td>\n",
       "      <td>2.550000</td>\n",
       "      <td>10.344000</td>\n",
       "      <td>1.433000</td>\n",
       "      <td>199.720000</td>\n",
       "    </tr>\n",
       "    <tr>\n",
       "      <th>25%</th>\n",
       "      <td>8.630000</td>\n",
       "      <td>200.0</td>\n",
       "      <td>5993.0</td>\n",
       "      <td>0.0</td>\n",
       "      <td>0.0</td>\n",
       "      <td>0.0</td>\n",
       "      <td>1.0</td>\n",
       "      <td>1.0</td>\n",
       "      <td>4.0</td>\n",
       "      <td>8.0</td>\n",
       "      <td>30.0</td>\n",
       "      <td>3.312000</td>\n",
       "      <td>19.100000</td>\n",
       "      <td>1.498000</td>\n",
       "      <td>199.725000</td>\n",
       "    </tr>\n",
       "    <tr>\n",
       "      <th>50%</th>\n",
       "      <td>9.290000</td>\n",
       "      <td>200.0</td>\n",
       "      <td>5993.0</td>\n",
       "      <td>0.0</td>\n",
       "      <td>0.0</td>\n",
       "      <td>0.0</td>\n",
       "      <td>1.0</td>\n",
       "      <td>1.0</td>\n",
       "      <td>4.0</td>\n",
       "      <td>8.0</td>\n",
       "      <td>30.0</td>\n",
       "      <td>4.074000</td>\n",
       "      <td>27.856000</td>\n",
       "      <td>1.563000</td>\n",
       "      <td>199.730000</td>\n",
       "    </tr>\n",
       "    <tr>\n",
       "      <th>75%</th>\n",
       "      <td>10.995000</td>\n",
       "      <td>200.0</td>\n",
       "      <td>5993.0</td>\n",
       "      <td>0.0</td>\n",
       "      <td>0.0</td>\n",
       "      <td>0.0</td>\n",
       "      <td>1.0</td>\n",
       "      <td>1.0</td>\n",
       "      <td>4.0</td>\n",
       "      <td>8.0</td>\n",
       "      <td>30.0</td>\n",
       "      <td>4.112000</td>\n",
       "      <td>28.096000</td>\n",
       "      <td>2.227500</td>\n",
       "      <td>199.740000</td>\n",
       "    </tr>\n",
       "    <tr>\n",
       "      <th>max</th>\n",
       "      <td>12.700000</td>\n",
       "      <td>200.0</td>\n",
       "      <td>5993.0</td>\n",
       "      <td>0.0</td>\n",
       "      <td>0.0</td>\n",
       "      <td>0.0</td>\n",
       "      <td>1.0</td>\n",
       "      <td>1.0</td>\n",
       "      <td>4.0</td>\n",
       "      <td>8.0</td>\n",
       "      <td>30.0</td>\n",
       "      <td>4.150000</td>\n",
       "      <td>28.336000</td>\n",
       "      <td>2.892000</td>\n",
       "      <td>199.750000</td>\n",
       "    </tr>\n",
       "  </tbody>\n",
       "</table>\n",
       "</div>"
      ],
      "text/plain": [
       "         Latency  Requests  Throughput  Baseline  Infinite  Availability  \\\n",
       "count   3.000000       3.0         3.0       3.0       3.0           3.0   \n",
       "mean    9.986667     200.0      5993.0       0.0       0.0           0.0   \n",
       "std     2.440744       0.0         0.0       0.0       0.0           0.0   \n",
       "min     7.970000     200.0      5993.0       0.0       0.0           0.0   \n",
       "25%     8.630000     200.0      5993.0       0.0       0.0           0.0   \n",
       "50%     9.290000     200.0      5993.0       0.0       0.0           0.0   \n",
       "75%    10.995000     200.0      5993.0       0.0       0.0           0.0   \n",
       "max    12.700000     200.0      5993.0       0.0       0.0           0.0   \n",
       "\n",
       "       Horizontal  Vertical  Threads  Connections  Duration      Mean  \\\n",
       "count         3.0       3.0      3.0          3.0       3.0  3.000000   \n",
       "mean          1.0       1.0      4.0          8.0      30.0  3.591333   \n",
       "std           0.0       0.0      0.0          0.0       0.0  0.902621   \n",
       "min           1.0       1.0      4.0          8.0      30.0  2.550000   \n",
       "25%           1.0       1.0      4.0          8.0      30.0  3.312000   \n",
       "50%           1.0       1.0      4.0          8.0      30.0  4.074000   \n",
       "75%           1.0       1.0      4.0          8.0      30.0  4.112000   \n",
       "max           1.0       1.0      4.0          8.0      30.0  4.150000   \n",
       "\n",
       "             Max    StdDev      ReqSec  \n",
       "count   3.000000  3.000000    3.000000  \n",
       "mean   22.178667  1.962667  199.733333  \n",
       "std    10.251932  0.807447    0.015275  \n",
       "min    10.344000  1.433000  199.720000  \n",
       "25%    19.100000  1.498000  199.725000  \n",
       "50%    27.856000  1.563000  199.730000  \n",
       "75%    28.096000  2.227500  199.740000  \n",
       "max    28.336000  2.892000  199.750000  "
      ]
     },
     "execution_count": 16,
     "metadata": {},
     "output_type": "execute_result"
    }
   ],
   "source": [
    "df.describe()"
   ]
  },
  {
   "cell_type": "code",
   "execution_count": 3,
   "id": "afbf77ed-2cef-4445-8efd-f05a22722755",
   "metadata": {},
   "outputs": [],
   "source": [
    "def plot_thr_req(tail_data, labels, legend_location,legend_fontsize=fontsize):\n",
    "    # general setup\n",
    "    fig, ax = plt.subplots(figsize=(16,8))\n",
    "\n",
    "    # create new relevant labels\n",
    "    data = pd.concat(tail_data)\n",
    "    data['filename'] = labels\n",
    "    data = data.sort_values(by='Requests').reset_index(drop=True)\n",
    "\n",
    "    # labels = data['Orchestrator'].unique() \n",
    "    labels = [\"swarm\",\"k8s\", \"nomad\"]\n",
    "    lines = [\"-\",\"--\",\"-.\",\":\"]\n",
    "    markers = [\"o\",\"v\",\"^\",\"<\",\">\",\"8\",\"s\",\"p\",\"*\",\"h\",\"H\",\"D\",\"d\",\"P\",\"X\"]\n",
    "    orchestrator = data['Orchestrator'].unique()[0]\n",
    "    benchmark = data['Benchmark'].unique()[0]\n",
    "\n",
    "    for mark, orch in enumerate(labels):\n",
    "        plot_data = data.loc[data['Orchestrator'] == orch]\n",
    "        ax.plot(plot_data['Requests'], plot_data['Throughput'], label=f\"{benchmark}-{orch}-baseline\", linestyle=lines[mark % len(markers)])\n",
    "\n",
    "    # set axis and legend\n",
    "    ax.grid()\n",
    "    ax.set_xlim(left=0)\n",
    "    ax.set_xlabel('Requests', fontsize=fontsize)\n",
    "    ax.set_ylabel('Throughput', fontsize=fontsize)\n",
    "    ax.set_title('Throughput versus Requests', fontsize=fontsize)\n",
    "\n",
    "    xticks = [int(tick) for tick in ax.get_xticks()]\n",
    "    plt.yticks(fontsize=fontsize)\n",
    "    plt.xticks(xticks, fontsize=fontsize)\n",
    "    plt.legend(loc=legend_location, fontsize=legend_fontsize)\n",
    "\n",
    "    return fig, ax"
   ]
  },
  {
   "cell_type": "code",
   "execution_count": 17,
   "id": "adc7e9cb-3adb-4bb6-963e-8d399ad094ae",
   "metadata": {},
   "outputs": [
    {
     "name": "stdout",
     "output_type": "stream",
     "text": [
      "0    200.0\n",
      "1    200.0\n",
      "2    200.0\n",
      "Name: Requests, dtype: float64 0    12.70\n",
      "1     9.29\n",
      "2     7.97\n",
      "Name: Latency, dtype: float64\n"
     ]
    }
   ],
   "source": [
    "print(df['Requests'], df['Latency'])"
   ]
  },
  {
   "cell_type": "code",
   "execution_count": 20,
   "id": "687fcc7b-9a0b-456a-9b55-553f5aa8a7c1",
   "metadata": {},
   "outputs": [
    {
     "data": {
      "text/plain": [
       "<AxesSubplot:xlabel='Requests', ylabel='Latency'>"
      ]
     },
     "execution_count": 20,
     "metadata": {},
     "output_type": "execute_result"
    },
    {
     "data": {
      "image/png": "[encoded data removed]",
      "text/plain": [
       "<Figure size 432x288 with 1 Axes>"
      ]
     },
     "metadata": {
      "needs_background": "light"
     },
     "output_type": "display_data"
    }
   ],
   "source": [
    "sns.barplot(x='Requests', y='Latency', hue='Benchmark', data=df)"
   ]
  },
  {
   "cell_type": "code",
   "execution_count": 21,
   "id": "2a50db45-e97f-4b4b-a20c-6ebc85b08492",
   "metadata": {},
   "outputs": [
    {
     "data": {
      "text/plain": [
       "<AxesSubplot:xlabel='Requests', ylabel='Latency'>"
      ]
     },
     "execution_count": 21,
     "metadata": {},
     "output_type": "execute_result"
    },
    {
     "data": {
      "image/png": "[encoded data removed]",
      "text/plain": [
       "<Figure size 432x288 with 1 Axes>"
      ]
     },
     "metadata": {
      "needs_background": "light"
     },
     "output_type": "display_data"
    }
   ],
   "source": [
    "sns.histplot(x='Requests', y='Latency', hue='Benchmark', data=df)"
   ]
  }
 ],
 "metadata": {
  "kernelspec": {
   "display_name": "Python 3 (ipykernel)",
   "language": "python",
   "name": "python3"
  },
  "language_info": {
   "codemirror_mode": {
    "name": "ipython",
    "version": 3
   },
   "file_extension": ".py",
   "mimetype": "text/x-python",
   "name": "python",
   "nbconvert_exporter": "python",
   "pygments_lexer": "ipython3",
   "version": "3.9.9"
  }
 },
 "nbformat": 4,
 "nbformat_minor": 5
}
